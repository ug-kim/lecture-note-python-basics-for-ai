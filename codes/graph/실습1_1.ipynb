{
  "nbformat": 4,
  "nbformat_minor": 0,
  "metadata": {
    "colab": {
      "name": "실습1-1.ipynb",
      "provenance": [],
      "collapsed_sections": []
    },
    "kernelspec": {
      "name": "python3",
      "display_name": "Python 3"
    }
  },
  "cells": [
    {
      "cell_type": "markdown",
      "metadata": {
        "id": "ELHe4WkmNi7v"
      },
      "source": [
        "**Lab 1-1 : Graph Basic**\r\n",
        "- Instuctor : Kijung Shin\r\n",
        "- Teaching Assistants : Deukryeol Yoon(main), Hyunju Lee, Shinhwan Kang \r\n",
        "- 본 실습에서는 그래프를 컴퓨터 상에서 다루는 기초적인 방법을 배운다.\r\n"
      ]
    },
    {
      "cell_type": "code",
      "metadata": {
        "colab": {
          "base_uri": "https://localhost:8080/"
        },
        "id": "GoyYLpCW5wKd",
        "outputId": "d14b1d59-a658-4a84-bd51-1f7cc12d7b04"
      },
      "source": [
        "from google.colab import drive\n",
        "drive.mount('/content/drive')"
      ],
      "execution_count": 1,
      "outputs": [
        {
          "output_type": "stream",
          "text": [
            "Mounted at /content/drive\n"
          ],
          "name": "stdout"
        }
      ]
    },
    {
      "cell_type": "code",
      "metadata": {
        "id": "5wBs1FcZN8lt"
      },
      "source": [
        "# 실습에 필요한 library를 임포트합니다.\r\n",
        "import networkx as nx                           # NetworkX\r\n",
        "import numpy as np                              # 선형대수를 위한 라이브러리\r\n",
        "import matplotlib.pyplot as plt                 # 그림을 그리기 위한 라이브러리\r\n",
        "import sys\r\n",
        "np.set_printoptions(threshold=sys.maxsize)      "
      ],
      "execution_count": 3,
      "outputs": []
    },
    {
      "cell_type": "code",
      "metadata": {
        "id": "5HaZbl3YN5X8",
        "colab": {
          "base_uri": "https://localhost:8080/"
        },
        "outputId": "7fabaca3-9620-4c12-99dc-44d47b7ed00b"
      },
      "source": [
        "# 그래프를 생성하고 촐기화\r\n",
        "print(\"###### Graph Init ######\")               \r\n",
        "G= nx.Graph()                                   # 방향성이 없는 그래프\r\n",
        "DiGraph = nx.DiGraph()                          # 방향성이 있는 그래프"
      ],
      "execution_count": 7,
      "outputs": [
        {
          "output_type": "stream",
          "text": [
            "###### Graph Init ######\n"
          ],
          "name": "stdout"
        }
      ]
    },
    {
      "cell_type": "code",
      "metadata": {
        "colab": {
          "base_uri": "https://localhost:8080/"
        },
        "id": "2HqTFL81b1Yj",
        "outputId": "7be487f8-e686-4660-d0b7-14e384be9956"
      },
      "source": [
        "# 정점을 추가하고, 정점의 수를 세고, 목록을 반환\r\n",
        "print(\"###### Add Node to Graph ######\")                    \r\n",
        "print(\"# Add node 1\")                                      \r\n",
        "G.add_node(1)                                               # 정점 1 추가\r\n",
        "print(\"Num of nodes in G : \" + str(G.number_of_nodes()))    # 정점의 수 반환\r\n",
        "print(\"Graph : \" + str(G.nodes)+ \"\\n\")                      # 정점의 목록 반환"
      ],
      "execution_count": 8,
      "outputs": [
        {
          "output_type": "stream",
          "text": [
            "###### Add Node to Graph ######\n",
            "# Add node 1\n",
            "Num of nodes in G : 1\n",
            "Graph : [1]\n",
            "\n"
          ],
          "name": "stdout"
        }
      ]
    },
    {
      "cell_type": "code",
      "metadata": {
        "colab": {
          "base_uri": "https://localhost:8080/"
        },
        "id": "4ek4x0xFdbEa",
        "outputId": "c07ecd4a-fc9f-4fff-bfad-6fafe3a8065c"
      },
      "source": [
        "# 더 많은 정점을 추가한다\r\n",
        "print(\"# Add vertex 2 ~ 10\")                                # 정점 2 ~ 10 추가\r\n",
        "for i in range (2, 11):  # (1, 11)해도 잘 동작\r\n",
        "    G.add_node(i)\r\n",
        "print(\"Num of nodes in G : \" + str(G.number_of_nodes()))\r\n",
        "print(\"Graph : \" + str(G.nodes) + \"\\n\")"
      ],
      "execution_count": 9,
      "outputs": [
        {
          "output_type": "stream",
          "text": [
            "# Add vertex 2 ~ 10\n",
            "Num of nodes in G : 10\n",
            "Graph : [1, 2, 3, 4, 5, 6, 7, 8, 9, 10]\n",
            "\n"
          ],
          "name": "stdout"
        }
      ]
    },
    {
      "cell_type": "code",
      "metadata": {
        "colab": {
          "base_uri": "https://localhost:8080/"
        },
        "id": "MF5Pr2bsdjrq",
        "outputId": "5f44e86b-6c41-4df1-bc2c-822582fca90a"
      },
      "source": [
        "# 간선을 추가하고 목록을 반환\r\n",
        "print(\"###### Add Edge to Graph ######\")                    \r\n",
        "G = nx.Graph()\r\n",
        "print(\"#Add edge (1, 2)\")                                   \r\n",
        "G.add_edge(1, 2)                                            # 정점 1과 2 사이에 간선 추가\r\n",
        "print(\"Graph : \" + str(G.edges) + \"\\n\")                     # 간선의 목록 반환"
      ],
      "execution_count": 10,
      "outputs": [
        {
          "output_type": "stream",
          "text": [
            "###### Add Edge to Graph ######\n",
            "#Add edge (1, 2)\n",
            "Graph : [(1, 2)]\n",
            "\n"
          ],
          "name": "stdout"
        }
      ]
    },
    {
      "cell_type": "code",
      "metadata": {
        "colab": {
          "base_uri": "https://localhost:8080/"
        },
        "id": "a7zrRb46eX4w",
        "outputId": "ec100d09-5d14-4358-8a7f-1e32f5b1b6ce"
      },
      "source": [
        "# 더 많은 간선 추가\r\n",
        "print(\"#Add edge (1, i) for i = 2 ~ 10\")                    # 정점 1과 다른 정점 사이의 간선 추가\r\n",
        "for i in range (2, 11):\r\n",
        "    G.add_edge(1, i)\r\n",
        "print(\"Graph : \" + str(G.edges) + \"\\n\")"
      ],
      "execution_count": 11,
      "outputs": [
        {
          "output_type": "stream",
          "text": [
            "#Add edge (1, i) for i = 2 ~ 10\n",
            "Graph : [(1, 2), (1, 3), (1, 4), (1, 5), (1, 6), (1, 7), (1, 8), (1, 9), (1, 10)]\n",
            "\n"
          ],
          "name": "stdout"
        }
      ]
    },
    {
      "cell_type": "code",
      "metadata": {
        "colab": {
          "base_uri": "https://localhost:8080/",
          "height": 248
        },
        "id": "0yJA5jg8efSo",
        "outputId": "72b1eac3-874e-4998-b053-0256e9cc9fdd"
      },
      "source": [
        "# 그래프를 시각화\r\n",
        "\r\n",
        "# 정점의 위치 결정\r\n",
        "# 그래프 시각화할 때는 정점의 위치 매우 중요\r\n",
        "# 정점의 위치를 임의로 결정하면 굉장히 선들이 복잡하게 연결\r\n",
        "# 간선들이 서로 겹치지 않게 이쁘게 그리기 위해서는, 정점들의 위치 신중하게 결정\r\n",
        "# 그 역할을 하는 것이 spring_layout() 함수\r\n",
        "pos = nx.spring_layout(G)                                               \r\n",
        "\r\n",
        "# 정점의 색과 크기를 지정하여 출력\r\n",
        "im = nx.draw_networkx_nodes(G, pos, node_color=\"red\", node_size=100)    \r\n",
        "\r\n",
        "# 간선 출력\r\n",
        "nx.draw_networkx_edges(G, pos)                                          \r\n",
        "\r\n",
        "# 각 정점의 라벨을 출력\r\n",
        "nx.draw_networkx_labels(G, pos, font_size=10, font_color=\"black\")       \r\n",
        "plt.show()"
      ],
      "execution_count": 12,
      "outputs": [
        {
          "output_type": "display_data",
          "data": {
            "image/png": "[encoded data removed]",
            "text/plain": [
              "<Figure size 432x288 with 1 Axes>"
            ]
          },
          "metadata": {
            "tags": []
          }
        }
      ]
    },
    {
      "cell_type": "code",
      "metadata": {
        "id": "_bB4psRk7gsv"
      },
      "source": [
        "# 1번 정점과 나머지 정점들을 연결하는 간선들 추가했다\r\n",
        "# spring_layout으로 정점들의 위치 신중하게 결정 - 간선들이 서로 겹치지 않고 예쁜 모양으로 출력"
      ],
      "execution_count": null,
      "outputs": []
    }
  ]
}