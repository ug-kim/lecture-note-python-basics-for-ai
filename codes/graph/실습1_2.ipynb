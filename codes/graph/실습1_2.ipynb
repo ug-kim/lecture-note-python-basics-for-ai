{
  "nbformat": 4,
  "nbformat_minor": 0,
  "metadata": {
    "colab": {
      "name": "실습1-2.ipynb",
      "provenance": [],
      "collapsed_sections": []
    },
    "kernelspec": {
      "name": "python3",
      "display_name": "Python 3"
    }
  },
  "cells": [
    {
      "cell_type": "markdown",
      "metadata": {
        "id": "NbktdZHHN39k"
      },
      "source": [
        "**Lab 1-2 : Graph Representation**\r\n",
        "- Instuctor : Kijung Shin\r\n",
        "- Teaching Assistants : Deukryeol Yoon(main), Hyunju Lee, Shinhwan Kang \r\n",
        "- 본 실습에서는 그래프를 표현할 수 있는 다양한 방법에 대해서 알아본다.\r\n"
      ]
    },
    {
      "cell_type": "code",
      "metadata": {
        "id": "DkyLF9r4fiLl"
      },
      "source": [
        "import networkx as nx\r\n",
        "import os                                   \r\n",
        "import os.path as osp                       \r\n",
        "import numpy as np\r\n",
        "import sys\r\n",
        "from google.colab import drive\r\n",
        "G = nx.Graph()"
      ],
      "execution_count": 1,
      "outputs": []
    },
    {
      "cell_type": "code",
      "metadata": {
        "colab": {
          "base_uri": "https://localhost:8080/"
        },
        "id": "RZhBeHbAjYvX",
        "outputId": "2b6a0385-4ead-4b49-8491-cade48947493"
      },
      "source": [
        "drive.mount('/content/drive')\r\n",
        "np.set_printoptions(threshold=sys.maxsize)"
      ],
      "execution_count": 5,
      "outputs": [
        {
          "output_type": "stream",
          "text": [
            "Drive already mounted at /content/drive; to attempt to forcibly remount, call drive.mount(\"/content/drive\", force_remount=True).\n"
          ],
          "name": "stdout"
        }
      ]
    },
    {
      "cell_type": "code",
      "metadata": {
        "colab": {
          "base_uri": "https://localhost:8080/"
        },
        "id": "e2BjEZj0hfWh",
        "outputId": "db8c1399-7a4f-4bd7-c0fa-f1cae16b2099"
      },
      "source": [
        "# 10개의 node로 이루어진, 원 모양의 그래프 정보를 가져옵니다.\r\n",
        "# 각 데이터셋은 edge 형태로 저장되어 있습니다.\r\n",
        "print(\"###### Read Graphs ######\")\r\n",
        "data = osp.abspath(osp.join(os.getcwd(), 'drive/MyDrive/data/lab/lab1/small_cycle.txt'))\r\n",
        "\r\n",
        "f = open(data)\r\n",
        "for line in f:                                                               # 파일의 각 라인은 v1 v2 형태로 저장되어있습니다.\r\n",
        "\tv1, v2 = list(map(int, line.split()))                                      # 각 라인을 읽어 space를 기준으로 split해주고 이를 integer mapping해줍니다.\r\n",
        "\tG.add_edge(v1, v2)\r\n",
        " \r\n",
        " \r\n",
        "print(G.edges)"
      ],
      "execution_count": 3,
      "outputs": [
        {
          "output_type": "stream",
          "text": [
            "###### Read Graphs ######\n",
            "[(1, 2), (1, 10), (2, 3), (3, 4), (4, 5), (5, 6), (6, 7), (7, 8), (8, 9), (9, 10)]\n"
          ],
          "name": "stdout"
        }
      ]
    },
    {
      "cell_type": "code",
      "metadata": {
        "colab": {
          "base_uri": "https://localhost:8080/"
        },
        "id": "GgFqyeCBj1qL",
        "outputId": "f0dd2292-4ebe-4c25-a40a-7dd4d234550e"
      },
      "source": [
        "# 그래프를 인접 리스트로 저장\r\n",
        "print(\"###### Graph to List ######\")                                     \r\n",
        "ListGraph = nx.to_dict_of_lists(G)\r\n",
        "for v in ListGraph:\r\n",
        "    print(str(v) + \" : \" + str(ListGraph[v]))"
      ],
      "execution_count": 6,
      "outputs": [
        {
          "output_type": "stream",
          "text": [
            "###### Graph to List ######\n",
            "1 : [2, 10]\n",
            "2 : [1, 3]\n",
            "3 : [2, 4]\n",
            "4 : [3, 5]\n",
            "5 : [4, 6]\n",
            "6 : [5, 7]\n",
            "7 : [6, 8]\n",
            "8 : [7, 9]\n",
            "9 : [8, 10]\n",
            "10 : [9, 1]\n"
          ],
          "name": "stdout"
        }
      ]
    },
    {
      "cell_type": "code",
      "metadata": {
        "colab": {
          "base_uri": "https://localhost:8080/"
        },
        "id": "_OGDOnBIj3Vf",
        "outputId": "ed291218-4360-45f1-c496-9d2aebb51e45"
      },
      "source": [
        "# 그래프를 간선 리스트로 저장\r\n",
        "print(\"###### Graph to EdgeList ######\")                                  \r\n",
        "EdgeListGraph = nx.to_edgelist(G)                                     \r\n",
        "for e in EdgeListGraph:\r\n",
        "    v1, v2, w = e\r\n",
        "    print(v1, v2)"
      ],
      "execution_count": 7,
      "outputs": [
        {
          "output_type": "stream",
          "text": [
            "###### Graph to EdgeList ######\n",
            "1 2\n",
            "1 10\n",
            "2 3\n",
            "3 4\n",
            "4 5\n",
            "5 6\n",
            "6 7\n",
            "7 8\n",
            "8 9\n",
            "9 10\n"
          ],
          "name": "stdout"
        }
      ]
    },
    {
      "cell_type": "code",
      "metadata": {
        "colab": {
          "base_uri": "https://localhost:8080/"
        },
        "id": "tv7_ixfRlIXf",
        "outputId": "c0beacfc-9b42-4a3f-d0aa-f7a11732d56d"
      },
      "source": [
        "# 그래프를 인접 행렬(일반 행렬)로 저장\r\n",
        "print(\"###### Graph to numpy array ######\")\r\n",
        "NumpyArrayGraph = nx.to_numpy_array(G)                                    \r\n",
        "print(NumpyArrayGraph)"
      ],
      "execution_count": 8,
      "outputs": [
        {
          "output_type": "stream",
          "text": [
            "###### Graph to numpy array ######\n",
            "[[0. 1. 0. 0. 0. 0. 0. 0. 0. 1.]\n",
            " [1. 0. 1. 0. 0. 0. 0. 0. 0. 0.]\n",
            " [0. 1. 0. 1. 0. 0. 0. 0. 0. 0.]\n",
            " [0. 0. 1. 0. 1. 0. 0. 0. 0. 0.]\n",
            " [0. 0. 0. 1. 0. 1. 0. 0. 0. 0.]\n",
            " [0. 0. 0. 0. 1. 0. 1. 0. 0. 0.]\n",
            " [0. 0. 0. 0. 0. 1. 0. 1. 0. 0.]\n",
            " [0. 0. 0. 0. 0. 0. 1. 0. 1. 0.]\n",
            " [0. 0. 0. 0. 0. 0. 0. 1. 0. 1.]\n",
            " [1. 0. 0. 0. 0. 0. 0. 0. 1. 0.]]\n"
          ],
          "name": "stdout"
        }
      ]
    },
    {
      "cell_type": "code",
      "metadata": {
        "colab": {
          "base_uri": "https://localhost:8080/"
        },
        "id": "BEKbfomjlZU-",
        "outputId": "8b677d02-9084-4507-ce42-d402fa32742e"
      },
      "source": [
        "# 그래프를 인접 행렬(희소 행렬)로 저장\r\n",
        "print(\"###### Graph to Spicy sparse matrix ######\")\r\n",
        "SparseMatrixGraph = nx.to_scipy_sparse_matrix(G)                       \r\n",
        "print(SparseMatrixGraph)"
      ],
      "execution_count": 9,
      "outputs": [
        {
          "output_type": "stream",
          "text": [
            "###### Graph to Spicy sparse matrix ######\n",
            "  (0, 1)\t1\n",
            "  (0, 9)\t1\n",
            "  (1, 0)\t1\n",
            "  (1, 2)\t1\n",
            "  (2, 1)\t1\n",
            "  (2, 3)\t1\n",
            "  (3, 2)\t1\n",
            "  (3, 4)\t1\n",
            "  (4, 3)\t1\n",
            "  (4, 5)\t1\n",
            "  (5, 4)\t1\n",
            "  (5, 6)\t1\n",
            "  (6, 5)\t1\n",
            "  (6, 7)\t1\n",
            "  (7, 6)\t1\n",
            "  (7, 8)\t1\n",
            "  (8, 7)\t1\n",
            "  (8, 9)\t1\n",
            "  (9, 0)\t1\n",
            "  (9, 8)\t1\n"
          ],
          "name": "stdout"
        }
      ]
    },
    {
      "cell_type": "code",
      "metadata": {
        "id": "UOlfAVowJjFD"
      },
      "source": [
        ""
      ],
      "execution_count": null,
      "outputs": []
    }
  ]
}