{
  "nbformat": 4,
  "nbformat_minor": 0,
  "metadata": {
    "colab": {
      "name": "실습2_solution.ipynb",
      "provenance": [],
      "collapsed_sections": []
    },
    "kernelspec": {
      "name": "python3",
      "display_name": "Python 3"
    }
  },
  "cells": [
    {
      "cell_type": "markdown",
      "metadata": {
        "id": "B_U0b-ymNYjP"
      },
      "source": [
        "\r\n",
        "**Lab 2 : Graph Property**\r\n",
        "- Instuctor : Kijung Shin\r\n",
        "- Teaching Assistants : Deukryeol Yoon(main), Hyunju Lee, Shinhwan Kang \r\n",
        "- 본 실습에서는 그래프의 다양한 특성 중 그래프 지름, 전역 군집 계수, 차수 분포를 배우고, 수업에서 배운 small world graph의 그래프 특성을 알아본다.\r\n",
        "\r\n"
      ]
    },
    {
      "cell_type": "code",
      "metadata": {
        "id": "c78l5uW7NblO",
        "colab": {
          "base_uri": "https://localhost:8080/"
        },
        "outputId": "1773cbf1-9f1c-40e5-95f4-36606b7a9b0b"
      },
      "source": [
        "from google.colab import drive\r\n",
        "drive.mount('/content/drive')"
      ],
      "execution_count": 1,
      "outputs": [
        {
          "output_type": "stream",
          "text": [
            "Mounted at /content/drive\n"
          ],
          "name": "stdout"
        }
      ]
    },
    {
      "cell_type": "code",
      "metadata": {
        "id": "qEI5BI2onH4v"
      },
      "source": [
        "# Lab 2 : Graph Property\r\n",
        "# - Instuctor : Kijung Shin\r\n",
        "# - Teaching Assistants : Deukryeol Yoon(main), Hyunju Lee, Shinhwan Kang \r\n",
        "# 본 실습에서는 그래프의 다양한 특성 중 Diameter, Average Clustering Coefficient, Degree Distribution을 배우고. \r\n",
        "# 수업에서 배운 small world graph의 그래프 특성을 알아본다.\r\n",
        "\r\n",
        "# 실습에 필요한 library를 import하고 그래프를 초기화합니다.\r\n",
        "import networkx as nx\r\n",
        "import os\r\n",
        "import os.path as osp\r\n",
        "import numpy as np\r\n",
        "import sys\r\n",
        "import matplotlib.pyplot as plt\r\n",
        "import collections\r\n",
        "np.set_printoptions(threshold=sys.maxsize)\r\n",
        "\r\n",
        "# 방향성 없는 그래프\r\n",
        "cycle_graph = nx.Graph()\r\n",
        "regular_graph = nx.Graph()\r\n",
        "small_world_graph = nx.Graph()\r\n",
        "random_graph = nx.Graph()"
      ],
      "execution_count": 2,
      "outputs": []
    },
    {
      "cell_type": "code",
      "metadata": {
        "colab": {
          "base_uri": "https://localhost:8080/"
        },
        "id": "EcA9t2EJnxz-",
        "outputId": "83f8d158-9687-44eb-cf45-fef9c27a9d16"
      },
      "source": [
        "# 실습에 사용할 데이터를 읽어옵니다.\r\n",
        "print(\"###### Read Graphs ######\")\r\n",
        "data = osp.abspath(osp.join(os.getcwd(), 'drive/MyDrive/data/lab/lab2/cycle.txt'))\r\n",
        "f = open(data)\r\n",
        "for line in f:\r\n",
        "    v1, v2 = map(int, line.split())\r\n",
        "    cycle_graph.add_edge(v1, v2)\r\n",
        "\r\n",
        "# 균일 그래프\r\n",
        "# 간선 리스트 형태 - 파일의 각 줄은 하나의 간선 의미\r\n",
        "# 파일의 각 줄은 두 개의 정수로 구성\r\n",
        "# 두 개의 정수가 간선에 의해 연결되는 두 개의 정점을 의미한다\r\n",
        "data = osp.abspath(osp.join(os.getcwd(), 'drive/MyDrive/data/lab/lab2/regular.txt'))\r\n",
        "f = open(data)\r\n",
        "for line in f:\r\n",
        "    v1, v2 = map(int, line.split())\r\n",
        "    regular_graph.add_edge(v1, v2)  # 간선을 그래프 객체에 추가\r\n",
        "\r\n",
        "# 작은 세상 그래프\r\n",
        "data = osp.abspath(osp.join(os.getcwd(), 'drive/MyDrive/data/lab/lab2/small_world.txt'))\r\n",
        "f = open(data)\r\n",
        "for line in f:\r\n",
        "    v1, v2, = map(int, line.split())\r\n",
        "    small_world_graph.add_edge(v1, v2)\r\n",
        "\r\n",
        "# random graph\r\n",
        "data = osp.abspath(osp.join(os.getcwd(), 'drive/MyDrive/data/lab/lab2/random.txt'))\r\n",
        "f = open(data)\r\n",
        "for line in f:\r\n",
        "    v1, v2 = map(int, line.split())\r\n",
        "    random_graph.add_edge(v1, v2)"
      ],
      "execution_count": 3,
      "outputs": [
        {
          "output_type": "stream",
          "text": [
            "###### Read Graphs ######\n"
          ],
          "name": "stdout"
        }
      ]
    },
    {
      "cell_type": "code",
      "metadata": {
        "id": "XUV9U8Mg6cWa"
      },
      "source": [
        "# 그래프의 전역 군집 계수를 찾는 함수입니다.\r\n",
        "#\r\n",
        "# 특정 정점 u의 정점 계수(cc)는 아래와 같이 구할 수 있습니다.\r\n",
        "# cc(u) = 2T(u)/(deg(u) * (deg(u) - 1))\r\n",
        "#   - cc(u) : 정점 u의 군집계수\r\n",
        "#   - T(u)  : 정점 u가 들어있는 삼각형 개수\r\n",
        "#   - deg(u): 정점 u의 차수 (degree)\r\n",
        "#\r\n",
        "# 그리고 전역 군집 계수는 모든 node의 cc(u)의 평균을 의미합니다.\r\n",
        "# 전역 군집 계수\r\n",
        "# avg_cc(G) = sigma(u in G) cc(u) / n\r\n",
        "#   - avg_cc(G) : 그래프 G의 전역 군집 계수\r\n",
        "#   - n         : 그래프 G의 정점 개수\r\n",
        "\r\n",
        "# 전역 군집 계수는 지역 군집 계수의 평균으로 계산\r\n",
        "# 각 정점 v에 대해 지역 군집 계수 먼저 계산해야 한다\r\n",
        "# ccs에 지역 군집 계수 추가해준다\r\n",
        "\r\n",
        "def getGraphAverageClusteringCoefficient(Graph):\r\n",
        "    ccs = []\r\n",
        "    # v의 지역 군집 계수 계산\r\n",
        "    for v in Graph.nodes:\r\n",
        "        num_connected_pairs = 0\r\n",
        "        # Graph.neighbors(v) - v 정점의 이웃들의 목록\r\n",
        "        for neighbor1 in Graph.neighbors(v):\r\n",
        "            for neighbor2 in Graph.neighbors(v):\r\n",
        "                # 같은 정점 쌍 여러번 고려하지 않기 위해\r\n",
        "                # (1, 2)와 (2, 1)은 같은 경우이므로\r\n",
        "                if neighbor1 <= neighbor2:\r\n",
        "                    continue\r\n",
        "                # has_edge - 간선이 존재하는지 여부\r\n",
        "                if Graph.has_edge(neighbor1, neighbor2):\r\n",
        "                    num_connected_pairs = num_connected_pairs + 1\r\n",
        "        # cc : 지역적 군집계수\r\n",
        "        # num_connected_pairs : 이웃 쌍 중에서 실제로 간선으로 직접 연결된 것의 수\r\n",
        "        # (Graph.degree(v) * (Graph.degree(v) - 1) / 2 : 이웃들의 쌍의 수\r\n",
        "        # 정점 v는 연결성 dv만큼 가진다\r\n",
        "        # 이웃들의 쌍의 수는 dvC2 = (Graph.degree(v) * (Graph.degree(v) - 1) / 2\r\n",
        "        cc = num_connected_pairs / (Graph.degree(v) * (Graph.degree(v) - 1) / 2)\r\n",
        "        ccs.append(cc)\r\n",
        "    return sum(ccs) / len(ccs)"
      ],
      "execution_count": 4,
      "outputs": []
    },
    {
      "cell_type": "code",
      "metadata": {
        "id": "vAcilKNwosif"
      },
      "source": [
        "# 본 실습에서는 그래프의 다양한 특성 중 그래프 지름과 전역 군집 계수를 분석해봅니다.\n",
        "# 그래프에서 Diameter, Average Clustering Coefficient를 찾는 알고리즘을 구현하고, networkx에서 제공하는 라이브러리와 결과를 비교해봅시다.\n",
        "\n",
        "# 그래프의 지름을 찾는 함수입니다.\n",
        "# Definition. Graph Diameter\n",
        "#   The graph diameter of a graph is the length max(u,v)d(u,v) of the \"longest shortest path between any two graph vertices (u,v), where d(u,v) is a graph distance.\n",
        "\n",
        "# 지름 - 거리가 가장 먼 정점 상의 거리\n",
        "# 모든 정점 쌍의 거리 계산해서, 가장 긴 것 찾는다\n",
        "def getGraphDiameter(Graph):\n",
        "    diameter = 0                                                      # 알고리즘을 시작하기 앞서 diameter 값을 0으로 초기화합니다.\n",
        "    # 모든 정점에 대해 반복\n",
        "    for v in Graph.nodes:                                             # 그래프의 모든 점점들 대해서 아래와 같은 반복문을 수행합니다.\n",
        "        # 출발점(v)과 다른 정점들 사이 거리 저장\n",
        "        length = nx.single_source_shortest_path_length(Graph, v)      #   1. 정점 v로 부터 다른 모든 정점으로 shortest path length를 찾습니다. \n",
        "        # v와 가장 거리가 먼 정점 사이 거리 반환\n",
        "        max_length = max(length.values())                             #   2. 그리고 shortest path length 중 최댓값을 구합니다.\n",
        "        if max_length > diameter:                                     #   3. 2에서 구한 값이 diameter보다 크다면 diameter를 그 값으로 업데이트 합니다.\n",
        "            diameter = max_length\n",
        "    return diameter                                                   # 반복문을 돌고 나온 diameter를 return합니다."
      ],
      "execution_count": 5,
      "outputs": []
    },
    {
      "cell_type": "code",
      "metadata": {
        "colab": {
          "base_uri": "https://localhost:8080/"
        },
        "id": "5V35tik7-uCp",
        "outputId": "653c66aa-f8b7-442f-c784-fc423297a803"
      },
      "source": [
        "# 아래는 위의 함수로 구한 그래프 지름 및 전역 군집 계수 값과 networkX에서 지원하는 library로 구한 값을 비교해봅니다.\r\n",
        "#\r\n",
        "#                   |     그래프 지름        |     전역 군집 계수\r\n",
        "# ------------------+------------------------------------------------------------                    \r\n",
        "# Regular Graph     |         High           |              High\r\n",
        "# Small World Graph |         Low            |              High\r\n",
        "# Random Graph      |         Low            |              Low\r\n",
        "#\r\n",
        "print(\"1. Graph Diameter\")\r\n",
        "print(\"cycle graph : \" + str(nx.diameter(cycle_graph)))\r\n",
        "print(\"cycle graph : \" + str(getGraphDiameter(cycle_graph)))\r\n",
        "\r\n",
        "print(\"regular graph : \" + str(nx.diameter(regular_graph)))\r\n",
        "print(\"regular graph : \" + str(getGraphDiameter(regular_graph)))\r\n",
        "\r\n",
        "print(\"small world graph : \" + str(nx.diameter(small_world_graph)))\r\n",
        "print(\"small world graph : \" + str(getGraphDiameter(small_world_graph)))\r\n",
        "\r\n",
        "print(\"random graph : \" + str(nx.diameter(random_graph)))\r\n",
        "print(\"random graph : \" + str(getGraphDiameter(random_graph)) + \"\\n\")\r\n",
        "\r\n",
        "print(\"2. Average Clustering Coefficient\")\r\n",
        "print(\"cycle graph : \" + str(nx.average_clustering(cycle_graph)))\r\n",
        "print(\"cycle graph : \" + str(getGraphAverageClusteringCoefficient(cycle_graph)))\r\n",
        "print(\"regular graph : \" + str(nx.average_clustering(regular_graph)))\r\n",
        "print(\"regular graph : \" + str(getGraphAverageClusteringCoefficient(regular_graph)))\r\n",
        "\r\n",
        "print(\"small world graph : \" + str(nx.average_clustering(small_world_graph)))\r\n",
        "print(\"small world graph : \" + str(getGraphAverageClusteringCoefficient(small_world_graph)))\r\n",
        "\r\n",
        "\r\n",
        "print(\"random graph : \" + str(nx.average_clustering(random_graph)))\r\n",
        "print(\"random graph : \" + str(getGraphAverageClusteringCoefficient(random_graph)) + \"\\n\")"
      ],
      "execution_count": 6,
      "outputs": [
        {
          "output_type": "stream",
          "text": [
            "1. Graph Diameter\n",
            "cycle graph : 15\n",
            "cycle graph : 15\n",
            "regular graph : 8\n",
            "regular graph : 8\n",
            "small world graph : 6\n",
            "small world graph : 6\n",
            "random graph : 5\n",
            "random graph : 5\n",
            "\n",
            "2. Average Clustering Coefficient\n",
            "cycle graph : 0.0\n",
            "cycle graph : 0.0\n",
            "regular graph : 0.5\n",
            "regular graph : 0.5\n",
            "small world graph : 0.42555555555555563\n",
            "small world graph : 0.42555555555555563\n",
            "random graph : 0.027777777777777776\n",
            "random graph : 0.027777777777777776\n",
            "\n"
          ],
          "name": "stdout"
        }
      ]
    },
    {
      "cell_type": "code",
      "metadata": {
        "colab": {
          "base_uri": "https://localhost:8080/",
          "height": 297
        },
        "id": "Nb5B_6X8_63o",
        "outputId": "bf984978-dec8-4514-c0bc-488c8fc12b9c"
      },
      "source": [
        "# 그래프의 차수 분포을 그리는 부분입니다.\r\n",
        "print(\"3. Degree Distribution\")\r\n",
        "degree_sequence = sorted([d for n, d in random_graph.degree()], reverse = True)\r\n",
        "degreeCount = collections.Counter(degree_sequence)\r\n",
        "deg, cnt = zip(*degreeCount.items())\r\n",
        "plt.bar(deg, cnt, color=\"b\")\r\n",
        "plt.xlabel('degree')\r\n",
        "plt.ylabel('number of vertices')\r\n",
        "plt.xticks([2, 3, 4])\r\n",
        "plt.show()\r\n"
      ],
      "execution_count": 7,
      "outputs": [
        {
          "output_type": "stream",
          "text": [
            "3. Degree Distribution\n"
          ],
          "name": "stdout"
        },
        {
          "output_type": "display_data",
          "data": {
            "image/png": "[encoded data removed]",
            "text/plain": [
              "<Figure size 432x288 with 1 Axes>"
            ]
          },
          "metadata": {
            "tags": [],
            "needs_background": "light"
          }
        }
      ]
    },
    {
      "cell_type": "code",
      "metadata": {
        "id": "9X4VaA6f_5by"
      },
      "source": [
        ""
      ],
      "execution_count": null,
      "outputs": []
    }
  ]
}