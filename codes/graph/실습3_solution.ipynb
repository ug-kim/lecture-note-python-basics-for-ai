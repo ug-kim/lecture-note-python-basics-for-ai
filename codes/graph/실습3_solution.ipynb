{
  "nbformat": 4,
  "nbformat_minor": 0,
  "metadata": {
    "colab": {
      "name": "실습3_solution.ipynb",
      "provenance": [],
      "collapsed_sections": []
    },
    "kernelspec": {
      "name": "python3",
      "display_name": "Python 3"
    }
  },
  "cells": [
    {
      "cell_type": "markdown",
      "metadata": {
        "id": "oeJLRysVMpYf"
      },
      "source": [
        "**Lab 3 : PageRank**\r\n",
        "- Instuctor : Kijung Shin\r\n",
        "- Teaching Assistants : Deukryeol Yoon(main), Hyunju Lee, Shinhwan Kang\r\n",
        "- 본 실습에서는 PageRank 알고리즘에 대해서 배운다."
      ]
    },
    {
      "cell_type": "code",
      "metadata": {
        "id": "tKbU4xZXCLbd",
        "colab": {
          "base_uri": "https://localhost:8080/"
        },
        "outputId": "f5cab689-ece1-4bc6-f870-dc551cd9089f"
      },
      "source": [
        "# -*- coding: utf-8 -*-\r\n",
        "\r\n",
        "# 실습에 필요한 library를 import하고 그래프를 초기화합니다.\r\n",
        "import networkx as nx  # 네트워크 분석\r\n",
        "import os\r\n",
        "import os.path as osp\r\n",
        "import numpy as np  # 선형대수\r\n",
        "import sys\r\n",
        "import matplotlib.pyplot as plt  # plot 그리기 위해\r\n",
        "import collections\r\n",
        "from google.colab import drive\r\n",
        "drive.mount('/content/drive')\r\n",
        "np.set_printoptions(threshold=sys.maxsize)\r\n",
        "\r\n",
        "\r\n",
        "G = nx.DiGraph()"
      ],
      "execution_count": 1,
      "outputs": [
        {
          "output_type": "stream",
          "text": [
            "Mounted at /content/drive\n"
          ],
          "name": "stdout"
        }
      ]
    },
    {
      "cell_type": "code",
      "metadata": {
        "id": "Cyupgqp6FXgn"
      },
      "source": [
        "# 실습에 필요한 데이터셋을 읽어서 저장합니다.\r\n",
        "\r\n",
        "# ops.abspath - 상대경로로부터 절대 경로를 얻어오는 system 함수\r\n",
        "# 절대 경로 알고있으면 해당 파일의 절대경로를 입력해서 단순화될 수 있는 부분\r\n",
        "\r\n",
        "# 어떤 문서에 어떤 키워드들이 포함되어 있는지 저장\r\n",
        "# vertex2name.txt : 문서의 제목 목록\r\n",
        "# 각 줄이 \"[문서식별자] [문서 번호]\\n\" 형태\r\n",
        "path_v2n = osp.abspath(osp.join(os.getcwd(), 'drive/MyDrive/data/others/vertex2name.txt'))\r\n",
        "\r\n",
        "# 하이퍼링크들이 저장된 파일의 경로\r\n",
        "# edges.txt : 하이퍼링크 목록\r\n",
        "# 각 줄이 \"[나가는 문서 식별자] [들어오는 문서 식별자]\\n\" 형태\r\n",
        "path_edges = osp.abspath(osp.join(os.getcwd(), 'drive/MyDrive/data/others/edges.txt'))\r\n",
        "\r\n",
        "# keyword : deep_learning.txt (딥러닝), lee.txt (이순신), bong.txt(봉준호)\r\n",
        "# 각각 \"딥러닝\", \"이순신\", \"봉준호\"라는 단어가 속해있는 문서의 제목 목록\r\n",
        "# 각 줄이 \"[문서 번호]\\n\" 형태이다\r\n",
        "# 키워드 파일 3개 중 한개를 불러온다\r\n",
        "path_keyword = osp.abspath(osp.join(os.getcwd(), 'drive/MyDrive/data/lab/lab3/deep_learning.txt'))\r\n",
        "\r\n",
        "# 하이퍼링크 저장되어 있는 파일 경로로 파일 연다\r\n",
        "f = open(path_edges)\r\n",
        "for line in f:\r\n",
        "    # v1 : 하이퍼링크가 나가는 문서 식별자, v2 : 하이퍼링크가 들어오는 문서 식별자\r\n",
        "    v1, v2 = map(int, line.split())\r\n",
        "    G.add_edge(v1, v2)\r\n",
        "\r\n",
        "n2v = {}\r\n",
        "v2n = {}  # key: 문서식별자, value: 문서 제목\r\n",
        "f = open(path_v2n)\r\n",
        "for line in f:\r\n",
        "    v, n = line.split()\r\n",
        "    v = int(v)\r\n",
        "    n = n.rstrip()\r\n",
        "    n2v[n] = v\r\n",
        "    v2n[v] = n\r\n",
        "\r\n",
        "node_key = []\r\n",
        "f = open(path_keyword)\r\n",
        "for line in f:\r\n",
        "    v = line.rstrip()  # 키워드에 포함된 불필요한 공백 없앤다\r\n",
        "    v = int(v)\r\n",
        "    node_key.append(v)"
      ],
      "execution_count": 2,
      "outputs": []
    },
    {
      "cell_type": "code",
      "metadata": {
        "id": "jmgSSZMZIfuG"
      },
      "source": [
        "# 키워드를 포함한 문서들로 이루어진 부분 그래프(subgraph) H를 추출합니다.\r\n",
        "H = G.subgraph(node_key)"
      ],
      "execution_count": 3,
      "outputs": []
    },
    {
      "cell_type": "code",
      "metadata": {
        "id": "lLSqC046QhYt",
        "colab": {
          "base_uri": "https://localhost:8080/"
        },
        "outputId": "cbeba45a-aa0f-4814-faba-edaf69ae2fc9"
      },
      "source": [
        "# subgraph H에 대해서 pagerank 알고리즘을 시행합니다.\r\n",
        "print(\"###### PageRank Algorithm ######\")\r\n",
        "pr = nx.pagerank(H, alpha = 0.9)                                                              # 페이지랭크 알고리즘을 시행합니다. alpha는 페이지랭크의 damping parameter를 의미합니다.\r\n",
        "# 페이지랭크 점수 높은순으로 정렬\r\n",
        "res = [key for (key, value) in sorted(pr.items(), key=lambda x:x[1], reverse=True)]           # 페이지랭크 알고리즘으로 검색한 결과를 ranking에 따라 sorting하고 출력해줍니다.\r\n",
        "for item in res[:10]:  # 상위 10개 결과 출력\r\n",
        "    print(v2n[item])"
      ],
      "execution_count": 4,
      "outputs": [
        {
          "output_type": "stream",
          "text": [
            "###### PageRank Algorithm ######\n",
            "딥러닝\n",
            "OpenCV\n",
            "이스트소프트\n",
            "인공지능인문학\n",
            "미분기하학\n",
            "PyTorch\n",
            "라온피플\n",
            "자동긴급제동장치\n",
            "케플러-90i\n",
            "T2d\n"
          ],
          "name": "stdout"
        }
      ]
    },
    {
      "cell_type": "code",
      "metadata": {
        "id": "9d_OPraL8SN2"
      },
      "source": [
        ""
      ],
      "execution_count": null,
      "outputs": []
    }
  ]
}