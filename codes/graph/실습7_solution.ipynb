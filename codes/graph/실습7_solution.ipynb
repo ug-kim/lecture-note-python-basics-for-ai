{
  "nbformat": 4,
  "nbformat_minor": 0,
  "metadata": {
    "colab": {
      "name": "실습7_solution.ipynb",
      "provenance": [],
      "collapsed_sections": []
    },
    "kernelspec": {
      "display_name": "Python 3",
      "name": "python3"
    },
    "widgets": {
      "application/vnd.jupyter.widget-state+json": {
        "18fa240c6d4344279b1f00eab9b9bc8e": {
          "model_module": "@jupyter-widgets/controls",
          "model_name": "HBoxModel",
          "state": {
            "_view_name": "HBoxView",
            "_dom_classes": [],
            "_model_name": "HBoxModel",
            "_view_module": "@jupyter-widgets/controls",
            "_model_module_version": "1.5.0",
            "_view_count": null,
            "_view_module_version": "1.5.0",
            "box_style": "",
            "layout": "IPY_MODEL_221bb8f0720c490fb5040b5c56414cf4",
            "_model_module": "@jupyter-widgets/controls",
            "children": [
              "IPY_MODEL_e26287e29ea0480a9f257107f5c67e86",
              "IPY_MODEL_7d557340b4cc4fabbccce3e2df2873c9"
            ]
          }
        },
        "221bb8f0720c490fb5040b5c56414cf4": {
          "model_module": "@jupyter-widgets/base",
          "model_name": "LayoutModel",
          "state": {
            "_view_name": "LayoutView",
            "grid_template_rows": null,
            "right": null,
            "justify_content": null,
            "_view_module": "@jupyter-widgets/base",
            "overflow": null,
            "_model_module_version": "1.2.0",
            "_view_count": null,
            "flex_flow": null,
            "width": null,
            "min_width": null,
            "border": null,
            "align_items": null,
            "bottom": null,
            "_model_module": "@jupyter-widgets/base",
            "top": null,
            "grid_column": null,
            "overflow_y": null,
            "overflow_x": null,
            "grid_auto_flow": null,
            "grid_area": null,
            "grid_template_columns": null,
            "flex": null,
            "_model_name": "LayoutModel",
            "justify_items": null,
            "grid_row": null,
            "max_height": null,
            "align_content": null,
            "visibility": null,
            "align_self": null,
            "height": null,
            "min_height": null,
            "padding": null,
            "grid_auto_rows": null,
            "grid_gap": null,
            "max_width": null,
            "order": null,
            "_view_module_version": "1.2.0",
            "grid_template_areas": null,
            "object_position": null,
            "object_fit": null,
            "grid_auto_columns": null,
            "margin": null,
            "display": null,
            "left": null
          }
        },
        "e26287e29ea0480a9f257107f5c67e86": {
          "model_module": "@jupyter-widgets/controls",
          "model_name": "FloatProgressModel",
          "state": {
            "_view_name": "ProgressView",
            "style": "IPY_MODEL_fff1b65cd18d4416b6add780b6114e5c",
            "_dom_classes": [],
            "description": "Computing transition probabilities: 100%",
            "_model_name": "FloatProgressModel",
            "bar_style": "success",
            "max": 77,
            "_view_module": "@jupyter-widgets/controls",
            "_model_module_version": "1.5.0",
            "value": 77,
            "_view_count": null,
            "_view_module_version": "1.5.0",
            "orientation": "horizontal",
            "min": 0,
            "description_tooltip": null,
            "_model_module": "@jupyter-widgets/controls",
            "layout": "IPY_MODEL_b4f62b8e066a4459a4e596f7b9efb00d"
          }
        },
        "7d557340b4cc4fabbccce3e2df2873c9": {
          "model_module": "@jupyter-widgets/controls",
          "model_name": "HTMLModel",
          "state": {
            "_view_name": "HTMLView",
            "style": "IPY_MODEL_abeccf4bec7f46b7bf9e0871cb4f3f6b",
            "_dom_classes": [],
            "description": "",
            "_model_name": "HTMLModel",
            "placeholder": "​",
            "_view_module": "@jupyter-widgets/controls",
            "_model_module_version": "1.5.0",
            "value": " 77/77 [00:06&lt;00:00, 11.78it/s]",
            "_view_count": null,
            "_view_module_version": "1.5.0",
            "description_tooltip": null,
            "_model_module": "@jupyter-widgets/controls",
            "layout": "IPY_MODEL_72b61f9e1a5c49edb434cf59a83047ca"
          }
        },
        "fff1b65cd18d4416b6add780b6114e5c": {
          "model_module": "@jupyter-widgets/controls",
          "model_name": "ProgressStyleModel",
          "state": {
            "_view_name": "StyleView",
            "_model_name": "ProgressStyleModel",
            "description_width": "initial",
            "_view_module": "@jupyter-widgets/base",
            "_model_module_version": "1.5.0",
            "_view_count": null,
            "_view_module_version": "1.2.0",
            "bar_color": null,
            "_model_module": "@jupyter-widgets/controls"
          }
        },
        "b4f62b8e066a4459a4e596f7b9efb00d": {
          "model_module": "@jupyter-widgets/base",
          "model_name": "LayoutModel",
          "state": {
            "_view_name": "LayoutView",
            "grid_template_rows": null,
            "right": null,
            "justify_content": null,
            "_view_module": "@jupyter-widgets/base",
            "overflow": null,
            "_model_module_version": "1.2.0",
            "_view_count": null,
            "flex_flow": null,
            "width": null,
            "min_width": null,
            "border": null,
            "align_items": null,
            "bottom": null,
            "_model_module": "@jupyter-widgets/base",
            "top": null,
            "grid_column": null,
            "overflow_y": null,
            "overflow_x": null,
            "grid_auto_flow": null,
            "grid_area": null,
            "grid_template_columns": null,
            "flex": null,
            "_model_name": "LayoutModel",
            "justify_items": null,
            "grid_row": null,
            "max_height": null,
            "align_content": null,
            "visibility": null,
            "align_self": null,
            "height": null,
            "min_height": null,
            "padding": null,
            "grid_auto_rows": null,
            "grid_gap": null,
            "max_width": null,
            "order": null,
            "_view_module_version": "1.2.0",
            "grid_template_areas": null,
            "object_position": null,
            "object_fit": null,
            "grid_auto_columns": null,
            "margin": null,
            "display": null,
            "left": null
          }
        },
        "abeccf4bec7f46b7bf9e0871cb4f3f6b": {
          "model_module": "@jupyter-widgets/controls",
          "model_name": "DescriptionStyleModel",
          "state": {
            "_view_name": "StyleView",
            "_model_name": "DescriptionStyleModel",
            "description_width": "",
            "_view_module": "@jupyter-widgets/base",
            "_model_module_version": "1.5.0",
            "_view_count": null,
            "_view_module_version": "1.2.0",
            "_model_module": "@jupyter-widgets/controls"
          }
        },
        "72b61f9e1a5c49edb434cf59a83047ca": {
          "model_module": "@jupyter-widgets/base",
          "model_name": "LayoutModel",
          "state": {
            "_view_name": "LayoutView",
            "grid_template_rows": null,
            "right": null,
            "justify_content": null,
            "_view_module": "@jupyter-widgets/base",
            "overflow": null,
            "_model_module_version": "1.2.0",
            "_view_count": null,
            "flex_flow": null,
            "width": null,
            "min_width": null,
            "border": null,
            "align_items": null,
            "bottom": null,
            "_model_module": "@jupyter-widgets/base",
            "top": null,
            "grid_column": null,
            "overflow_y": null,
            "overflow_x": null,
            "grid_auto_flow": null,
            "grid_area": null,
            "grid_template_columns": null,
            "flex": null,
            "_model_name": "LayoutModel",
            "justify_items": null,
            "grid_row": null,
            "max_height": null,
            "align_content": null,
            "visibility": null,
            "align_self": null,
            "height": null,
            "min_height": null,
            "padding": null,
            "grid_auto_rows": null,
            "grid_gap": null,
            "max_width": null,
            "order": null,
            "_view_module_version": "1.2.0",
            "grid_template_areas": null,
            "object_position": null,
            "object_fit": null,
            "grid_auto_columns": null,
            "margin": null,
            "display": null,
            "left": null
          }
        },
        "8178ecc5ae254f268f549bb0d3b29d76": {
          "model_module": "@jupyter-widgets/controls",
          "model_name": "HBoxModel",
          "state": {
            "_view_name": "HBoxView",
            "_dom_classes": [],
            "_model_name": "HBoxModel",
            "_view_module": "@jupyter-widgets/controls",
            "_model_module_version": "1.5.0",
            "_view_count": null,
            "_view_module_version": "1.5.0",
            "box_style": "",
            "layout": "IPY_MODEL_8b2f942b00f34594aac6c75129cf6670",
            "_model_module": "@jupyter-widgets/controls",
            "children": [
              "IPY_MODEL_e0db008d196746debf1a58a0e86e8bf7",
              "IPY_MODEL_def80f099a9a41afb631c5835c080019"
            ]
          }
        },
        "8b2f942b00f34594aac6c75129cf6670": {
          "model_module": "@jupyter-widgets/base",
          "model_name": "LayoutModel",
          "state": {
            "_view_name": "LayoutView",
            "grid_template_rows": null,
            "right": null,
            "justify_content": null,
            "_view_module": "@jupyter-widgets/base",
            "overflow": null,
            "_model_module_version": "1.2.0",
            "_view_count": null,
            "flex_flow": null,
            "width": null,
            "min_width": null,
            "border": null,
            "align_items": null,
            "bottom": null,
            "_model_module": "@jupyter-widgets/base",
            "top": null,
            "grid_column": null,
            "overflow_y": null,
            "overflow_x": null,
            "grid_auto_flow": null,
            "grid_area": null,
            "grid_template_columns": null,
            "flex": null,
            "_model_name": "LayoutModel",
            "justify_items": null,
            "grid_row": null,
            "max_height": null,
            "align_content": null,
            "visibility": null,
            "align_self": null,
            "height": null,
            "min_height": null,
            "padding": null,
            "grid_auto_rows": null,
            "grid_gap": null,
            "max_width": null,
            "order": null,
            "_view_module_version": "1.2.0",
            "grid_template_areas": null,
            "object_position": null,
            "object_fit": null,
            "grid_auto_columns": null,
            "margin": null,
            "display": null,
            "left": null
          }
        },
        "e0db008d196746debf1a58a0e86e8bf7": {
          "model_module": "@jupyter-widgets/controls",
          "model_name": "FloatProgressModel",
          "state": {
            "_view_name": "ProgressView",
            "style": "IPY_MODEL_c207a33b56fe45bd817e2b1853f6ac93",
            "_dom_classes": [],
            "description": "Computing transition probabilities: 100%",
            "_model_name": "FloatProgressModel",
            "bar_style": "success",
            "max": 2708,
            "_view_module": "@jupyter-widgets/controls",
            "_model_module_version": "1.5.0",
            "value": 2708,
            "_view_count": null,
            "_view_module_version": "1.5.0",
            "orientation": "horizontal",
            "min": 0,
            "description_tooltip": null,
            "_model_module": "@jupyter-widgets/controls",
            "layout": "IPY_MODEL_53a6e4b08e364f83b09014e3e81f3f6c"
          }
        },
        "def80f099a9a41afb631c5835c080019": {
          "model_module": "@jupyter-widgets/controls",
          "model_name": "HTMLModel",
          "state": {
            "_view_name": "HTMLView",
            "style": "IPY_MODEL_a8c474e889844f418fc0ab9ff2cf50de",
            "_dom_classes": [],
            "description": "",
            "_model_name": "HTMLModel",
            "placeholder": "​",
            "_view_module": "@jupyter-widgets/controls",
            "_model_module_version": "1.5.0",
            "value": " 2708/2708 [00:00&lt;00:00, 3777.96it/s]",
            "_view_count": null,
            "_view_module_version": "1.5.0",
            "description_tooltip": null,
            "_model_module": "@jupyter-widgets/controls",
            "layout": "IPY_MODEL_626278e18e654c319e6259136ed150ca"
          }
        },
        "c207a33b56fe45bd817e2b1853f6ac93": {
          "model_module": "@jupyter-widgets/controls",
          "model_name": "ProgressStyleModel",
          "state": {
            "_view_name": "StyleView",
            "_model_name": "ProgressStyleModel",
            "description_width": "initial",
            "_view_module": "@jupyter-widgets/base",
            "_model_module_version": "1.5.0",
            "_view_count": null,
            "_view_module_version": "1.2.0",
            "bar_color": null,
            "_model_module": "@jupyter-widgets/controls"
          }
        },
        "53a6e4b08e364f83b09014e3e81f3f6c": {
          "model_module": "@jupyter-widgets/base",
          "model_name": "LayoutModel",
          "state": {
            "_view_name": "LayoutView",
            "grid_template_rows": null,
            "right": null,
            "justify_content": null,
            "_view_module": "@jupyter-widgets/base",
            "overflow": null,
            "_model_module_version": "1.2.0",
            "_view_count": null,
            "flex_flow": null,
            "width": null,
            "min_width": null,
            "border": null,
            "align_items": null,
            "bottom": null,
            "_model_module": "@jupyter-widgets/base",
            "top": null,
            "grid_column": null,
            "overflow_y": null,
            "overflow_x": null,
            "grid_auto_flow": null,
            "grid_area": null,
            "grid_template_columns": null,
            "flex": null,
            "_model_name": "LayoutModel",
            "justify_items": null,
            "grid_row": null,
            "max_height": null,
            "align_content": null,
            "visibility": null,
            "align_self": null,
            "height": null,
            "min_height": null,
            "padding": null,
            "grid_auto_rows": null,
            "grid_gap": null,
            "max_width": null,
            "order": null,
            "_view_module_version": "1.2.0",
            "grid_template_areas": null,
            "object_position": null,
            "object_fit": null,
            "grid_auto_columns": null,
            "margin": null,
            "display": null,
            "left": null
          }
        },
        "a8c474e889844f418fc0ab9ff2cf50de": {
          "model_module": "@jupyter-widgets/controls",
          "model_name": "DescriptionStyleModel",
          "state": {
            "_view_name": "StyleView",
            "_model_name": "DescriptionStyleModel",
            "description_width": "",
            "_view_module": "@jupyter-widgets/base",
            "_model_module_version": "1.5.0",
            "_view_count": null,
            "_view_module_version": "1.2.0",
            "_model_module": "@jupyter-widgets/controls"
          }
        },
        "626278e18e654c319e6259136ed150ca": {
          "model_module": "@jupyter-widgets/base",
          "model_name": "LayoutModel",
          "state": {
            "_view_name": "LayoutView",
            "grid_template_rows": null,
            "right": null,
            "justify_content": null,
            "_view_module": "@jupyter-widgets/base",
            "overflow": null,
            "_model_module_version": "1.2.0",
            "_view_count": null,
            "flex_flow": null,
            "width": null,
            "min_width": null,
            "border": null,
            "align_items": null,
            "bottom": null,
            "_model_module": "@jupyter-widgets/base",
            "top": null,
            "grid_column": null,
            "overflow_y": null,
            "overflow_x": null,
            "grid_auto_flow": null,
            "grid_area": null,
            "grid_template_columns": null,
            "flex": null,
            "_model_name": "LayoutModel",
            "justify_items": null,
            "grid_row": null,
            "max_height": null,
            "align_content": null,
            "visibility": null,
            "align_self": null,
            "height": null,
            "min_height": null,
            "padding": null,
            "grid_auto_rows": null,
            "grid_gap": null,
            "max_width": null,
            "order": null,
            "_view_module_version": "1.2.0",
            "grid_template_areas": null,
            "object_position": null,
            "object_fit": null,
            "grid_auto_columns": null,
            "margin": null,
            "display": null,
            "left": null
          }
        }
      }
    }
  },
  "cells": [
    {
      "cell_type": "markdown",
      "metadata": {
        "id": "5Aq9cIiJDZ6Q"
      },
      "source": [
        "**Lab 7 : Node2Vec**\r\n",
        "- Instuctor : Kijung Shin\r\n",
        "- Teaching Assistants : Hyunju Lee(main), Deukryeol Yoon, Shinhwan Kang \r\n",
        "- 본 실습에서는 random walk 기반 network embedding 방법 중 하나인 node2vec 알고리즘을 사용하여 clustering, node classification과 같은 여러 downstream task들을 수행해본다.\r\n",
        "\r\n",
        "* 학습 목표\r\n",
        "\r\n",
        "> 1. node2vec library의 사용법을 익힌다.\r\n",
        "2. node2vec embedding 벡터를 사용하여 여러 downstream tasks(clustering, node classification)를 수행하는 방법을 익힌다.\r\n",
        "\r\n",
        "\r\n"
      ]
    },
    {
      "cell_type": "markdown",
      "metadata": {
        "id": "bHiUHDnSskhN"
      },
      "source": [
        "**Clustering with Node2Vec**\r\n"
      ]
    },
    {
      "cell_type": "code",
      "metadata": {
        "colab": {
          "base_uri": "https://localhost:8080/"
        },
        "id": "lnXQW6Jae6yr",
        "outputId": "e98755e6-40c3-45f4-a0a4-00d5a18ef636"
      },
      "source": [
        "!pip install networkx\r\n",
        "!pip install node2vec"
      ],
      "execution_count": 1,
      "outputs": [
        {
          "output_type": "stream",
          "text": [
            "Requirement already satisfied: networkx in /usr/local/lib/python3.7/dist-packages (2.5)\n",
            "Requirement already satisfied: decorator>=4.3.0 in /usr/local/lib/python3.7/dist-packages (from networkx) (4.4.2)\n",
            "Collecting node2vec\n",
            "  Downloading https://files.pythonhosted.org/packages/47/60/af8b5f2ca767e4ee56366886cba1430aab0b1a1c0b188df244098e33ea19/node2vec-0.4.1.tar.gz\n",
            "Requirement already satisfied: networkx in /usr/local/lib/python3.7/dist-packages (from node2vec) (2.5)\n",
            "Requirement already satisfied: gensim in /usr/local/lib/python3.7/dist-packages (from node2vec) (3.6.0)\n",
            "Requirement already satisfied: numpy in /usr/local/lib/python3.7/dist-packages (from node2vec) (1.19.5)\n",
            "Requirement already satisfied: tqdm in /usr/local/lib/python3.7/dist-packages (from node2vec) (4.41.1)\n",
            "Requirement already satisfied: joblib>=0.13.2 in /usr/local/lib/python3.7/dist-packages (from node2vec) (1.0.1)\n",
            "Requirement already satisfied: decorator>=4.3.0 in /usr/local/lib/python3.7/dist-packages (from networkx->node2vec) (4.4.2)\n",
            "Requirement already satisfied: smart-open>=1.2.1 in /usr/local/lib/python3.7/dist-packages (from gensim->node2vec) (4.2.0)\n",
            "Requirement already satisfied: six>=1.5.0 in /usr/local/lib/python3.7/dist-packages (from gensim->node2vec) (1.15.0)\n",
            "Requirement already satisfied: scipy>=0.18.1 in /usr/local/lib/python3.7/dist-packages (from gensim->node2vec) (1.4.1)\n",
            "Building wheels for collected packages: node2vec\n",
            "  Building wheel for node2vec (setup.py) ... \u001b[?25l\u001b[?25hdone\n",
            "  Created wheel for node2vec: filename=node2vec-0.4.1-cp37-none-any.whl size=5734 sha256=a973010ee1606ef3d3f2504280a488c360c0a129e4f2f4fa5af7e456e3a468a0\n",
            "  Stored in directory: /root/.cache/pip/wheels/b3/59/ea/22e964f74bb864c5423cf82027a4d69dd65bac0bbf95fd46f5\n",
            "Successfully built node2vec\n",
            "Installing collected packages: node2vec\n",
            "Successfully installed node2vec-0.4.1\n"
          ],
          "name": "stdout"
        }
      ]
    },
    {
      "cell_type": "code",
      "metadata": {
        "id": "aLToXdFXCtI_",
        "colab": {
          "base_uri": "https://localhost:8080/"
        },
        "outputId": "bd1412d6-f241-4fa3-f8df-29a40c7d4fbb"
      },
      "source": [
        "import os, sys \r\n",
        "from google.colab import drive \r\n",
        "\r\n",
        "### 해당 코드 실행 시 colab에서 실행중인 폴더의 /content/drive/My Drive가 구글 드라이브에 연결됨\r\n",
        "\r\n",
        "drive.mount('/content/drive')\r\n"
      ],
      "execution_count": 2,
      "outputs": [
        {
          "output_type": "stream",
          "text": [
            "Mounted at /content/drive\n"
          ],
          "name": "stdout"
        }
      ]
    },
    {
      "cell_type": "code",
      "metadata": {
        "id": "MT_WeNIqe8qF"
      },
      "source": [
        "import networkx as nx\r\n",
        "from node2vec import Node2Vec\r\n",
        "from matplotlib import pyplot as plt"
      ],
      "execution_count": 3,
      "outputs": []
    },
    {
      "cell_type": "code",
      "metadata": {
        "id": "Z6FTeAyz3KsC",
        "colab": {
          "base_uri": "https://localhost:8080/",
          "height": 53
        },
        "outputId": "3522eac7-ecfb-4195-88af-9678d29e13fb"
      },
      "source": [
        "###################### Dataset Description ##########################\r\n",
        "'''\r\n",
        "    [Reference]\r\n",
        "        title={The Network Data Repository with Interactive Graph Analytics and Visualization},\r\n",
        "        author={Ryan A. Rossi and Nesreen K. Ahmed},\r\n",
        "        booktitle={AAAI},\r\n",
        "        url={http://networkrepository.com},\r\n",
        "        year={2015}\r\n",
        "\r\n",
        "'''\r\n",
        "###### lesmis.mtx : <node 1> <node 2> <weight> ######################\r\n",
        "###### weight : 레미제라블에 동시에 등장한 등장인물의 횟수 ##########\r\n",
        "#####################################################################"
      ],
      "execution_count": null,
      "outputs": [
        {
          "output_type": "execute_result",
          "data": {
            "application/vnd.google.colaboratory.intrinsic+json": {
              "type": "string"
            },
            "text/plain": [
              "'\\n    [Reference]\\n        title={The Network Data Repository with Interactive Graph Analytics and Visualization},\\n        author={Ryan A. Rossi and Nesreen K. Ahmed},\\n        booktitle={AAAI},\\n        url={http://networkrepository.com},\\n        year={2015}\\n\\n'"
            ]
          },
          "metadata": {
            "tags": []
          },
          "execution_count": 7
        }
      ]
    },
    {
      "cell_type": "markdown",
      "metadata": {
        "id": "NA6dNE0LQ2vx"
      },
      "source": [
        "- 실습에 사용할 그래프 파일 읽어온다\r\n",
        "- 소설 레미제라블 등장인물 간의 공동 등장 그래프"
      ]
    },
    {
      "cell_type": "code",
      "metadata": {
        "id": "8Czt2vSKNrJd"
      },
      "source": [
        "##### Weighted Graph Generation #####\r\n",
        "\r\n",
        "weighted_edgelist=[]\r\n",
        "with open('drive/MyDrive/data/lab/lab7/lesmis.mtx', 'r') as f:\r\n",
        "    for line in f:\r\n",
        "        l = line.strip().split()\r\n",
        "        if l[0].isdigit() == False:\r\n",
        "            continue\r\n",
        "        weighted_edgelist.append((str(int(l[0])-1), str(int(l[1])-1), float(l[2])))\r\n",
        "\r\n",
        "\r\n",
        "G = nx.Graph()\r\n",
        "G.add_weighted_edges_from(weighted_edgelist)       "
      ],
      "execution_count": 4,
      "outputs": []
    },
    {
      "cell_type": "code",
      "metadata": {
        "colab": {
          "base_uri": "https://localhost:8080/",
          "height": 66,
          "referenced_widgets": [
            "18fa240c6d4344279b1f00eab9b9bc8e",
            "221bb8f0720c490fb5040b5c56414cf4",
            "e26287e29ea0480a9f257107f5c67e86",
            "7d557340b4cc4fabbccce3e2df2873c9",
            "fff1b65cd18d4416b6add780b6114e5c",
            "b4f62b8e066a4459a4e596f7b9efb00d",
            "abeccf4bec7f46b7bf9e0871cb4f3f6b",
            "72b61f9e1a5c49edb434cf59a83047ca"
          ]
        },
        "id": "xvPe0je6OU-I",
        "outputId": "d6420b34-de00-4258-d310-d8c0b593b08d"
      },
      "source": [
        "############################ Fill in Your Code ############################################\r\n",
        "\r\n",
        "# edge 별 확률 계산(p, q에 따른 edge별 확률 계산) & random walk 생성 \r\n",
        "\r\n",
        "# G = graph, dimensions=embedding 공간 차원\r\n",
        "# num_walks = 시작 지점 별 샘플링하는 random worker 수\r\n",
        "# worker = thread 수\r\n",
        "node2vec = Node2Vec(G, dimensions=16, walk_length=4, num_walks=200, workers=4)      # p = 1, q = 1 as default\r\n",
        "\r\n",
        "# node embedding 구하기\r\n",
        "# window = random walk 상에서 얼마나 가까이에 위치하는 정보를 유사한 정보로 보는가\r\n",
        "model = node2vec.fit(window=2, min_count=1, batch_words=4)\r\n",
        "\r\n",
        "##############################################################################################"
      ],
      "execution_count": 5,
      "outputs": [
        {
          "output_type": "display_data",
          "data": {
            "application/vnd.jupyter.widget-view+json": {
              "model_id": "18fa240c6d4344279b1f00eab9b9bc8e",
              "version_minor": 0,
              "version_major": 2
            },
            "text/plain": [
              "HBox(children=(FloatProgress(value=0.0, description='Computing transition probabilities', max=77.0, style=Prog…"
            ]
          },
          "metadata": {
            "tags": []
          }
        },
        {
          "output_type": "stream",
          "text": [
            "\n"
          ],
          "name": "stdout"
        }
      ]
    },
    {
      "cell_type": "code",
      "metadata": {
        "colab": {
          "base_uri": "https://localhost:8080/"
        },
        "id": "zyKUiAjFOX4Z",
        "outputId": "54aaa595-5ac1-48f0-b672-58b28036bba7"
      },
      "source": [
        "print(\"#### Embedding Vector of Node 2 ####\")\r\n",
        "# wv 사용해 각 정점 별 embedding 확인 가능하다\r\n",
        "print(model.wv['2'])"
      ],
      "execution_count": 6,
      "outputs": [
        {
          "output_type": "stream",
          "text": [
            "#### Embedding Vector of Node 2 ####\n",
            "[-0.72552645  1.0154712  -0.6424142   0.59596306  0.28665033 -0.37045598\n",
            " -0.47296667  1.204969   -0.38169438  1.2583128   0.5450099  -1.1196243\n",
            "  0.80285126 -0.51953655  0.18511681 -0.5284331 ]\n"
          ],
          "name": "stdout"
        }
      ]
    },
    {
      "cell_type": "code",
      "metadata": {
        "colab": {
          "base_uri": "https://localhost:8080/"
        },
        "id": "7kmfarfuOrWx",
        "outputId": "0d3c53fe-567d-4808-f823-d183d2d3ff15"
      },
      "source": [
        "##### Node 2와 가장 유사한 10개의 node를 출력 #####\r\n",
        "\r\n",
        "print(\"#### Most Similar Nodes to Node 2\")\r\n",
        "model.wv.most_similar('2')  "
      ],
      "execution_count": null,
      "outputs": [
        {
          "output_type": "stream",
          "text": [
            "#### Most Similar Nodes to Node 2\n"
          ],
          "name": "stdout"
        },
        {
          "output_type": "execute_result",
          "data": {
            "text/plain": [
              "[('3', 0.9971444606781006),\n",
              " ('0', 0.9938961267471313),\n",
              " ('7', 0.9934398531913757),\n",
              " ('9', 0.9920859336853027),\n",
              " ('8', 0.9904351830482483),\n",
              " ('5', 0.9896343946456909),\n",
              " ('1', 0.9895957708358765),\n",
              " ('6', 0.9873248934745789),\n",
              " ('4', 0.9858882427215576),\n",
              " ('13', 0.6883783936500549)]"
            ]
          },
          "metadata": {
            "tags": []
          },
          "execution_count": 11
        }
      ]
    },
    {
      "cell_type": "markdown",
      "metadata": {
        "id": "RiCVHcUmR1sT"
      },
      "source": [
        "**군집 분석**"
      ]
    },
    {
      "cell_type": "code",
      "metadata": {
        "id": "oqkbYe-HRfnG"
      },
      "source": [
        "from sklearn.cluster import KMeans\r\n",
        "import numpy as np\r\n",
        "from matplotlib import pyplot as plt"
      ],
      "execution_count": 7,
      "outputs": []
    },
    {
      "cell_type": "code",
      "metadata": {
        "id": "ZHxSKmtkwL-Y"
      },
      "source": [
        "#### sklearn.cluster의 KMeans 알고리즘을 실행시키기 위해 node별 embedding 값을 array로 변환해준다 \r\n",
        "#### 노드 번호에 해당하는 index에 embedding 값을 저장\r\n",
        "\r\n",
        "# 정점 임베딩을 입력으로 K-Means를 수행해 정점의 군집을 찾는다\r\n",
        "# 여기서의 군집은 cluster != 그래프의 community와는 구분\r\n",
        "vectors_array = np.zeros((len(G.nodes), 16))\r\n",
        "for node in G.nodes:\r\n",
        "    vectors_array[int(node)] = model.wv[node]"
      ],
      "execution_count": 8,
      "outputs": []
    },
    {
      "cell_type": "code",
      "metadata": {
        "id": "PspreKosSYIZ"
      },
      "source": [
        "#### kmeans clustering 알고리즘 실행 ###\r\n",
        "\r\n",
        "############### Fill in Your Code #############################\r\n",
        "\r\n",
        "# n_clusters = 찾고자 하는 cluster 수 5개\r\n",
        "kmeans = KMeans(n_clusters=5, random_state=0).fit(vectors_array)\r\n",
        "\r\n",
        "################################################################"
      ],
      "execution_count": 9,
      "outputs": []
    },
    {
      "cell_type": "code",
      "metadata": {
        "colab": {
          "base_uri": "https://localhost:8080/",
          "height": 248
        },
        "id": "9J3yUl2duh82",
        "outputId": "8f3e66cf-4d45-4e12-b11f-8a2e3cd2d256"
      },
      "source": [
        "\r\n",
        "\r\n",
        "#### 그래프 시각화 - 각 클러스터별로 다른 색깔을 갖도록 함 ####\r\n",
        "pos = nx.spring_layout(G)\r\n",
        "node_color=[]\r\n",
        "node_degree = []\r\n",
        "for node in G.nodes:\r\n",
        "    node_degree.append(G.degree[node]*10)\r\n",
        "    i = int(node)\r\n",
        "    if kmeans.labels_[i] == 0:\r\n",
        "        node_color.append('red')\r\n",
        "    elif kmeans.labels_[i] == 1:\r\n",
        "        node_color.append('yellow')\r\n",
        "    elif kmeans.labels_[i] == 2:\r\n",
        "        node_color.append('blue')\r\n",
        "    elif kmeans.labels_[i] == 3:\r\n",
        "        node_color.append('green')\r\n",
        "    else:\r\n",
        "        node_color.append('orange')\r\n",
        "\r\n",
        "img = nx.draw_networkx_nodes(G, pos, node_color = node_color, node_size=node_degree)\r\n",
        "nx.draw_networkx_edges(G, pos)\r\n",
        "plt.show()"
      ],
      "execution_count": 10,
      "outputs": [
        {
          "output_type": "display_data",
          "data": {
            "image/png": "[encoded data removed]",
            "text/plain": [
              "<Figure size 432x288 with 1 Axes>"
            ]
          },
          "metadata": {
            "tags": []
          }
        }
      ]
    },
    {
      "cell_type": "markdown",
      "metadata": {
        "id": "I19bflrVwtoS"
      },
      "source": [
        "**Node Classification**"
      ]
    },
    {
      "cell_type": "code",
      "metadata": {
        "id": "9BJoGFxMz8iq"
      },
      "source": [
        "###################### Dataset Description ##########################\r\n",
        "##### cora.content : <paper_id> <word_attributes> <class_name> #####\r\n",
        "##### cora.cites : <ID of cited paper> <ID of citing paper> #########\r\n",
        "#####################################################################"
      ],
      "execution_count": null,
      "outputs": []
    },
    {
      "cell_type": "markdown",
      "metadata": {
        "id": "QaZHASO2cSKx"
      },
      "source": [
        "- 실습에 사용할 그래프를 파일에서 읽어온다\r\n",
        "- 논문 간의 인용 네트워크이고, 논문의 주제가 정점의 유형으로 주어진다"
      ]
    },
    {
      "cell_type": "code",
      "metadata": {
        "id": "Ar7ntURPvhXj"
      },
      "source": [
        "# Directed Graph Generation \r\n",
        "# 메모리 활용을 위해 node class는 숫자로 re-labelling하여 사용\r\n",
        "\r\n",
        "node_class = dict()  # 논문의 주제\r\n",
        "edgelist = list()  # 논문 간 인용 관계\r\n",
        "class_num = 1\r\n",
        "class_name_to_num = dict()\r\n",
        "with open('drive/MyDrive/data/lab/lab7/cora.content', 'r') as f, open('drive/MyDrive/data/lab/lab7/cora.cites','r') as f2:\r\n",
        "    for line in f:\r\n",
        "        l = line.strip().split()\r\n",
        "        class_name = l[-1]\r\n",
        "        if class_name not in class_name_to_num:\r\n",
        "            class_name_to_num[class_name] = class_num\r\n",
        "            class_num += 1\r\n",
        "        node_class[l[0]] = class_name_to_num[class_name]\r\n",
        "\r\n",
        "    for line in f2:\r\n",
        "        l = line.strip().split()\r\n",
        "        edgelist.append((l[1],l[0]))\r\n",
        "\r\n",
        "\r\n",
        "G = nx.DiGraph()\r\n",
        "G.add_edges_from(edgelist)\r\n"
      ],
      "execution_count": 12,
      "outputs": []
    },
    {
      "cell_type": "code",
      "metadata": {
        "id": "hGT4nJ8TBPhC"
      },
      "source": [
        "import time"
      ],
      "execution_count": 13,
      "outputs": []
    },
    {
      "cell_type": "code",
      "metadata": {
        "colab": {
          "base_uri": "https://localhost:8080/",
          "height": 84,
          "referenced_widgets": [
            "8178ecc5ae254f268f549bb0d3b29d76",
            "8b2f942b00f34594aac6c75129cf6670",
            "e0db008d196746debf1a58a0e86e8bf7",
            "def80f099a9a41afb631c5835c080019",
            "c207a33b56fe45bd817e2b1853f6ac93",
            "53a6e4b08e364f83b09014e3e81f3f6c",
            "a8c474e889844f418fc0ab9ff2cf50de",
            "626278e18e654c319e6259136ed150ca"
          ]
        },
        "id": "HW3jnYD36zmM",
        "outputId": "1b2936d1-693c-4fd9-807c-5b15614fa995"
      },
      "source": [
        "s= time.time()\r\n",
        "##### Node Embedding #####\r\n",
        "# walk_length = random work의 길이\r\n",
        "# num_walks = 정점 별로 random work 샘플링 수\r\n",
        "node2vec = Node2Vec(G, dimensions=32, walk_length=50, num_walks=200, workers=4)  \r\n",
        "model = node2vec.fit(window=10, min_count=1, batch_words=4) \r\n",
        "print(\"runtime: \", time.time() - s)"
      ],
      "execution_count": 14,
      "outputs": [
        {
          "output_type": "display_data",
          "data": {
            "application/vnd.jupyter.widget-view+json": {
              "model_id": "8178ecc5ae254f268f549bb0d3b29d76",
              "version_minor": 0,
              "version_major": 2
            },
            "text/plain": [
              "HBox(children=(FloatProgress(value=0.0, description='Computing transition probabilities', max=2708.0, style=Pr…"
            ]
          },
          "metadata": {
            "tags": []
          }
        },
        {
          "output_type": "stream",
          "text": [
            "\n",
            "runtime:  617.6780982017517\n"
          ],
          "name": "stdout"
        }
      ]
    },
    {
      "cell_type": "code",
      "metadata": {
        "id": "_BxpLU5O84VF"
      },
      "source": [
        "from sklearn.model_selection import train_test_split  # train과 test 구분\r\n",
        "from sklearn.neural_network import MLPClassifier  # 다층 퍼셉트론\r\n",
        "from sklearn.metrics import mean_squared_error, accuracy_score\r\n"
      ],
      "execution_count": 11,
      "outputs": []
    },
    {
      "cell_type": "code",
      "metadata": {
        "id": "TKyelh4V9yXE",
        "colab": {
          "base_uri": "https://localhost:8080/"
        },
        "outputId": "c6bd7492-97ce-4a66-fb2d-1d08ed6315c4"
      },
      "source": [
        "#### X : embedding of a node, y : class label of a node ####\r\n",
        "\r\n",
        "X = list()  # feature들의 matrix, (정점 수, 32)\r\n",
        "y = list()  # label들의 vector, (정점 수, )\r\n",
        "node_name_to_idx = dict()\r\n",
        "for i, (v, class_) in enumerate(node_class.items()):\r\n",
        "    node_name_to_idx[v] = i\r\n",
        "    X.append(model.wv[v])\r\n",
        "    y.append(class_)\r\n",
        "X = np.array(X)\r\n",
        "y = np.array(y)\r\n",
        "\r\n",
        "#################### Fill in Your Code ################################\r\n",
        "\r\n",
        "# train, test로 구분\r\n",
        "X_train, X_test, y_train, y_test = train_test_split(X, y, shuffle= True)\r\n",
        "\r\n",
        "# 학습 데이터 사용해 분류기인 다층 퍼셉트론 학습\r\n",
        "clf = MLPClassifier(max_iter=500).fit(X_train, y_train)\r\n",
        "\r\n",
        "#######################################################################\r\n"
      ],
      "execution_count": 15,
      "outputs": [
        {
          "output_type": "stream",
          "text": [
            "/usr/local/lib/python3.7/dist-packages/sklearn/neural_network/_multilayer_perceptron.py:571: ConvergenceWarning: Stochastic Optimizer: Maximum iterations (500) reached and the optimization hasn't converged yet.\n",
            "  % self.max_iter, ConvergenceWarning)\n"
          ],
          "name": "stderr"
        }
      ]
    },
    {
      "cell_type": "code",
      "metadata": {
        "id": "8GWJi0MCb2nZ",
        "colab": {
          "base_uri": "https://localhost:8080/"
        },
        "outputId": "44578e0b-6c26-48da-fb31-459203f97959"
      },
      "source": [
        "#################### Fill in Your Code ################################\r\n",
        "\r\n",
        "# 학습한 모델 clf에 test input feature matrix 넣어줌\r\n",
        "# y_predict는 test set에 대한 예측 결과\r\n",
        "y_predict = clf.predict(X_test)\r\n",
        "\r\n",
        "######################################################################\r\n",
        "\r\n",
        "# 평가 데이터 사용해 분류기 성능 평가\r\n",
        "# y_test = test set 실제 레이블\r\n",
        "# y_predict = 예측한 레이블\r\n",
        "# accuracy_score = 이 둘이 일치하는 비율\r\n",
        "\r\n",
        "print(\"###### Result of prediction #####\")\r\n",
        "print(\"Accuracy : {0:05.2f}% \".format(accuracy_score(y_test, y_predict)*100))"
      ],
      "execution_count": 16,
      "outputs": [
        {
          "output_type": "stream",
          "text": [
            "###### Result of prediction #####\n",
            "Accuracy : 77.84% \n"
          ],
          "name": "stdout"
        }
      ]
    },
    {
      "cell_type": "code",
      "metadata": {
        "colab": {
          "base_uri": "https://localhost:8080/"
        },
        "id": "PXpZWpOVtr-l",
        "outputId": "51bfa09f-cca1-4bee-eedd-336c9dc1d9a5"
      },
      "source": [
        "print(\"########## Comparison of Predicted and Test Results ######\")\r\n",
        "for i in range(len(y_test)//20):\r\n",
        "    print(\"#########################################################\")\r\n",
        "    print(\"예측: \", y_predict[i*20:(i+1)*20])\r\n",
        "    print(\"실제: \", y_test[i*20:(i+1)*20])"
      ],
      "execution_count": 17,
      "outputs": [
        {
          "output_type": "stream",
          "text": [
            "########## Comparison of Predicted and Test Results ######\n",
            "#########################################################\n",
            "예측:  [4 1 7 4 3 6 7 2 7 5 7 5 6 5 4 4 1 5 4 1]\n",
            "실제:  [4 1 7 4 3 6 7 2 7 5 5 5 6 4 4 4 3 5 4 1]\n",
            "#########################################################\n",
            "예측:  [4 5 4 7 1 1 6 1 4 2 7 1 1 5 3 4 7 7 7 7]\n",
            "실제:  [1 5 4 1 7 1 6 1 4 1 7 1 1 2 3 4 1 5 7 7]\n",
            "#########################################################\n",
            "예측:  [3 2 4 5 6 6 6 6 3 1 5 1 6 7 6 5 1 3 5 6]\n",
            "실제:  [3 7 4 2 1 6 1 6 3 1 5 1 6 7 6 1 1 6 5 6]\n",
            "#########################################################\n",
            "예측:  [6 1 5 4 1 5 1 4 5 7 7 1 6 1 2 1 1 6 1 1]\n",
            "실제:  [6 1 4 4 1 1 1 4 5 6 2 5 6 1 2 1 1 6 1 1]\n",
            "#########################################################\n",
            "예측:  [5 1 4 6 1 6 5 5 3 6 1 6 6 4 3 3 3 7 1 3]\n",
            "실제:  [6 1 5 6 1 6 6 5 6 6 1 6 6 4 3 3 3 1 1 3]\n",
            "#########################################################\n",
            "예측:  [4 4 6 7 4 1 6 6 4 7 6 4 5 4 4 1 1 3 4 6]\n",
            "실제:  [4 4 6 7 4 1 6 6 4 7 1 4 5 4 1 1 6 6 4 6]\n",
            "#########################################################\n",
            "예측:  [3 1 1 1 5 1 5 4 6 1 7 1 5 7 6 6 1 3 5 1]\n",
            "실제:  [3 1 1 1 5 1 1 4 3 1 5 1 5 7 6 4 1 3 5 1]\n",
            "#########################################################\n",
            "예측:  [7 1 2 4 1 5 6 1 1 3 6 5 1 7 4 6 6 1 1 7]\n",
            "실제:  [7 1 2 4 1 5 6 1 4 6 7 5 6 7 4 6 6 1 1 7]\n",
            "#########################################################\n",
            "예측:  [1 7 2 1 3 3 5 3 6 4 6 2 1 2 1 1 7 7 6 6]\n",
            "실제:  [1 7 5 1 3 3 5 3 3 4 6 2 1 2 1 1 7 4 6 6]\n",
            "#########################################################\n",
            "예측:  [1 4 5 1 2 5 3 6 2 6 1 4 7 7 4 2 6 3 1 5]\n",
            "실제:  [1 4 2 1 2 4 6 6 1 6 1 4 3 7 4 1 6 3 5 5]\n",
            "#########################################################\n",
            "예측:  [2 3 1 4 7 6 4 4 4 4 2 1 6 5 7 2 5 5 2 1]\n",
            "실제:  [1 3 1 5 7 6 4 4 4 4 2 1 6 5 7 2 2 5 2 1]\n",
            "#########################################################\n",
            "예측:  [2 1 4 6 1 2 5 7 5 1 1 1 4 7 2 1 3 1 7 6]\n",
            "실제:  [2 1 4 6 1 2 5 7 4 1 1 4 4 7 2 1 1 1 7 6]\n",
            "#########################################################\n",
            "예측:  [6 1 7 5 1 2 4 2 2 4 1 7 1 4 4 1 4 4 1 5]\n",
            "실제:  [6 1 7 1 1 2 4 2 7 4 1 7 1 4 4 6 4 4 1 1]\n",
            "#########################################################\n",
            "예측:  [4 3 1 4 6 3 7 1 1 6 7 3 1 1 3 6 1 5 4 6]\n",
            "실제:  [4 3 1 4 6 6 1 1 1 6 7 3 1 1 3 6 1 5 4 6]\n",
            "#########################################################\n",
            "예측:  [1 1 6 5 2 4 7 1 6 5 7 6 7 4 4 4 5 1 6 3]\n",
            "실제:  [1 1 6 5 2 4 7 4 6 5 7 6 5 4 4 4 1 1 6 1]\n",
            "#########################################################\n",
            "예측:  [4 6 1 6 5 1 5 1 7 5 6 5 5 5 7 1 1 1 5 3]\n",
            "실제:  [4 6 1 6 5 1 6 1 7 5 6 5 2 5 3 1 1 1 5 3]\n",
            "#########################################################\n",
            "예측:  [5 1 1 4 4 4 5 4 1 4 1 7 2 4 4 4 7 2 6 5]\n",
            "실제:  [5 1 1 4 4 4 5 4 1 1 2 1 7 4 4 4 7 3 6 5]\n",
            "#########################################################\n",
            "예측:  [6 7 6 1 5 6 7 2 2 6 6 5 6 5 1 7 2 1 4 7]\n",
            "실제:  [6 7 6 1 1 6 7 2 2 6 6 2 6 5 1 4 2 1 1 5]\n",
            "#########################################################\n",
            "예측:  [6 5 5 7 6 5 7 1 4 7 6 4 4 6 7 6 1 3 1 6]\n",
            "실제:  [6 5 1 5 6 5 5 1 4 7 6 4 4 6 7 6 5 3 1 6]\n",
            "#########################################################\n",
            "예측:  [2 2 7 5 4 1 1 5 3 7 4 7 4 5 1 4 1 3 7 7]\n",
            "실제:  [5 5 3 5 4 1 4 2 2 2 4 7 4 2 1 4 1 1 7 7]\n",
            "#########################################################\n",
            "예측:  [3 7 6 7 4 5 6 1 1 5 6 1 2 6 1 1 6 2 6 3]\n",
            "실제:  [3 7 6 7 4 5 6 1 1 5 6 1 2 6 1 5 6 5 1 3]\n",
            "#########################################################\n",
            "예측:  [4 2 3 4 3 1 5 4 7 5 1 3 1 1 6 2 4 7 7 4]\n",
            "실제:  [4 2 3 4 3 1 5 4 2 2 1 3 6 1 6 2 4 7 7 4]\n",
            "#########################################################\n",
            "예측:  [4 5 1 1 4 7 4 1 1 5 7 3 4 6 6 6 2 7 5 3]\n",
            "실제:  [1 5 1 1 4 7 4 1 1 5 5 6 5 6 6 6 2 7 5 3]\n",
            "#########################################################\n",
            "예측:  [6 5 6 1 4 6 5 1 5 7 7 6 5 4 6 1 3 7 1 5]\n",
            "실제:  [6 3 6 1 4 6 5 1 5 5 1 6 5 4 6 3 1 7 1 5]\n",
            "#########################################################\n",
            "예측:  [6 6 1 2 6 1 1 6 5 1 4 3 6 1 3 1 2 4 1 5]\n",
            "실제:  [6 6 1 2 6 1 1 6 5 1 4 7 6 1 3 1 2 4 1 5]\n",
            "#########################################################\n",
            "예측:  [4 1 7 4 4 5 7 4 5 6 1 1 4 5 4 4 5 1 3 6]\n",
            "실제:  [4 1 7 5 1 1 5 4 5 6 1 1 4 5 5 4 5 1 3 6]\n",
            "#########################################################\n",
            "예측:  [3 6 1 4 2 1 3 2 1 1 7 4 5 4 7 7 4 6 7 6]\n",
            "실제:  [3 6 1 1 2 1 3 2 1 1 7 4 5 5 7 7 4 6 5 6]\n",
            "#########################################################\n",
            "예측:  [2 7 5 5 5 4 4 4 6 1 1 1 5 1 1 1 1 6 4 5]\n",
            "실제:  [7 7 1 5 5 4 4 5 6 1 5 1 2 1 1 1 1 6 4 5]\n",
            "#########################################################\n",
            "예측:  [6 7 1 1 7 3 4 5 1 1 5 1 5 6 7 1 1 2 1 1]\n",
            "실제:  [6 7 1 1 7 1 4 1 1 1 1 1 1 6 2 1 1 5 1 6]\n",
            "#########################################################\n",
            "예측:  [7 1 1 1 6 4 2 5 1 3 7 3 1 1 1 5 6 1 1 6]\n",
            "실제:  [7 1 1 1 6 4 7 1 1 3 7 3 1 1 1 5 6 4 6 6]\n",
            "#########################################################\n",
            "예측:  [1 3 7 1 4 6 7 4 2 3 6 6 1 7 1 4 1 1 1 6]\n",
            "실제:  [1 3 7 1 2 6 7 4 2 3 1 6 7 7 1 4 1 1 4 6]\n",
            "#########################################################\n",
            "예측:  [5 1 3 7 1 4 1 5 3 7 7 1 1 2 1 5 1 1 3 1]\n",
            "실제:  [2 1 1 7 1 4 1 5 3 7 5 1 1 2 1 5 1 1 5 1]\n",
            "#########################################################\n",
            "예측:  [7 1 3 1 1 1 6 1 7 1 1 1 1 6 2 7 3 5 7 1]\n",
            "실제:  [1 1 3 1 1 3 6 1 1 1 1 1 3 6 2 7 3 1 7 6]\n"
          ],
          "name": "stdout"
        }
      ]
    },
    {
      "cell_type": "code",
      "metadata": {
        "id": "VbA2Fbwkd9Cy"
      },
      "source": [
        ""
      ],
      "execution_count": null,
      "outputs": []
    }
  ]
}