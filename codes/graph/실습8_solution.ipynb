{
  "nbformat": 4,
  "nbformat_minor": 0,
  "metadata": {
    "colab": {
      "name": "실습8_solution.ipynb",
      "provenance": [],
      "collapsed_sections": []
    },
    "kernelspec": {
      "name": "python3",
      "display_name": "Python 3"
    }
  },
  "cells": [
    {
      "cell_type": "markdown",
      "metadata": {
        "id": "OaGFUhRS9_4_"
      },
      "source": [
        "**Lab 8 : Latent Factor based Recommendation System**\r\n",
        "- Instuctor : Kijung Shin\r\n",
        "- Teaching Assistants : Hyunju Lee(main), Deukryeol Yoon, Shinhwan Kang \r\n",
        "- 본 실습에서는 추천 시스템에서 가장 흔히 쓰이는 surprise library를 사용하여 Latent Factor 기반 추천 시스템을 구현해본다."
      ]
    },
    {
      "cell_type": "code",
      "metadata": {
        "colab": {
          "base_uri": "https://localhost:8080/"
        },
        "id": "0eDUTk91-aKU",
        "outputId": "ec5c7a50-be5a-4dba-e59b-e4b7599643d4"
      },
      "source": [
        "!pip install surprise"
      ],
      "execution_count": 1,
      "outputs": [
        {
          "output_type": "stream",
          "text": [
            "Collecting surprise\n",
            "  Downloading https://files.pythonhosted.org/packages/61/de/e5cba8682201fcf9c3719a6fdda95693468ed061945493dea2dd37c5618b/surprise-0.1-py2.py3-none-any.whl\n",
            "Collecting scikit-surprise\n",
            "\u001b[?25l  Downloading https://files.pythonhosted.org/packages/97/37/5d334adaf5ddd65da99fc65f6507e0e4599d092ba048f4302fe8775619e8/scikit-surprise-1.1.1.tar.gz (11.8MB)\n",
            "\u001b[K     |████████████████████████████████| 11.8MB 349kB/s \n",
            "\u001b[?25hRequirement already satisfied: joblib>=0.11 in /usr/local/lib/python3.7/dist-packages (from scikit-surprise->surprise) (1.0.1)\n",
            "Requirement already satisfied: numpy>=1.11.2 in /usr/local/lib/python3.7/dist-packages (from scikit-surprise->surprise) (1.19.5)\n",
            "Requirement already satisfied: scipy>=1.0.0 in /usr/local/lib/python3.7/dist-packages (from scikit-surprise->surprise) (1.4.1)\n",
            "Requirement already satisfied: six>=1.10.0 in /usr/local/lib/python3.7/dist-packages (from scikit-surprise->surprise) (1.15.0)\n",
            "Building wheels for collected packages: scikit-surprise\n",
            "  Building wheel for scikit-surprise (setup.py) ... \u001b[?25l\u001b[?25hdone\n",
            "  Created wheel for scikit-surprise: filename=scikit_surprise-1.1.1-cp37-cp37m-linux_x86_64.whl size=1615294 sha256=deb38875924420b8460b87e316df7c906cad097255310fd28a0a3790c84a5532\n",
            "  Stored in directory: /root/.cache/pip/wheels/78/9c/3d/41b419c9d2aff5b6e2b4c0fc8d25c538202834058f9ed110d0\n",
            "Successfully built scikit-surprise\n",
            "Installing collected packages: scikit-surprise, surprise\n",
            "Successfully installed scikit-surprise-1.1.1 surprise-0.1\n"
          ],
          "name": "stdout"
        }
      ]
    },
    {
      "cell_type": "code",
      "metadata": {
        "id": "SrPwwl069oTE"
      },
      "source": [
        "import numpy as np \r\n",
        "import pandas as pd\r\n",
        "from surprise import SVD  # 잠재 인수 모형\r\n",
        "from surprise.model_selection import train_test_split\r\n",
        "from surprise.dataset import DatasetAutoFolds\r\n",
        "from surprise.model_selection import cross_validate\r\n",
        "from surprise import Dataset, Reader\r\n",
        "from surprise import accuracy"
      ],
      "execution_count": 4,
      "outputs": []
    },
    {
      "cell_type": "code",
      "metadata": {
        "id": "pnIQMvQzEjy8",
        "colab": {
          "base_uri": "https://localhost:8080/"
        },
        "outputId": "2ab99df2-9e4a-456a-bdcf-b4170d9b6d2c"
      },
      "source": [
        "import os, sys \r\n",
        "from google.colab import drive \r\n",
        "\r\n",
        "### 해당 코드 실행 시 colab에서 실행중인 폴더의 /content/drive/My Drive가 구글 드라이브에 연결됨\r\n",
        "\r\n",
        "drive.mount('/content/drive')"
      ],
      "execution_count": 3,
      "outputs": [
        {
          "output_type": "stream",
          "text": [
            "Mounted at /content/drive\n"
          ],
          "name": "stdout"
        }
      ]
    },
    {
      "cell_type": "markdown",
      "metadata": {
        "id": "CLz5jZNali73"
      },
      "source": [
        "**Dataset Loading**"
      ]
    },
    {
      "cell_type": "markdown",
      "metadata": {
        "id": "oC1zb-LU2Q9W"
      },
      "source": [
        "- 여기서는 100,000개의 평점으로 구성된 MovieLens 데이터셋 사용"
      ]
    },
    {
      "cell_type": "code",
      "metadata": {
        "id": "YVMY3fGKDjBn",
        "colab": {
          "base_uri": "https://localhost:8080/"
        },
        "outputId": "f57a8020-add4-4af1-a64d-06d0eebf83d4"
      },
      "source": [
        "#### 데이터셋 불러오기(MovieLens 10k) ####\r\n",
        "df_ratings = pd.read_csv('drive/MyDrive/data/others/ratings.csv')\r\n",
        "\r\n",
        "#### 평점 데이터셋 형태 확인#### \r\n",
        "# surprise library의 Reader 사용 시 반드시 사용자-아이템-평점 순으로 정보가 들어가 있어야 함\r\n",
        "\r\n",
        "print(\"### Rating Dataset Format ###\", end='\\n\\n')\r\n",
        "print(df_ratings.head(), end='\\n\\n\\n')\r\n",
        "df_ratings.drop(['timestamp'], axis=1, inplace=True)\r\n",
        "print(\"### Rating Dataset - Timestamp Removed ###\", end='\\n\\n')\r\n",
        "print(df_ratings)\r\n"
      ],
      "execution_count": 5,
      "outputs": [
        {
          "output_type": "stream",
          "text": [
            "### Rating Dataset Format ###\n",
            "\n",
            "   userId  movieId  rating  timestamp\n",
            "0       1        1     4.0  964982703\n",
            "1       1        3     4.0  964981247\n",
            "2       1        6     4.0  964982224\n",
            "3       1       47     5.0  964983815\n",
            "4       1       50     5.0  964982931\n",
            "\n",
            "\n",
            "### Rating Dataset - Timestamp Removed ###\n",
            "\n",
            "        userId  movieId  rating\n",
            "0            1        1     4.0\n",
            "1            1        3     4.0\n",
            "2            1        6     4.0\n",
            "3            1       47     5.0\n",
            "4            1       50     5.0\n",
            "...        ...      ...     ...\n",
            "100831     610   166534     4.0\n",
            "100832     610   168248     5.0\n",
            "100833     610   168250     5.0\n",
            "100834     610   168252     5.0\n",
            "100835     610   170875     3.0\n",
            "\n",
            "[100836 rows x 3 columns]\n"
          ],
          "name": "stdout"
        }
      ]
    },
    {
      "cell_type": "code",
      "metadata": {
        "colab": {
          "base_uri": "https://localhost:8080/"
        },
        "id": "qtQHQvLR3gJl",
        "outputId": "c36138ec-bfda-45b3-9d24-49468a9c0c35"
      },
      "source": [
        "df_movies = pd.read_csv('drive/MyDrive/data/others/movies.csv')\r\n",
        "\r\n",
        "#### 영화 데이터셋 형태 확인 ####\r\n",
        "print(\"### Movie Dataset Format ###\", end = '\\n\\n')\r\n",
        "print(\"Columns of Movie Dataset : \",df_movies.columns, end = '\\n\\n')\r\n",
        "print(df_movies.head())"
      ],
      "execution_count": 6,
      "outputs": [
        {
          "output_type": "stream",
          "text": [
            "### Movie Dataset Format ###\n",
            "\n",
            "Columns of Movie Dataset :  Index(['movieId', 'title', 'genres'], dtype='object')\n",
            "\n",
            "   movieId  ...                                       genres\n",
            "0        1  ...  Adventure|Animation|Children|Comedy|Fantasy\n",
            "1        2  ...                   Adventure|Children|Fantasy\n",
            "2        3  ...                               Comedy|Romance\n",
            "3        4  ...                         Comedy|Drama|Romance\n",
            "4        5  ...                                       Comedy\n",
            "\n",
            "[5 rows x 3 columns]\n"
          ],
          "name": "stdout"
        }
      ]
    },
    {
      "cell_type": "code",
      "metadata": {
        "colab": {
          "base_uri": "https://localhost:8080/"
        },
        "id": "z4DBCS8uSnkk",
        "outputId": "091ceab1-69e4-45d6-85e0-15382e38ba1f"
      },
      "source": [
        "#### Dataset의 User, Movie 수 확인 ####\r\n",
        "n_users = df_ratings.userId.unique().shape[0]  # userID column에 고유한 값 몇개 있는지 확인\r\n",
        "n_items = df_ratings.movieId.unique().shape[0]\r\n",
        "print(\"num users: {}, num items:{}\".format(n_users, n_items))"
      ],
      "execution_count": 7,
      "outputs": [
        {
          "output_type": "stream",
          "text": [
            "num users: 610, num items:9724\n"
          ],
          "name": "stdout"
        }
      ]
    },
    {
      "cell_type": "code",
      "metadata": {
        "colab": {
          "base_uri": "https://localhost:8080/"
        },
        "id": "fk7uuYkDft5K",
        "outputId": "7a32133a-bbfd-4d6a-fa09-6e9c2ae97978"
      },
      "source": [
        "### Add Your Own Data ### \r\n",
        "\r\n",
        "###################################### Example 1#################################################\r\n",
        "# User 800 is a HUGE fan of Musical Movies\r\n",
        "rows = []                               # row = [user_id, movie_id, rating]\r\n",
        "user_id = 800\r\n",
        "rows.append([user_id, 73, 5])        # movie    73: Miserables, Les (1995)\r\n",
        "rows.append([user_id, 107780, 5])     # movie  107780: Cats(1998) \r\n",
        "rows.append([user_id, 588, 5])     # movie  588: Aladin(1992)\r\n",
        "rows.append([user_id, 60397, 5])    # movie 69397: Mamma Mia!(2008)\r\n",
        "rows.append([user_id, 99149, 5])    # movie 99149: Miserables, Les (2012)\r\n",
        "rows.append([user_id, 138186, 1])    # movie 138186: Sorrow(2015)\r\n",
        "rows.append([user_id, 1997, 1])    # movie 1997: Scream 2 (1991)\r\n",
        "\r\n",
        "##################################################################################################\r\n",
        "\r\n",
        "###################################### Example 2#################################################\r\n",
        "# User 900 is a HUGE fan of Animation Movies\r\n",
        "rows = []                               # row = [user_id, movie_id, rating]\r\n",
        "user_id = 900\r\n",
        "rows.append([user_id, 1022, 5])        # movie    1022: Cinderella(1950)\r\n",
        "rows.append([user_id, 594, 5])     # movie  594: Snow White and the Seven Dwarfs(1937) \r\n",
        "rows.append([user_id, 106696, 5])     # movie  106696: Frozen(2013)\r\n",
        "rows.append([user_id, 166461, 5])    # movie 166461: Moana(2016)\r\n",
        "rows.append([user_id, 595, 5])    # movie 595: Beauty and the Beast (1991)\r\n",
        "rows.append([user_id, 138168, 1])    # movie 138168: Sorrow(2015)\r\n",
        "rows.append([user_id, 1997, 1])    # movie 1997: Scream 2 (1991)\r\n",
        "\r\n",
        "##################################################################################################\r\n",
        "\r\n",
        "\r\n",
        "########################### Add Your Own Ratings using 'movie.csv' data #########################\r\n",
        "# my_rows = []\r\n",
        "# my_id = 2021\r\n",
        "# rows.append([user_id, ,])       # Fill your movie id and rating     \r\n",
        "# rows.append([user_id, ,])       # 여러분이 평가할 영화의 id와 점수를 입력하세요.\r\n",
        "# rows.append([user_id, ,])\r\n",
        "# rows.append([user_id, ,])\r\n",
        "# rows.append([user_id, ,])\r\n",
        "\r\n",
        "##################################################################################################\r\n",
        "for row in rows:\r\n",
        "    df_ratings = df_ratings.append(pd.Series(row, index=df_ratings.columns), ignore_index=True)\r\n",
        "print(df_ratings)"
      ],
      "execution_count": 8,
      "outputs": [
        {
          "output_type": "stream",
          "text": [
            "        userId  movieId  rating\n",
            "0            1        1     4.0\n",
            "1            1        3     4.0\n",
            "2            1        6     4.0\n",
            "3            1       47     5.0\n",
            "4            1       50     5.0\n",
            "...        ...      ...     ...\n",
            "100838     900   106696     5.0\n",
            "100839     900   166461     5.0\n",
            "100840     900      595     5.0\n",
            "100841     900   138168     1.0\n",
            "100842     900     1997     1.0\n",
            "\n",
            "[100843 rows x 3 columns]\n"
          ],
          "name": "stdout"
        }
      ]
    },
    {
      "cell_type": "code",
      "metadata": {
        "colab": {
          "base_uri": "https://localhost:8080/"
        },
        "id": "YhXaysjb4oqC",
        "outputId": "9d807b7f-b07f-4d42-de70-0ad9482b8a83"
      },
      "source": [
        "#### Dataset의 User, Movie 수 확인 ####\r\n",
        "n_users = df_ratings.userId.unique().shape[0]\r\n",
        "n_items = df_ratings.movieId.unique().shape[0]\r\n",
        "print(\"num users: {}, num items:{}\".format(n_users, n_items))"
      ],
      "execution_count": 9,
      "outputs": [
        {
          "output_type": "stream",
          "text": [
            "num users: 611, num items:9725\n"
          ],
          "name": "stdout"
        }
      ]
    },
    {
      "cell_type": "code",
      "metadata": {
        "id": "E_Uvik-nSqL_"
      },
      "source": [
        "#### Get Movid Name from Movie ID - 영화 ID로부터 영화 제목 얻기 ###\r\n",
        "\r\n",
        "movie_set = set()     \r\n",
        "ratings = np.zeros((n_users, n_items))\r\n",
        "for (_, movie_id, _) in df_ratings.itertuples(index=False):\r\n",
        "    movie_set.add(movie_id)\r\n",
        "\r\n",
        "movie_id_to_name=dict()\r\n",
        "movie_id_to_genre=dict()\r\n",
        "\r\n",
        "for (movie_id, movie_name, movie_genre) in df_movies.itertuples(index=False):\r\n",
        "    if movie_id not in movie_set:              # 어떤 영화가 rating data에 없는 경우 skip\r\n",
        "        continue\r\n",
        "    movie_id_to_name[movie_id] = movie_name \r\n",
        "    movie_id_to_genre[movie_id] = movie_genre\r\n",
        "\r\n",
        "    \r\n"
      ],
      "execution_count": 10,
      "outputs": []
    },
    {
      "cell_type": "markdown",
      "metadata": {
        "id": "XuWgjB5N2z75"
      },
      "source": [
        "- 훈련 데이터와 평가 데이터 분리"
      ]
    },
    {
      "cell_type": "code",
      "metadata": {
        "id": "vSU0TfI0EOQ-",
        "colab": {
          "base_uri": "https://localhost:8080/"
        },
        "outputId": "87271daf-c638-48f4-f867-dc250775be61"
      },
      "source": [
        "#### pandas dataframe을 surprise dataset 형태로 바꿔준 후, train set과 test set을 split 해준다 ####\r\n",
        "reader = Reader(rating_scale=(0, 5))\r\n",
        "data = Dataset.load_from_df(df_ratings[['userId','movieId','rating']], reader=reader)\r\n",
        "\r\n",
        "train, test = train_test_split(data, test_size=0.2, shuffle=True)\r\n",
        "\r\n",
        "print(type(data))\r\n",
        "print(type(train))\r\n",
        "\r\n",
        "##################################################################################\r\n",
        "## Grid Search를 위해 surprise.trainset 형태의 데이터를 surprise.dataset으로 변경해준다\r\n",
        "iterator = train.all_ratings()\r\n",
        "train_df = pd.DataFrame(columns=['userId', 'movieId', 'rating'])\r\n",
        "i = 0\r\n",
        "for (uid, iid, rating) in iterator:\r\n",
        "    train_df.loc[i] = [train.to_raw_uid(int(uid)), train.to_raw_iid(iid), rating]\r\n",
        "    i = i+1\r\n",
        "\r\n",
        "train_data = Dataset.load_from_df(train_df, reader=reader)\r\n",
        "\r\n",
        "print(type(train))\r\n",
        "print(type(train_data))\r\n",
        "##################################################################################\r\n"
      ],
      "execution_count": 11,
      "outputs": [
        {
          "output_type": "stream",
          "text": [
            "<class 'surprise.dataset.DatasetAutoFolds'>\n",
            "<class 'surprise.trainset.Trainset'>\n",
            "<class 'surprise.trainset.Trainset'>\n",
            "<class 'surprise.dataset.DatasetAutoFolds'>\n"
          ],
          "name": "stdout"
        }
      ]
    },
    {
      "cell_type": "markdown",
      "metadata": {
        "id": "lhmHbf-n34wo"
      },
      "source": [
        "**모델 설정 및 학습**\r\n",
        "- 하이퍼파리미터 탐색한 뒤, 잠재 인수 모형 학습"
      ]
    },
    {
      "cell_type": "code",
      "metadata": {
        "colab": {
          "base_uri": "https://localhost:8080/"
        },
        "id": "OhULIcsYfZYi",
        "outputId": "242bb7f5-ffaf-4934-fa98-0f0ad8741b7b"
      },
      "source": [
        "### Hyperparameter Grid Search ### \r\n",
        "\r\n",
        "from surprise.model_selection import GridSearchCV\r\n",
        "param_grid = {'n_factors': [10,15,20,30,50,100]} # 임베딩 공간의 차원\r\n",
        "\r\n",
        "####### Fill in Your Code ##########\r\n",
        "# (추천 시스템 모형, 탐색 범위, 탐색 기준, cross validation 데이터 분할)\r\n",
        "grid = GridSearchCV(SVD, param_grid, measures = ['rmse', 'mae'], cv=4)\r\n",
        "grid.fit(train_data)\r\n",
        "#####################################\r\n",
        "\r\n",
        "\r\n",
        "print(grid.best_score['rmse'])\r\n",
        "print(grid.best_params['rmse'])"
      ],
      "execution_count": 12,
      "outputs": [
        {
          "output_type": "stream",
          "text": [
            "0.879623243955389\n",
            "{'n_factors': 15}\n"
          ],
          "name": "stdout"
        }
      ]
    },
    {
      "cell_type": "code",
      "metadata": {
        "id": "WJvHg9ePEA3A",
        "colab": {
          "base_uri": "https://localhost:8080/"
        },
        "outputId": "ba9fa852-83e2-41f8-a623-e3648302d8f3"
      },
      "source": [
        "### Use the Hyperparameter with best performance ###\r\n",
        "\r\n",
        "print(grid.best_params)\r\n",
        "################ Fill in Your Code #################\r\n",
        "\r\n",
        "# 학습한 잠재 인수 모형\r\n",
        "algorithm = SVD(grid.best_params['rmse']['n_factors'])\r\n",
        "algorithm.fit(train)\r\n",
        "####################################################"
      ],
      "execution_count": 13,
      "outputs": [
        {
          "output_type": "stream",
          "text": [
            "{'rmse': {'n_factors': 15}, 'mae': {'n_factors': 15}}\n"
          ],
          "name": "stdout"
        },
        {
          "output_type": "execute_result",
          "data": {
            "text/plain": [
              "<surprise.prediction_algorithms.matrix_factorization.SVD at 0x7f6bc06c9dd0>"
            ]
          },
          "metadata": {
            "tags": []
          },
          "execution_count": 13
        }
      ]
    },
    {
      "cell_type": "markdown",
      "metadata": {
        "id": "lOX0C8lK39nY"
      },
      "source": [
        "**모델 예측**"
      ]
    },
    {
      "cell_type": "code",
      "metadata": {
        "colab": {
          "base_uri": "https://localhost:8080/"
        },
        "id": "QJznKOmcygeD",
        "outputId": "c85717f4-9a8e-4423-f73c-69c4f03284f0"
      },
      "source": [
        "##### algorithm prediction #####\r\n",
        "\r\n",
        "\r\n",
        "prediction = algorithm.test(test)\r\n",
        "for p in prediction[:5]:            # prediction 결과값 5개 미리보기\r\n",
        "    print(p)                        # r_ui : 실제 rating 값, est: 예측된 rating 값\r\n",
        "    "
      ],
      "execution_count": 14,
      "outputs": [
        {
          "output_type": "stream",
          "text": [
            "user: 599        item: 27722      r_ui = 3.50   est = 2.66   {'was_impossible': False}\n",
            "user: 599        item: 7285       r_ui = 3.00   est = 2.90   {'was_impossible': False}\n",
            "user: 555        item: 65         r_ui = 3.00   est = 2.87   {'was_impossible': False}\n",
            "user: 596        item: 1210       r_ui = 4.00   est = 3.89   {'was_impossible': False}\n",
            "user: 237        item: 7980       r_ui = 3.50   est = 3.39   {'was_impossible': False}\n"
          ],
          "name": "stdout"
        }
      ]
    },
    {
      "cell_type": "code",
      "metadata": {
        "colab": {
          "base_uri": "https://localhost:8080/"
        },
        "id": "etXZ1vXxzCXt",
        "outputId": "78f19363-9880-4d37-c2af-64ef59ec1a49"
      },
      "source": [
        "#### 특정 user, 특정 item에 대한 prediction 값 ###\r\n",
        "uid = 800\r\n",
        "iid = 8368\r\n",
        "prediction_user_item = algorithm.predict(uid, iid)\r\n",
        "print(prediction_user_item)     "
      ],
      "execution_count": 15,
      "outputs": [
        {
          "output_type": "stream",
          "text": [
            "user: 800        item: 8368       r_ui = None   est = 4.10   {'was_impossible': False}\n"
          ],
          "name": "stdout"
        }
      ]
    },
    {
      "cell_type": "code",
      "metadata": {
        "id": "CdmHg93zLTd7"
      },
      "source": [
        "##############################################################\r\n",
        "##### 해당 user가 아직 보지 않은 영화를 return해주는 함수#####\r\n",
        "##############################################################\r\n",
        "def get_unseen_movies(data, user_id):\r\n",
        "\r\n",
        "    watched_movies = set()\r\n",
        "    total_movies = set()\r\n",
        "    ########### Fill in Your Code #################\r\n",
        "    for (uid, iid, rating) in data.all_ratings():\r\n",
        "        \r\n",
        "        total_movies.add(iid)\r\n",
        "        if uid == user_id:\r\n",
        "            watched_movies.add(iid)\r\n",
        "    \r\n",
        "    unseen_movies = total_movies - watched_movies\r\n",
        "    ##################################################\r\n",
        "    return unseen_movies\r\n",
        "    # return total_movies"
      ],
      "execution_count": 16,
      "outputs": []
    },
    {
      "cell_type": "markdown",
      "metadata": {
        "id": "b9hqpfvv5U76"
      },
      "source": [
        "- 시청하지 않은 영화 중에 추정 평점이 높은 것들을 추정 평점 역순으로 추천한다"
      ]
    },
    {
      "cell_type": "code",
      "metadata": {
        "id": "tw-koiPVKGin"
      },
      "source": [
        "################################################################################\r\n",
        "############# 특정 user에게 top k개의 영상을 추천해주는 함수 ###################\r\n",
        "################################################################################\r\n",
        "def recommend(train, algorithm, user_id, top_k=10):\r\n",
        "    ################ Fill in Your Code ########################################\r\n",
        "    # 보지 않은 영화 목록 가져온다\r\n",
        "    unseen_movies = get_unseen_movies(train, user_id)\r\n",
        "    \r\n",
        "    # 점수 추정\r\n",
        "    prediction = [algorithm.predict(user_id, movie_id) for movie_id in unseen_movies]\r\n",
        "\r\n",
        "    # 점수 역순 정렬\r\n",
        "    prediction.sort(key=lambda x:x.est, reverse=True)  \r\n",
        "\r\n",
        "    ###########################################################################\r\n",
        "    for _, movie, _, pred, _ in prediction[:top_k]:\r\n",
        "        print(\"movid id: {}, movie genre: {},predicted rating: {}\".format(movie_id_to_name[movie], movie_id_to_genre[movie], pred))\r\n"
      ],
      "execution_count": 17,
      "outputs": []
    },
    {
      "cell_type": "code",
      "metadata": {
        "colab": {
          "base_uri": "https://localhost:8080/"
        },
        "id": "qu_CPfAEQF3z",
        "outputId": "cae2edf5-89ff-4eb0-c29d-d5816f7248db"
      },
      "source": [
        "#########################################\r\n",
        "####### 800번 유저의 추천 결과 ##########\r\n",
        "#########################################\r\n",
        "\r\n",
        "recommend(train, algorithm, user_id=800, top_k=20)\r\n"
      ],
      "execution_count": 18,
      "outputs": [
        {
          "output_type": "stream",
          "text": [
            "movid id: Dr. Strangelove or: How I Learned to Stop Worrying and Love the Bomb (1964), movie genre: Comedy|War,predicted rating: 4.379268343299398\n",
            "movid id: Cool Hand Luke (1967), movie genre: Drama,predicted rating: 4.366337910559869\n",
            "movid id: Shawshank Redemption, The (1994), movie genre: Crime|Drama,predicted rating: 4.357400944375781\n",
            "movid id: Great Escape, The (1963), movie genre: Action|Adventure|Drama|War,predicted rating: 4.338102501836261\n",
            "movid id: Lawrence of Arabia (1962), movie genre: Adventure|Drama|War,predicted rating: 4.338069613240958\n",
            "movid id: Rear Window (1954), movie genre: Mystery|Thriller,predicted rating: 4.3159192373770505\n",
            "movid id: Sunset Blvd. (a.k.a. Sunset Boulevard) (1950), movie genre: Drama|Film-Noir|Romance,predicted rating: 4.314247235102333\n",
            "movid id: Godfather, The (1972), movie genre: Crime|Drama,predicted rating: 4.312106926751112\n",
            "movid id: Usual Suspects, The (1995), movie genre: Crime|Mystery|Thriller,predicted rating: 4.307639521902191\n",
            "movid id: Casablanca (1942), movie genre: Drama|Romance,predicted rating: 4.306233716665185\n",
            "movid id: Brazil (1985), movie genre: Fantasy|Sci-Fi,predicted rating: 4.306091343382373\n",
            "movid id: Manchurian Candidate, The (1962), movie genre: Crime|Thriller|War,predicted rating: 4.297844660446143\n",
            "movid id: Amelie (Fabuleux destin d'Amélie Poulain, Le) (2001), movie genre: Comedy|Romance,predicted rating: 4.297655801876238\n",
            "movid id: One Flew Over the Cuckoo's Nest (1975), movie genre: Drama,predicted rating: 4.2751457635873455\n",
            "movid id: Bridge on the River Kwai, The (1957), movie genre: Adventure|Drama|War,predicted rating: 4.266027562945067\n",
            "movid id: Goodfellas (1990), movie genre: Crime|Drama,predicted rating: 4.265983268445173\n",
            "movid id: Good, the Bad and the Ugly, The (Buono, il brutto, il cattivo, Il) (1966), movie genre: Action|Adventure|Western,predicted rating: 4.264931763990457\n",
            "movid id: Lord of the Rings: The Return of the King, The (2003), movie genre: Action|Adventure|Drama|Fantasy,predicted rating: 4.257858056850591\n",
            "movid id: Princess Bride, The (1987), movie genre: Action|Adventure|Comedy|Fantasy|Romance,predicted rating: 4.253362172923848\n",
            "movid id: Apocalypse Now (1979), movie genre: Action|Drama|War,predicted rating: 4.253277997002035\n"
          ],
          "name": "stdout"
        }
      ]
    },
    {
      "cell_type": "code",
      "metadata": {
        "colab": {
          "base_uri": "https://localhost:8080/"
        },
        "id": "7hNkvzAG4dnb",
        "outputId": "625bcfe9-c8bc-4d5a-e0e9-6b9f7eb0ef31"
      },
      "source": [
        "#########################################\r\n",
        "####### 900번 유저의 추천 결과 ##########\r\n",
        "#########################################\r\n",
        "\r\n",
        "recommend(train, algorithm, user_id=900, top_k=20)\r\n"
      ],
      "execution_count": 19,
      "outputs": [
        {
          "output_type": "stream",
          "text": [
            "movid id: Shawshank Redemption, The (1994), movie genre: Crime|Drama,predicted rating: 4.780200505264372\n",
            "movid id: Dr. Strangelove or: How I Learned to Stop Worrying and Love the Bomb (1964), movie genre: Comedy|War,predicted rating: 4.771367032257561\n",
            "movid id: Lawrence of Arabia (1962), movie genre: Adventure|Drama|War,predicted rating: 4.746860741892152\n",
            "movid id: Godfather, The (1972), movie genre: Crime|Drama,predicted rating: 4.728139408387854\n",
            "movid id: Cool Hand Luke (1967), movie genre: Drama,predicted rating: 4.711957023184131\n",
            "movid id: Usual Suspects, The (1995), movie genre: Crime|Mystery|Thriller,predicted rating: 4.688826831802954\n",
            "movid id: Great Escape, The (1963), movie genre: Action|Adventure|Drama|War,predicted rating: 4.684900006788807\n",
            "movid id: Casablanca (1942), movie genre: Drama|Romance,predicted rating: 4.678470198784165\n",
            "movid id: Lord of the Rings: The Return of the King, The (2003), movie genre: Action|Adventure|Drama|Fantasy,predicted rating: 4.660734997903226\n",
            "movid id: Godfather: Part II, The (1974), movie genre: Crime|Drama,predicted rating: 4.660720864730739\n",
            "movid id: Star Wars: Episode IV - A New Hope (1977), movie genre: Action|Adventure|Sci-Fi,predicted rating: 4.654808218123038\n",
            "movid id: Fight Club (1999), movie genre: Action|Crime|Drama|Thriller,predicted rating: 4.649787082683094\n",
            "movid id: Good, the Bad and the Ugly, The (Buono, il brutto, il cattivo, Il) (1966), movie genre: Action|Adventure|Western,predicted rating: 4.642139377264041\n",
            "movid id: Sunset Blvd. (a.k.a. Sunset Boulevard) (1950), movie genre: Drama|Film-Noir|Romance,predicted rating: 4.637616553084988\n",
            "movid id: Spirited Away (Sen to Chihiro no kamikakushi) (2001), movie genre: Adventure|Animation|Fantasy,predicted rating: 4.630499075043413\n",
            "movid id: Brazil (1985), movie genre: Fantasy|Sci-Fi,predicted rating: 4.630078567963665\n",
            "movid id: Raiders of the Lost Ark (Indiana Jones and the Raiders of the Lost Ark) (1981), movie genre: Action|Adventure,predicted rating: 4.629407644287877\n",
            "movid id: Schindler's List (1993), movie genre: Drama|War,predicted rating: 4.622493516294802\n",
            "movid id: Amelie (Fabuleux destin d'Amélie Poulain, Le) (2001), movie genre: Comedy|Romance,predicted rating: 4.618556846648325\n",
            "movid id: Manchurian Candidate, The (1962), movie genre: Crime|Thriller|War,predicted rating: 4.616867987758648\n"
          ],
          "name": "stdout"
        }
      ]
    },
    {
      "cell_type": "code",
      "metadata": {
        "id": "klbhY2KOnMo7"
      },
      "source": [
        ""
      ],
      "execution_count": null,
      "outputs": []
    }
  ]
}