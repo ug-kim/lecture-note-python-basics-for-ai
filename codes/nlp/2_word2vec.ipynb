{
  "nbformat": 4,
  "nbformat_minor": 0,
  "metadata": {
    "accelerator": "GPU",
    "colab": {
      "name": "2_word2vec.ipynb",
      "provenance": [],
      "collapsed_sections": []
    },
    "kernelspec": {
      "display_name": "Python 3",
      "name": "python3"
    }
  },
  "cells": [
    {
      "cell_type": "markdown",
      "metadata": {
        "id": "h3FAK0fz1kOr"
      },
      "source": [
        "##**2. Word2Vec**\r\n",
        "1. 주어진 단어들을 word2vec 모델에 들어갈 수 있는 형태로 만듭니다.\r\n",
        "2. CBOW, Skip-gram 모델을 각각 구현합니다.\r\n",
        "3. 모델을 실제로 학습해보고 결과를 확인합니다."
      ]
    },
    {
      "cell_type": "code",
      "metadata": {
        "colab": {
          "base_uri": "https://localhost:8080/"
        },
        "id": "cw8WeyAPa5HQ",
        "outputId": "2714d6ca-590e-49c1-cbbb-c7dfded324a5"
      },
      "source": [
        "from google.colab import drive\n",
        "drive.mount('/content/drive')"
      ],
      "execution_count": 1,
      "outputs": [
        {
          "output_type": "stream",
          "text": [
            "Mounted at /content/drive\n"
          ],
          "name": "stdout"
        }
      ]
    },
    {
      "cell_type": "markdown",
      "metadata": {
        "id": "u9FrxTPWIsct"
      },
      "source": [
        "### **필요 패키지 import**"
      ]
    },
    {
      "cell_type": "code",
      "metadata": {
        "id": "QjroCdtwI9Rz",
        "colab": {
          "base_uri": "https://localhost:8080/"
        },
        "outputId": "e7e8128c-9103-4c6e-c2ce-6aacb2d0b39e"
      },
      "source": [
        "!pip install konlpy"
      ],
      "execution_count": 2,
      "outputs": [
        {
          "output_type": "stream",
          "text": [
            "Collecting konlpy\n",
            "\u001b[?25l  Downloading https://files.pythonhosted.org/packages/85/0e/f385566fec837c0b83f216b2da65db9997b35dd675e107752005b7d392b1/konlpy-0.5.2-py2.py3-none-any.whl (19.4MB)\n",
            "\u001b[K     |████████████████████████████████| 19.4MB 1.3MB/s \n",
            "\u001b[?25hCollecting beautifulsoup4==4.6.0\n",
            "\u001b[?25l  Downloading https://files.pythonhosted.org/packages/9e/d4/10f46e5cfac773e22707237bfcd51bbffeaf0a576b0a847ec7ab15bd7ace/beautifulsoup4-4.6.0-py3-none-any.whl (86kB)\n",
            "\u001b[K     |████████████████████████████████| 92kB 8.9MB/s \n",
            "\u001b[?25hCollecting colorama\n",
            "  Downloading https://files.pythonhosted.org/packages/44/98/5b86278fbbf250d239ae0ecb724f8572af1c91f4a11edf4d36a206189440/colorama-0.4.4-py2.py3-none-any.whl\n",
            "Collecting tweepy>=3.7.0\n",
            "  Downloading https://files.pythonhosted.org/packages/67/c3/6bed87f3b1e5ed2f34bd58bf7978e308c86e255193916be76e5a5ce5dfca/tweepy-3.10.0-py2.py3-none-any.whl\n",
            "Requirement already satisfied: lxml>=4.1.0 in /usr/local/lib/python3.6/dist-packages (from konlpy) (4.2.6)\n",
            "Requirement already satisfied: numpy>=1.6 in /usr/local/lib/python3.6/dist-packages (from konlpy) (1.19.5)\n",
            "Collecting JPype1>=0.7.0\n",
            "\u001b[?25l  Downloading https://files.pythonhosted.org/packages/de/af/93f92b38ec1ff3091cd38982ed19cea2800fefb609b5801c41fc43c0781e/JPype1-1.2.1-cp36-cp36m-manylinux2010_x86_64.whl (457kB)\n",
            "\u001b[K     |████████████████████████████████| 460kB 34.5MB/s \n",
            "\u001b[?25hRequirement already satisfied: requests-oauthlib>=0.7.0 in /usr/local/lib/python3.6/dist-packages (from tweepy>=3.7.0->konlpy) (1.3.0)\n",
            "Requirement already satisfied: requests[socks]>=2.11.1 in /usr/local/lib/python3.6/dist-packages (from tweepy>=3.7.0->konlpy) (2.23.0)\n",
            "Requirement already satisfied: six>=1.10.0 in /usr/local/lib/python3.6/dist-packages (from tweepy>=3.7.0->konlpy) (1.15.0)\n",
            "Requirement already satisfied: typing-extensions; python_version < \"3.8\" in /usr/local/lib/python3.6/dist-packages (from JPype1>=0.7.0->konlpy) (3.7.4.3)\n",
            "Requirement already satisfied: oauthlib>=3.0.0 in /usr/local/lib/python3.6/dist-packages (from requests-oauthlib>=0.7.0->tweepy>=3.7.0->konlpy) (3.1.0)\n",
            "Requirement already satisfied: chardet<4,>=3.0.2 in /usr/local/lib/python3.6/dist-packages (from requests[socks]>=2.11.1->tweepy>=3.7.0->konlpy) (3.0.4)\n",
            "Requirement already satisfied: certifi>=2017.4.17 in /usr/local/lib/python3.6/dist-packages (from requests[socks]>=2.11.1->tweepy>=3.7.0->konlpy) (2020.12.5)\n",
            "Requirement already satisfied: urllib3!=1.25.0,!=1.25.1,<1.26,>=1.21.1 in /usr/local/lib/python3.6/dist-packages (from requests[socks]>=2.11.1->tweepy>=3.7.0->konlpy) (1.24.3)\n",
            "Requirement already satisfied: idna<3,>=2.5 in /usr/local/lib/python3.6/dist-packages (from requests[socks]>=2.11.1->tweepy>=3.7.0->konlpy) (2.10)\n",
            "Requirement already satisfied: PySocks!=1.5.7,>=1.5.6; extra == \"socks\" in /usr/local/lib/python3.6/dist-packages (from requests[socks]>=2.11.1->tweepy>=3.7.0->konlpy) (1.7.1)\n",
            "Installing collected packages: beautifulsoup4, colorama, tweepy, JPype1, konlpy\n",
            "  Found existing installation: beautifulsoup4 4.6.3\n",
            "    Uninstalling beautifulsoup4-4.6.3:\n",
            "      Successfully uninstalled beautifulsoup4-4.6.3\n",
            "  Found existing installation: tweepy 3.6.0\n",
            "    Uninstalling tweepy-3.6.0:\n",
            "      Successfully uninstalled tweepy-3.6.0\n",
            "Successfully installed JPype1-1.2.1 beautifulsoup4-4.6.0 colorama-0.4.4 konlpy-0.5.2 tweepy-3.10.0\n"
          ],
          "name": "stdout"
        }
      ]
    },
    {
      "cell_type": "code",
      "metadata": {
        "id": "nSP7aXfJIr3i"
      },
      "source": [
        "from tqdm import tqdm\r\n",
        "from konlpy.tag import Okt\r\n",
        "from torch import nn\r\n",
        "from torch.nn import functional as F\r\n",
        "from torch.utils.data import Dataset, DataLoader\r\n",
        "from collections import defaultdict\r\n",
        "\r\n",
        "import torch\r\n",
        "import copy\r\n",
        "import numpy as np"
      ],
      "execution_count": 3,
      "outputs": []
    },
    {
      "cell_type": "markdown",
      "metadata": {
        "id": "qugro74yJASr"
      },
      "source": [
        "### **데이터 전처리**"
      ]
    },
    {
      "cell_type": "markdown",
      "metadata": {
        "id": "Q36dfSRRJDtX"
      },
      "source": [
        "\r\n",
        "\r\n",
        "데이터를 확인하고 Word2Vec 형식에 맞게 전처리합니다.  \r\n",
        "학습 데이터는 1번 실습과 동일하고, 테스트를 위한 단어를 아래와 같이 가정해봅시다."
      ]
    },
    {
      "cell_type": "code",
      "metadata": {
        "id": "CLZ2f-lRJSus"
      },
      "source": [
        "train_data = [\r\n",
        "  \"정말 맛있습니다. 추천합니다.\",\r\n",
        "  \"기대했던 것보단 별로였네요.\",\r\n",
        "  \"다 좋은데 가격이 너무 비싸서 다시 가고 싶다는 생각이 안 드네요.\",\r\n",
        "  \"완전 최고입니다! 재방문 의사 있습니다.\",\r\n",
        "  \"음식도 서비스도 다 만족스러웠습니다.\",\r\n",
        "  \"위생 상태가 좀 별로였습니다. 좀 더 개선되기를 바랍니다.\",\r\n",
        "  \"맛도 좋았고 직원분들 서비스도 너무 친절했습니다.\",\r\n",
        "  \"기념일에 방문했는데 음식도 분위기도 서비스도 다 좋았습니다.\",\r\n",
        "  \"전반적으로 음식이 너무 짰습니다. 저는 별로였네요.\",\r\n",
        "  \"위생에 조금 더 신경 썼으면 좋겠습니다. 조금 불쾌했습니다.\"       \r\n",
        "]\r\n",
        "\r\n",
        "test_words = [\"음식\", \"맛\", \"서비스\", \"위생\", \"가격\"]"
      ],
      "execution_count": 4,
      "outputs": []
    },
    {
      "cell_type": "markdown",
      "metadata": {
        "id": "vReElaFSLBYL"
      },
      "source": [
        "Tokenization과 vocab을 만드는 과정은 이전 실습과 유사합니다."
      ]
    },
    {
      "cell_type": "code",
      "metadata": {
        "id": "dTjlRzmWMDK_"
      },
      "source": [
        "tokenizer = Okt()"
      ],
      "execution_count": 5,
      "outputs": []
    },
    {
      "cell_type": "code",
      "metadata": {
        "id": "0DTUsX672icp"
      },
      "source": [
        "def make_tokenized(data):\r\n",
        "  tokenized = []\r\n",
        "  for sent in tqdm(data):\r\n",
        "    tokens = tokenizer.morphs(sent, stem=True)\r\n",
        "    tokenized.append(tokens)\r\n",
        "\r\n",
        "  return tokenized"
      ],
      "execution_count": 6,
      "outputs": []
    },
    {
      "cell_type": "code",
      "metadata": {
        "id": "C-z0z6HD2rrX",
        "colab": {
          "base_uri": "https://localhost:8080/"
        },
        "outputId": "ebc5a36a-5082-4d62-d24c-ee4c481c4d83"
      },
      "source": [
        "train_tokenized = make_tokenized(train_data)"
      ],
      "execution_count": 7,
      "outputs": [
        {
          "output_type": "stream",
          "text": [
            "100%|██████████| 10/10 [00:06<00:00,  1.44it/s]\n"
          ],
          "name": "stderr"
        }
      ]
    },
    {
      "cell_type": "code",
      "metadata": {
        "id": "51exEpI0Mc3l",
        "colab": {
          "base_uri": "https://localhost:8080/"
        },
        "outputId": "a3402388-a54e-47d0-d55d-28c0ac229739"
      },
      "source": [
        "word_count = defaultdict(int)\r\n",
        "\r\n",
        "for tokens in tqdm(train_tokenized):\r\n",
        "  for token in tokens:\r\n",
        "    word_count[token] += 1"
      ],
      "execution_count": 8,
      "outputs": [
        {
          "output_type": "stream",
          "text": [
            "100%|██████████| 10/10 [00:00<00:00, 8413.85it/s]\n"
          ],
          "name": "stderr"
        }
      ]
    },
    {
      "cell_type": "code",
      "metadata": {
        "id": "gyvHAMAnMh1D",
        "colab": {
          "base_uri": "https://localhost:8080/"
        },
        "outputId": "b99fbe89-f32e-4872-8c0a-ad209a5617bd"
      },
      "source": [
        "word_count = sorted(word_count.items(), key=lambda x: x[1], reverse=True)\r\n",
        "print(list(word_count))"
      ],
      "execution_count": 9,
      "outputs": [
        {
          "output_type": "stream",
          "text": [
            "[('.', 14), ('도', 7), ('이다', 4), ('좋다', 4), ('별로', 3), ('다', 3), ('이', 3), ('너무', 3), ('음식', 3), ('서비스', 3), ('하다', 2), ('방문', 2), ('위생', 2), ('좀', 2), ('더', 2), ('에', 2), ('조금', 2), ('정말', 1), ('맛있다', 1), ('추천', 1), ('기대하다', 1), ('것', 1), ('보단', 1), ('가격', 1), ('비싸다', 1), ('다시', 1), ('가다', 1), ('싶다', 1), ('생각', 1), ('안', 1), ('드네', 1), ('요', 1), ('완전', 1), ('최고', 1), ('!', 1), ('재', 1), ('의사', 1), ('있다', 1), ('만족스럽다', 1), ('상태', 1), ('가', 1), ('개선', 1), ('되다', 1), ('기르다', 1), ('바라다', 1), ('맛', 1), ('직원', 1), ('분들', 1), ('친절하다', 1), ('기념일', 1), ('분위기', 1), ('전반', 1), ('적', 1), ('으로', 1), ('짜다', 1), ('저', 1), ('는', 1), ('신경', 1), ('써다', 1), ('불쾌하다', 1)]\n"
          ],
          "name": "stdout"
        }
      ]
    },
    {
      "cell_type": "code",
      "metadata": {
        "id": "DaK_i3zL2vO3",
        "colab": {
          "base_uri": "https://localhost:8080/"
        },
        "outputId": "b0d1815c-bd42-48b5-d3d7-4bd9e3165c55"
      },
      "source": [
        "w2i = {}\r\n",
        "for pair in tqdm(word_count):\r\n",
        "  if pair[0] not in w2i:\r\n",
        "    w2i[pair[0]] = len(w2i)"
      ],
      "execution_count": 10,
      "outputs": [
        {
          "output_type": "stream",
          "text": [
            "100%|██████████| 60/60 [00:00<00:00, 207126.12it/s]\n"
          ],
          "name": "stderr"
        }
      ]
    },
    {
      "cell_type": "code",
      "metadata": {
        "id": "LiGqiEGDL5B_",
        "colab": {
          "base_uri": "https://localhost:8080/"
        },
        "outputId": "437335e3-7a0a-49c8-aa7c-d1bee5163c01"
      },
      "source": [
        "print(train_tokenized)\r\n",
        "print(w2i)"
      ],
      "execution_count": 11,
      "outputs": [
        {
          "output_type": "stream",
          "text": [
            "[['정말', '맛있다', '.', '추천', '하다', '.'], ['기대하다', '것', '보단', '별로', '이다', '.'], ['다', '좋다', '가격', '이', '너무', '비싸다', '다시', '가다', '싶다', '생각', '이', '안', '드네', '요', '.'], ['완전', '최고', '이다', '!', '재', '방문', '의사', '있다', '.'], ['음식', '도', '서비스', '도', '다', '만족스럽다', '.'], ['위생', '상태', '가', '좀', '별로', '이다', '.', '좀', '더', '개선', '되다', '기르다', '바라다', '.'], ['맛', '도', '좋다', '직원', '분들', '서비스', '도', '너무', '친절하다', '.'], ['기념일', '에', '방문', '하다', '음식', '도', '분위기', '도', '서비스', '도', '다', '좋다', '.'], ['전반', '적', '으로', '음식', '이', '너무', '짜다', '.', '저', '는', '별로', '이다', '.'], ['위생', '에', '조금', '더', '신경', '써다', '좋다', '.', '조금', '불쾌하다', '.']]\n",
            "{'.': 0, '도': 1, '이다': 2, '좋다': 3, '별로': 4, '다': 5, '이': 6, '너무': 7, '음식': 8, '서비스': 9, '하다': 10, '방문': 11, '위생': 12, '좀': 13, '더': 14, '에': 15, '조금': 16, '정말': 17, '맛있다': 18, '추천': 19, '기대하다': 20, '것': 21, '보단': 22, '가격': 23, '비싸다': 24, '다시': 25, '가다': 26, '싶다': 27, '생각': 28, '안': 29, '드네': 30, '요': 31, '완전': 32, '최고': 33, '!': 34, '재': 35, '의사': 36, '있다': 37, '만족스럽다': 38, '상태': 39, '가': 40, '개선': 41, '되다': 42, '기르다': 43, '바라다': 44, '맛': 45, '직원': 46, '분들': 47, '친절하다': 48, '기념일': 49, '분위기': 50, '전반': 51, '적': 52, '으로': 53, '짜다': 54, '저': 55, '는': 56, '신경': 57, '써다': 58, '불쾌하다': 59}\n"
          ],
          "name": "stdout"
        }
      ]
    },
    {
      "cell_type": "markdown",
      "metadata": {
        "id": "vXA5zaPPM3Wd"
      },
      "source": [
        "실제 모델에 들어가기 위한 input을 만들기 위해 `Dataset` 클래스를 정의합니다."
      ]
    },
    {
      "cell_type": "code",
      "metadata": {
        "id": "s47ssyVt89t1"
      },
      "source": [
        "class CBOWDataset(Dataset):\r\n",
        "  def __init__(self, train_tokenized, window_size=2):\r\n",
        "    self.x = []\r\n",
        "    self.y = []\r\n",
        "\r\n",
        "    for tokens in tqdm(train_tokenized):\r\n",
        "      token_ids = [w2i[token] for token in tokens]\r\n",
        "      for i, id in enumerate(token_ids):\r\n",
        "        if i-window_size >= 0 and i+window_size < len(token_ids):\r\n",
        "          self.x.append(token_ids[i-window_size:i] + token_ids[i+1:i+window_size+1])\r\n",
        "          self.y.append(id)\r\n",
        "\r\n",
        "    #################\r\n",
        "    ####이해 안됨####\r\n",
        "    #################\r\n",
        "    self.x = torch.LongTensor(self.x)  # (전체 데이터 개수, 2 * window_size)\r\n",
        "    self.y = torch.LongTensor(self.y)  # (전체 데이터 개수)\r\n",
        "\r\n",
        "  # Dataset class 상속해야 하므로\r\n",
        "  def __len__(self):\r\n",
        "    return self.x.shape[0]\r\n",
        "\r\n",
        "  def __getitem__(self, idx):\r\n",
        "    return self.x[idx], self.y[idx]"
      ],
      "execution_count": 12,
      "outputs": []
    },
    {
      "cell_type": "code",
      "metadata": {
        "id": "kvInhQ33AMJv"
      },
      "source": [
        "class SkipGramDataset(Dataset):\r\n",
        "  def __init__(self, train_tokenized, window_size=2):\r\n",
        "    self.x = []\r\n",
        "    self.y = []\r\n",
        "\r\n",
        "    for tokens in tqdm(train_tokenized):\r\n",
        "      token_ids = [w2i[token] for token in tokens]\r\n",
        "      for i, id in enumerate(token_ids):\r\n",
        "        if i-window_size >= 0 and i+window_size < len(token_ids):\r\n",
        "          self.y += (token_ids[i-window_size:i] + token_ids[i+1:i+window_size+1])\r\n",
        "          self.x += [id] * 2 * window_size\r\n",
        "\r\n",
        "    self.x = torch.LongTensor(self.x)  # (전체 데이터 개수)\r\n",
        "    self.y = torch.LongTensor(self.y)  # (전체 데이터 개수)\r\n",
        "\r\n",
        "  def __len__(self):\r\n",
        "    return self.x.shape[0]\r\n",
        "\r\n",
        "  def __getitem__(self, idx):\r\n",
        "    return self.x[idx], self.y[idx]"
      ],
      "execution_count": 13,
      "outputs": []
    },
    {
      "cell_type": "markdown",
      "metadata": {
        "id": "JyAGV5IUUba0"
      },
      "source": [
        "각 모델에 맞는 `Dataset` 객체를 생성합니다."
      ]
    },
    {
      "cell_type": "code",
      "metadata": {
        "id": "5ep7Hm6oBWyy",
        "colab": {
          "base_uri": "https://localhost:8080/"
        },
        "outputId": "cb9091a4-f23f-48a4-8ae8-5549e8b54e19"
      },
      "source": [
        "cbow_set = CBOWDataset(train_tokenized)\r\n",
        "skipgram_set = SkipGramDataset(train_tokenized)\r\n",
        "print(list(skipgram_set))"
      ],
      "execution_count": 14,
      "outputs": [
        {
          "output_type": "stream",
          "text": [
            "100%|██████████| 10/10 [00:00<00:00, 7211.66it/s]\n",
            "100%|██████████| 10/10 [00:00<00:00, 8158.54it/s]"
          ],
          "name": "stderr"
        },
        {
          "output_type": "stream",
          "text": [
            "[(tensor(0), tensor(17)), (tensor(0), tensor(18)), (tensor(0), tensor(19)), (tensor(0), tensor(10)), (tensor(19), tensor(18)), (tensor(19), tensor(0)), (tensor(19), tensor(10)), (tensor(19), tensor(0)), (tensor(22), tensor(20)), (tensor(22), tensor(21)), (tensor(22), tensor(4)), (tensor(22), tensor(2)), (tensor(4), tensor(21)), (tensor(4), tensor(22)), (tensor(4), tensor(2)), (tensor(4), tensor(0)), (tensor(23), tensor(5)), (tensor(23), tensor(3)), (tensor(23), tensor(6)), (tensor(23), tensor(7)), (tensor(6), tensor(3)), (tensor(6), tensor(23)), (tensor(6), tensor(7)), (tensor(6), tensor(24)), (tensor(7), tensor(23)), (tensor(7), tensor(6)), (tensor(7), tensor(24)), (tensor(7), tensor(25)), (tensor(24), tensor(6)), (tensor(24), tensor(7)), (tensor(24), tensor(25)), (tensor(24), tensor(26)), (tensor(25), tensor(7)), (tensor(25), tensor(24)), (tensor(25), tensor(26)), (tensor(25), tensor(27)), (tensor(26), tensor(24)), (tensor(26), tensor(25)), (tensor(26), tensor(27)), (tensor(26), tensor(28)), (tensor(27), tensor(25)), (tensor(27), tensor(26)), (tensor(27), tensor(28)), (tensor(27), tensor(6)), (tensor(28), tensor(26)), (tensor(28), tensor(27)), (tensor(28), tensor(6)), (tensor(28), tensor(29)), (tensor(6), tensor(27)), (tensor(6), tensor(28)), (tensor(6), tensor(29)), (tensor(6), tensor(30)), (tensor(29), tensor(28)), (tensor(29), tensor(6)), (tensor(29), tensor(30)), (tensor(29), tensor(31)), (tensor(30), tensor(6)), (tensor(30), tensor(29)), (tensor(30), tensor(31)), (tensor(30), tensor(0)), (tensor(2), tensor(32)), (tensor(2), tensor(33)), (tensor(2), tensor(34)), (tensor(2), tensor(35)), (tensor(34), tensor(33)), (tensor(34), tensor(2)), (tensor(34), tensor(35)), (tensor(34), tensor(11)), (tensor(35), tensor(2)), (tensor(35), tensor(34)), (tensor(35), tensor(11)), (tensor(35), tensor(36)), (tensor(11), tensor(34)), (tensor(11), tensor(35)), (tensor(11), tensor(36)), (tensor(11), tensor(37)), (tensor(36), tensor(35)), (tensor(36), tensor(11)), (tensor(36), tensor(37)), (tensor(36), tensor(0)), (tensor(9), tensor(8)), (tensor(9), tensor(1)), (tensor(9), tensor(1)), (tensor(9), tensor(5)), (tensor(1), tensor(1)), (tensor(1), tensor(9)), (tensor(1), tensor(5)), (tensor(1), tensor(38)), (tensor(5), tensor(9)), (tensor(5), tensor(1)), (tensor(5), tensor(38)), (tensor(5), tensor(0)), (tensor(40), tensor(12)), (tensor(40), tensor(39)), (tensor(40), tensor(13)), (tensor(40), tensor(4)), (tensor(13), tensor(39)), (tensor(13), tensor(40)), (tensor(13), tensor(4)), (tensor(13), tensor(2)), (tensor(4), tensor(40)), (tensor(4), tensor(13)), (tensor(4), tensor(2)), (tensor(4), tensor(0)), (tensor(2), tensor(13)), (tensor(2), tensor(4)), (tensor(2), tensor(0)), (tensor(2), tensor(13)), (tensor(0), tensor(4)), (tensor(0), tensor(2)), (tensor(0), tensor(13)), (tensor(0), tensor(14)), (tensor(13), tensor(2)), (tensor(13), tensor(0)), (tensor(13), tensor(14)), (tensor(13), tensor(41)), (tensor(14), tensor(0)), (tensor(14), tensor(13)), (tensor(14), tensor(41)), (tensor(14), tensor(42)), (tensor(41), tensor(13)), (tensor(41), tensor(14)), (tensor(41), tensor(42)), (tensor(41), tensor(43)), (tensor(42), tensor(14)), (tensor(42), tensor(41)), (tensor(42), tensor(43)), (tensor(42), tensor(44)), (tensor(43), tensor(41)), (tensor(43), tensor(42)), (tensor(43), tensor(44)), (tensor(43), tensor(0)), (tensor(3), tensor(45)), (tensor(3), tensor(1)), (tensor(3), tensor(46)), (tensor(3), tensor(47)), (tensor(46), tensor(1)), (tensor(46), tensor(3)), (tensor(46), tensor(47)), (tensor(46), tensor(9)), (tensor(47), tensor(3)), (tensor(47), tensor(46)), (tensor(47), tensor(9)), (tensor(47), tensor(1)), (tensor(9), tensor(46)), (tensor(9), tensor(47)), (tensor(9), tensor(1)), (tensor(9), tensor(7)), (tensor(1), tensor(47)), (tensor(1), tensor(9)), (tensor(1), tensor(7)), (tensor(1), tensor(48)), (tensor(7), tensor(9)), (tensor(7), tensor(1)), (tensor(7), tensor(48)), (tensor(7), tensor(0)), (tensor(11), tensor(49)), (tensor(11), tensor(15)), (tensor(11), tensor(10)), (tensor(11), tensor(8)), (tensor(10), tensor(15)), (tensor(10), tensor(11)), (tensor(10), tensor(8)), (tensor(10), tensor(1)), (tensor(8), tensor(11)), (tensor(8), tensor(10)), (tensor(8), tensor(1)), (tensor(8), tensor(50)), (tensor(1), tensor(10)), (tensor(1), tensor(8)), (tensor(1), tensor(50)), (tensor(1), tensor(1)), (tensor(50), tensor(8)), (tensor(50), tensor(1)), (tensor(50), tensor(1)), (tensor(50), tensor(9)), (tensor(1), tensor(1)), (tensor(1), tensor(50)), (tensor(1), tensor(9)), (tensor(1), tensor(1)), (tensor(9), tensor(50)), (tensor(9), tensor(1)), (tensor(9), tensor(1)), (tensor(9), tensor(5)), (tensor(1), tensor(1)), (tensor(1), tensor(9)), (tensor(1), tensor(5)), (tensor(1), tensor(3)), (tensor(5), tensor(9)), (tensor(5), tensor(1)), (tensor(5), tensor(3)), (tensor(5), tensor(0)), (tensor(53), tensor(51)), (tensor(53), tensor(52)), (tensor(53), tensor(8)), (tensor(53), tensor(6)), (tensor(8), tensor(52)), (tensor(8), tensor(53)), (tensor(8), tensor(6)), (tensor(8), tensor(7)), (tensor(6), tensor(53)), (tensor(6), tensor(8)), (tensor(6), tensor(7)), (tensor(6), tensor(54)), (tensor(7), tensor(8)), (tensor(7), tensor(6)), (tensor(7), tensor(54)), (tensor(7), tensor(0)), (tensor(54), tensor(6)), (tensor(54), tensor(7)), (tensor(54), tensor(0)), (tensor(54), tensor(55)), (tensor(0), tensor(7)), (tensor(0), tensor(54)), (tensor(0), tensor(55)), (tensor(0), tensor(56)), (tensor(55), tensor(54)), (tensor(55), tensor(0)), (tensor(55), tensor(56)), (tensor(55), tensor(4)), (tensor(56), tensor(0)), (tensor(56), tensor(55)), (tensor(56), tensor(4)), (tensor(56), tensor(2)), (tensor(4), tensor(55)), (tensor(4), tensor(56)), (tensor(4), tensor(2)), (tensor(4), tensor(0)), (tensor(16), tensor(12)), (tensor(16), tensor(15)), (tensor(16), tensor(14)), (tensor(16), tensor(57)), (tensor(14), tensor(15)), (tensor(14), tensor(16)), (tensor(14), tensor(57)), (tensor(14), tensor(58)), (tensor(57), tensor(16)), (tensor(57), tensor(14)), (tensor(57), tensor(58)), (tensor(57), tensor(3)), (tensor(58), tensor(14)), (tensor(58), tensor(57)), (tensor(58), tensor(3)), (tensor(58), tensor(0)), (tensor(3), tensor(57)), (tensor(3), tensor(58)), (tensor(3), tensor(0)), (tensor(3), tensor(16)), (tensor(0), tensor(58)), (tensor(0), tensor(3)), (tensor(0), tensor(16)), (tensor(0), tensor(59)), (tensor(16), tensor(3)), (tensor(16), tensor(0)), (tensor(16), tensor(59)), (tensor(16), tensor(0))]\n"
          ],
          "name": "stdout"
        },
        {
          "output_type": "stream",
          "text": [
            "\n"
          ],
          "name": "stderr"
        }
      ]
    },
    {
      "cell_type": "markdown",
      "metadata": {
        "id": "1QSo73PoRyd9"
      },
      "source": [
        "### **모델 Class 구현**"
      ]
    },
    {
      "cell_type": "markdown",
      "metadata": {
        "id": "jnnk44R6R28x"
      },
      "source": [
        "차례대로 두 가지 Word2Vec 모델을 구현합니다.  \r\n",
        "\r\n",
        "\r\n",
        "*   `self.embedding`: `vocab_size` 크기의 one-hot vector를 특정 크기의 `dim` 차원으로 embedding 시키는 layer.\r\n",
        "*   `self.linear`: 변환된 embedding vector를 다시 원래 `vocab_size`로 바꾸는 layer.\r\n"
      ]
    },
    {
      "cell_type": "code",
      "metadata": {
        "id": "b_HP1ISq5CWv"
      },
      "source": [
        "class CBOW(nn.Module):\r\n",
        "  def __init__(self, vocab_size, dim):\r\n",
        "    super(CBOW, self).__init__()\r\n",
        "    # embedding - linear layer와 비슷한 역할\r\n",
        "    self.embedding = nn.Embedding(vocab_size, dim, sparse=True)\r\n",
        "    self.linear = nn.Linear(dim, vocab_size)\r\n",
        "\r\n",
        "  # Tensor의 사이즈 트래킹하면 이해 쉽다\r\n",
        "  # B: batch size, W: window size, d_w: word embedding size, V: vocab size\r\n",
        "  def forward(self, x):  # x: (B, 2W)\r\n",
        "    embeddings = self.embedding(x)  # (B, 2W, d_w)\r\n",
        "    embeddings = torch.sum(embeddings, dim=1)  # (B, d_w)\r\n",
        "    output = self.linear(embeddings)  # (B, V)\r\n",
        "    return output"
      ],
      "execution_count": 15,
      "outputs": []
    },
    {
      "cell_type": "code",
      "metadata": {
        "id": "yQAUApww68MJ"
      },
      "source": [
        "class SkipGram(nn.Module):\r\n",
        "  def __init__(self, vocab_size, dim):\r\n",
        "    super(SkipGram, self).__init__()\r\n",
        "    self.embedding = nn.Embedding(vocab_size, dim, sparse=True)\r\n",
        "    self.linear = nn.Linear(dim, vocab_size)\r\n",
        "\r\n",
        "  # B: batch size, W: window size, d_w: word embedding size, V: vocab size\r\n",
        "  def forward(self, x): # x: (B)\r\n",
        "    embeddings = self.embedding(x)  # (B, d_w)\r\n",
        "    output = self.linear(embeddings)  # (B, V)\r\n",
        "    return output"
      ],
      "execution_count": 16,
      "outputs": []
    },
    {
      "cell_type": "markdown",
      "metadata": {
        "id": "58cJalkDWYMT"
      },
      "source": [
        "두 가지 모델을 생성합니다."
      ]
    },
    {
      "cell_type": "code",
      "metadata": {
        "id": "8vWUXEi8WeM-"
      },
      "source": [
        "cbow = CBOW(vocab_size=len(w2i), dim=256)\r\n",
        "skipgram = SkipGram(vocab_size=len(w2i), dim=256)"
      ],
      "execution_count": 17,
      "outputs": []
    },
    {
      "cell_type": "markdown",
      "metadata": {
        "id": "xxP7qdtNWil1"
      },
      "source": [
        "### **모델 학습**"
      ]
    },
    {
      "cell_type": "markdown",
      "metadata": {
        "id": "QVggZrQ4WpBS"
      },
      "source": [
        "다음과 같이 hyperparamter를 세팅하고 `DataLoader` 객체를 만듭니다."
      ]
    },
    {
      "cell_type": "code",
      "metadata": {
        "id": "ygVdz5rSBeNu"
      },
      "source": [
        "batch_size=4\r\n",
        "learning_rate = 5e-4\r\n",
        "num_epochs = 5\r\n",
        "device = torch.device('cuda') if torch.cuda.is_available() else torch.device('cpu')\r\n",
        "\r\n",
        "cbow_loader = DataLoader(cbow_set, batch_size=batch_size)\r\n",
        "skipgram_loader = DataLoader(skipgram_set, batch_size=batch_size)"
      ],
      "execution_count": 18,
      "outputs": []
    },
    {
      "cell_type": "markdown",
      "metadata": {
        "id": "ekixqKB3X5C1"
      },
      "source": [
        "첫번째로 CBOW 모델 학습입니다."
      ]
    },
    {
      "cell_type": "code",
      "metadata": {
        "id": "-d95qR7oC822",
        "colab": {
          "base_uri": "https://localhost:8080/"
        },
        "outputId": "eaa8e036-32a5-4fef-dbe7-8f04f4eea718"
      },
      "source": [
        "cbow.train()\r\n",
        "cbow = cbow.to(device)\r\n",
        "optim = torch.optim.SGD(cbow.parameters(), lr=learning_rate)\r\n",
        "loss_function = nn.CrossEntropyLoss()\r\n",
        "\r\n",
        "for e in range(1, num_epochs+1):\r\n",
        "  print(\"#\" * 50)\r\n",
        "  print(f\"Epoch: {e}\")\r\n",
        "  for batch in tqdm(cbow_loader):\r\n",
        "    x, y = batch\r\n",
        "    x, y = x.to(device), y.to(device) # (B, W), (B)\r\n",
        "    output = cbow(x)  # (B, V)\r\n",
        " \r\n",
        "    optim.zero_grad()\r\n",
        "    loss = loss_function(output, y)\r\n",
        "    loss.backward()\r\n",
        "    optim.step()\r\n",
        "\r\n",
        "    print(f\"Train loss: {loss.item()}\")\r\n",
        "\r\n",
        "print(\"Finished.\")"
      ],
      "execution_count": 19,
      "outputs": [
        {
          "output_type": "stream",
          "text": [
            "  6%|▋         | 1/16 [00:00<00:02,  5.59it/s]"
          ],
          "name": "stderr"
        },
        {
          "output_type": "stream",
          "text": [
            "##################################################\n",
            "Epoch: 1\n",
            "Train loss: 5.435768127441406\n",
            "Train loss: 4.737085819244385\n",
            "Train loss: 3.8809356689453125\n",
            "Train loss: 4.558345794677734\n",
            "Train loss: 4.855749607086182\n",
            "Train loss: 4.750556468963623\n",
            "Train loss: 4.100275039672852\n",
            "Train loss: 4.424317359924316\n"
          ],
          "name": "stdout"
        },
        {
          "output_type": "stream",
          "text": [
            "100%|██████████| 16/16 [00:00<00:00, 73.66it/s]\n",
            "100%|██████████| 16/16 [00:00<00:00, 458.25it/s]\n",
            "100%|██████████| 16/16 [00:00<00:00, 420.82it/s]\n",
            "100%|██████████| 16/16 [00:00<00:00, 462.46it/s]\n",
            "100%|██████████| 16/16 [00:00<00:00, 486.00it/s]"
          ],
          "name": "stderr"
        },
        {
          "output_type": "stream",
          "text": [
            "Train loss: 4.976825714111328\n",
            "Train loss: 5.697813987731934\n",
            "Train loss: 4.941936492919922\n",
            "Train loss: 4.34714937210083\n",
            "Train loss: 5.589223861694336\n",
            "Train loss: 4.609934329986572\n",
            "Train loss: 5.865617752075195\n",
            "Train loss: 4.707053184509277\n",
            "##################################################\n",
            "Epoch: 2\n",
            "Train loss: 5.223531246185303\n",
            "Train loss: 4.572081565856934\n",
            "Train loss: 3.7769925594329834\n",
            "Train loss: 4.430196762084961\n",
            "Train loss: 4.734350681304932\n",
            "Train loss: 4.4327592849731445\n",
            "Train loss: 3.925676107406616\n",
            "Train loss: 4.2785162925720215\n",
            "Train loss: 4.840892791748047\n",
            "Train loss: 5.490176200866699\n",
            "Train loss: 4.744015693664551\n",
            "Train loss: 3.950728178024292\n",
            "Train loss: 5.434819221496582\n",
            "Train loss: 4.485015392303467\n",
            "Train loss: 5.702638149261475\n",
            "Train loss: 4.547245979309082\n",
            "##################################################\n",
            "Epoch: 3\n",
            "Train loss: 5.016544818878174\n",
            "Train loss: 4.410897254943848\n",
            "Train loss: 3.6751351356506348\n",
            "Train loss: 4.304274559020996\n",
            "Train loss: 4.61474609375\n",
            "Train loss: 4.130715370178223\n",
            "Train loss: 3.7562015056610107\n",
            "Train loss: 4.137371063232422\n",
            "Train loss: 4.712465763092041\n",
            "Train loss: 5.288952827453613\n",
            "Train loss: 4.555748462677002\n",
            "Train loss: 3.584287405014038\n",
            "Train loss: 5.2824296951293945\n",
            "Train loss: 4.364030361175537\n",
            "Train loss: 5.541935920715332\n",
            "Train loss: 4.394775390625\n",
            "##################################################\n",
            "Epoch: 4\n",
            "Train loss: 4.81446647644043\n",
            "Train loss: 4.253342628479004\n",
            "Train loss: 3.5753173828125\n",
            "Train loss: 4.180540084838867\n",
            "Train loss: 4.496909141540527\n",
            "Train loss: 3.845545768737793\n",
            "Train loss: 3.591703414916992\n",
            "Train loss: 4.00058650970459\n",
            "Train loss: 4.591246128082275\n",
            "Train loss: 5.094584941864014\n",
            "Train loss: 4.377849578857422\n",
            "Train loss: 3.2514734268188477\n",
            "Train loss: 5.132071495056152\n",
            "Train loss: 4.246766090393066\n",
            "Train loss: 5.383453369140625\n",
            "Train loss: 4.248473167419434\n",
            "##################################################\n",
            "Epoch: 5\n",
            "Train loss: 4.617136001586914\n",
            "Train loss: 4.099289417266846\n",
            "Train loss: 3.4775009155273438\n",
            "Train loss: 4.058962345123291\n",
            "Train loss: 4.380820274353027\n",
            "Train loss: 3.5782887935638428\n",
            "Train loss: 3.4321224689483643\n",
            "Train loss: 3.8679471015930176\n",
            "Train loss: 4.476520538330078\n",
            "Train loss: 4.907344818115234\n",
            "Train loss: 4.210975170135498\n",
            "Train loss: 2.954517364501953\n",
            "Train loss: 4.983766555786133\n",
            "Train loss: 4.133060455322266\n",
            "Train loss: 5.227182865142822\n",
            "Train loss: 4.107515811920166\n",
            "Finished.\n"
          ],
          "name": "stdout"
        },
        {
          "output_type": "stream",
          "text": [
            "\n"
          ],
          "name": "stderr"
        }
      ]
    },
    {
      "cell_type": "markdown",
      "metadata": {
        "id": "FDahBf6IX4py"
      },
      "source": [
        "다음으로 Skip-gram 모델 학습입니다."
      ]
    },
    {
      "cell_type": "code",
      "metadata": {
        "id": "jJxGEusqFV5r",
        "colab": {
          "base_uri": "https://localhost:8080/"
        },
        "outputId": "7338de14-e795-4692-ce49-6eb774719673"
      },
      "source": [
        "skipgram.train()\r\n",
        "skipgram = skipgram.to(device)\r\n",
        "optim = torch.optim.SGD(skipgram.parameters(), lr=learning_rate)\r\n",
        "loss_function = nn.CrossEntropyLoss()\r\n",
        "\r\n",
        "for e in range(1, num_epochs+1):\r\n",
        "  print(\"#\" * 50)\r\n",
        "  print(f\"Epoch: {e}\")\r\n",
        "  for batch in tqdm(skipgram_loader):\r\n",
        "    x, y = batch\r\n",
        "    x, y = x.to(device), y.to(device) # (B, W), (B)\r\n",
        "    output = skipgram(x)  # (B, V)\r\n",
        "\r\n",
        "    optim.zero_grad()\r\n",
        "    loss = loss_function(output, y)\r\n",
        "    loss.backward()\r\n",
        "    optim.step()\r\n",
        "\r\n",
        "    print(f\"Train loss: {loss.item()}\")\r\n",
        "\r\n",
        "print(\"Finished.\")"
      ],
      "execution_count": 20,
      "outputs": [
        {
          "output_type": "stream",
          "text": [
            "100%|██████████| 64/64 [00:00<00:00, 482.00it/s]\n",
            "  0%|          | 0/64 [00:00<?, ?it/s]"
          ],
          "name": "stderr"
        },
        {
          "output_type": "stream",
          "text": [
            "##################################################\n",
            "Epoch: 1\n",
            "Train loss: 4.03630256652832\n",
            "Train loss: 4.296536445617676\n",
            "Train loss: 4.155908107757568\n",
            "Train loss: 4.52178955078125\n",
            "Train loss: 4.287509918212891\n",
            "Train loss: 4.6464338302612305\n",
            "Train loss: 4.04913330078125\n",
            "Train loss: 4.170066833496094\n",
            "Train loss: 4.122392177581787\n",
            "Train loss: 3.759453773498535\n",
            "Train loss: 4.098999977111816\n",
            "Train loss: 4.435192584991455\n",
            "Train loss: 3.6452903747558594\n",
            "Train loss: 4.035694122314453\n",
            "Train loss: 3.8914072513580322\n",
            "Train loss: 4.280170440673828\n",
            "Train loss: 4.607410430908203\n",
            "Train loss: 4.065797328948975\n",
            "Train loss: 4.341219902038574\n",
            "Train loss: 4.229527950286865\n",
            "Train loss: 4.400463581085205\n",
            "Train loss: 4.2741827964782715\n",
            "Train loss: 4.282057285308838\n",
            "Train loss: 4.3686017990112305\n",
            "Train loss: 4.274510383605957\n",
            "Train loss: 4.509020805358887\n",
            "Train loss: 4.509653568267822\n",
            "Train loss: 4.219294548034668\n",
            "Train loss: 4.58566427230835\n",
            "Train loss: 4.074611663818359\n",
            "Train loss: 4.225931167602539\n",
            "Train loss: 4.075155258178711\n",
            "Train loss: 3.8540492057800293\n",
            "Train loss: 3.979532480239868\n",
            "Train loss: 4.071077346801758\n",
            "Train loss: 4.707218170166016\n",
            "Train loss: 4.084368705749512\n",
            "Train loss: 4.105190753936768\n",
            "Train loss: 4.467460632324219\n",
            "Train loss: 4.481728553771973\n",
            "Train loss: 4.615159034729004\n",
            "Train loss: 3.9773430824279785\n",
            "Train loss: 4.602733612060547\n",
            "Train loss: 4.110770225524902\n",
            "Train loss: 4.241580009460449\n",
            "Train loss: 4.462825775146484\n",
            "Train loss: 4.1326518058776855\n",
            "Train loss: 4.272120952606201\n",
            "Train loss: 4.173936367034912\n",
            "Train loss: 4.457347869873047\n",
            "Train loss: 3.98819899559021\n",
            "Train loss: 3.6791341304779053\n",
            "Train loss: 4.135261058807373\n",
            "Train loss: 4.375615119934082\n",
            "Train loss: 3.834033489227295\n",
            "Train loss: 4.046512126922607\n",
            "Train loss: 4.785167694091797\n",
            "Train loss: 4.058955669403076\n",
            "Train loss: 4.628317832946777\n",
            "Train loss: 3.937839984893799\n",
            "Train loss: 4.010917663574219\n",
            "Train loss: 4.48170804977417\n",
            "Train loss: 4.0012054443359375\n",
            "Train loss: 4.587316513061523\n",
            "##################################################\n",
            "Epoch: 2\n",
            "Train loss: 4.015998840332031\n",
            "Train loss: 4.242631435394287\n",
            "Train loss: 4.1247453689575195\n",
            "Train loss: 4.458332061767578\n",
            "Train loss: 4.264310836791992\n",
            "Train loss: 4.610192775726318\n",
            "Train loss: 4.009638786315918\n",
            "Train loss: 4.142719268798828\n",
            "Train loss: 4.100953102111816\n",
            "Train loss: 3.7404069900512695\n",
            "Train loss: 4.067883014678955\n",
            "Train loss: 4.401568412780762\n",
            "Train loss: 3.6239466667175293\n",
            "Train loss: 4.010395050048828\n",
            "Train loss: 3.868694543838501\n",
            "Train loss: 4.252861022949219\n",
            "Train loss: 4.577911376953125\n",
            "Train loss: 4.035302639007568\n",
            "Train loss: 4.312966823577881\n",
            "Train loss: 4.199594497680664\n",
            "Train loss: 4.292298316955566\n",
            "Train loss: 4.176379203796387\n",
            "Train loss: 4.2245774269104\n",
            "Train loss: 4.336104869842529\n",
            "Train loss: 4.227450370788574\n",
            "Train loss: 4.443112373352051\n",
            "Train loss: 4.46401309967041\n",
            "Train loss: 4.1991753578186035\n",
            "Train loss: 4.535737991333008\n",
            "Train loss: 4.042448043823242\n",
            "Train loss: 4.19945764541626\n"
          ],
          "name": "stdout"
        },
        {
          "output_type": "stream",
          "text": [
            "100%|██████████| 64/64 [00:00<00:00, 493.43it/s]\n",
            " 80%|███████▉  | 51/64 [00:00<00:00, 501.33it/s]"
          ],
          "name": "stderr"
        },
        {
          "output_type": "stream",
          "text": [
            "Train loss: 4.045519828796387\n",
            "Train loss: 3.8208184242248535\n",
            "Train loss: 3.9476537704467773\n",
            "Train loss: 4.034929275512695\n",
            "Train loss: 4.6783342361450195\n",
            "Train loss: 4.02187442779541\n",
            "Train loss: 4.05312442779541\n",
            "Train loss: 4.435026168823242\n",
            "Train loss: 4.455121994018555\n",
            "Train loss: 4.580511569976807\n",
            "Train loss: 3.9534265995025635\n",
            "Train loss: 4.530774116516113\n",
            "Train loss: 4.0649895668029785\n",
            "Train loss: 4.10957145690918\n",
            "Train loss: 4.353387832641602\n",
            "Train loss: 4.036271572113037\n",
            "Train loss: 4.21743106842041\n",
            "Train loss: 4.151681900024414\n",
            "Train loss: 4.430605888366699\n",
            "Train loss: 3.95585560798645\n",
            "Train loss: 3.638232469558716\n",
            "Train loss: 4.111879825592041\n",
            "Train loss: 4.348885536193848\n",
            "Train loss: 3.802661657333374\n",
            "Train loss: 4.012706756591797\n",
            "Train loss: 4.7205963134765625\n",
            "Train loss: 4.030889511108398\n",
            "Train loss: 4.598814964294434\n",
            "Train loss: 3.9153223037719727\n",
            "Train loss: 3.9843320846557617\n",
            "Train loss: 4.45389986038208\n",
            "Train loss: 3.978278636932373\n",
            "Train loss: 4.54858922958374\n",
            "##################################################\n",
            "Epoch: 3\n",
            "Train loss: 3.9960615634918213\n",
            "Train loss: 4.188991546630859\n",
            "Train loss: 4.0937819480896\n",
            "Train loss: 4.395467281341553\n",
            "Train loss: 4.241194248199463\n",
            "Train loss: 4.5744171142578125\n",
            "Train loss: 3.9708597660064697\n",
            "Train loss: 4.115499496459961\n",
            "Train loss: 4.079591751098633\n",
            "Train loss: 3.7214455604553223\n",
            "Train loss: 4.036993503570557\n",
            "Train loss: 4.368103504180908\n",
            "Train loss: 3.6030778884887695\n",
            "Train loss: 3.985246419906616\n",
            "Train loss: 3.8460869789123535\n",
            "Train loss: 4.225829601287842\n",
            "Train loss: 4.54850435256958\n",
            "Train loss: 4.005032062530518\n",
            "Train loss: 4.284974098205566\n",
            "Train loss: 4.169827938079834\n",
            "Train loss: 4.185229778289795\n",
            "Train loss: 4.080898761749268\n",
            "Train loss: 4.167779922485352\n",
            "Train loss: 4.303762912750244\n",
            "Train loss: 4.180922031402588\n",
            "Train loss: 4.377830505371094\n",
            "Train loss: 4.418704032897949\n",
            "Train loss: 4.17939567565918\n",
            "Train loss: 4.486336708068848\n",
            "Train loss: 4.010618209838867\n",
            "Train loss: 4.173131942749023\n",
            "Train loss: 4.016050815582275\n",
            "Train loss: 3.787843704223633\n",
            "Train loss: 3.9161570072174072\n",
            "Train loss: 3.9991159439086914\n",
            "Train loss: 4.649564266204834\n",
            "Train loss: 3.9603164196014404\n",
            "Train loss: 4.002984046936035\n",
            "Train loss: 4.403109073638916\n",
            "Train loss: 4.428746223449707\n",
            "Train loss: 4.546048164367676\n",
            "Train loss: 3.9297633171081543\n",
            "Train loss: 4.460718631744385\n",
            "Train loss: 4.019468307495117\n",
            "Train loss: 3.980376720428467\n",
            "Train loss: 4.245123386383057\n",
            "Train loss: 3.942390203475952\n",
            "Train loss: 4.16340970993042\n",
            "Train loss: 4.129578590393066\n",
            "Train loss: 4.404064655303955\n",
            "Train loss: 3.9240307807922363\n",
            "Train loss: 3.598156213760376\n",
            "Train loss: 4.088652610778809\n",
            "Train loss: 4.32257604598999\n",
            "Train loss: 3.771522045135498\n",
            "Train loss: 3.979095458984375\n",
            "Train loss: 4.6566057205200195\n",
            "Train loss: 4.00313138961792\n",
            "Train loss: 4.569602012634277\n",
            "Train loss: 3.89294171333313\n",
            "Train loss: 3.9578819274902344\n",
            "Train loss: 4.426328659057617\n",
            "Train loss: 3.955777883529663\n"
          ],
          "name": "stdout"
        },
        {
          "output_type": "stream",
          "text": [
            "100%|██████████| 64/64 [00:00<00:00, 477.49it/s]\n",
            "100%|██████████| 64/64 [00:00<00:00, 484.49it/s]\n",
            "  0%|          | 0/64 [00:00<?, ?it/s]"
          ],
          "name": "stderr"
        },
        {
          "output_type": "stream",
          "text": [
            "Train loss: 4.510119438171387\n",
            "##################################################\n",
            "Epoch: 4\n",
            "Train loss: 3.9764862060546875\n",
            "Train loss: 4.135628700256348\n",
            "Train loss: 4.063020706176758\n",
            "Train loss: 4.333221912384033\n",
            "Train loss: 4.2181596755981445\n",
            "Train loss: 4.53911018371582\n",
            "Train loss: 3.9328060150146484\n",
            "Train loss: 4.088410377502441\n",
            "Train loss: 4.058306694030762\n",
            "Train loss: 3.7025699615478516\n",
            "Train loss: 4.006335258483887\n",
            "Train loss: 4.3348002433776855\n",
            "Train loss: 3.5826809406280518\n",
            "Train loss: 3.960249662399292\n",
            "Train loss: 3.8235867023468018\n",
            "Train loss: 4.199080467224121\n",
            "Train loss: 4.519191741943359\n",
            "Train loss: 3.9749889373779297\n",
            "Train loss: 4.257242679595947\n",
            "Train loss: 4.140230178833008\n",
            "Train loss: 4.079373359680176\n",
            "Train loss: 3.987938404083252\n",
            "Train loss: 4.111688613891602\n",
            "Train loss: 4.27157735824585\n",
            "Train loss: 4.134945869445801\n",
            "Train loss: 4.313202857971191\n",
            "Train loss: 4.373735427856445\n",
            "Train loss: 4.1599507331848145\n",
            "Train loss: 4.437480449676514\n",
            "Train loss: 3.9791259765625\n",
            "Train loss: 4.1469550132751465\n",
            "Train loss: 3.986750602722168\n",
            "Train loss: 3.7551286220550537\n",
            "Train loss: 3.885049343109131\n",
            "Train loss: 3.9636566638946533\n",
            "Train loss: 4.620913028717041\n",
            "Train loss: 3.8997764587402344\n",
            "Train loss: 3.9548888206481934\n",
            "Train loss: 4.371703624725342\n",
            "Train loss: 4.402603626251221\n",
            "Train loss: 4.511772155761719\n",
            "Train loss: 3.9063522815704346\n",
            "Train loss: 4.39271879196167\n",
            "Train loss: 3.9742166996002197\n",
            "Train loss: 3.8542697429656982\n",
            "Train loss: 4.138156890869141\n",
            "Train loss: 3.8512120246887207\n",
            "Train loss: 4.110082149505615\n",
            "Train loss: 4.107628345489502\n",
            "Train loss: 4.377725601196289\n",
            "Train loss: 3.892726421356201\n",
            "Train loss: 3.55891489982605\n",
            "Train loss: 4.065578460693359\n",
            "Train loss: 4.2966837882995605\n",
            "Train loss: 3.7406165599823\n",
            "Train loss: 3.9456825256347656\n",
            "Train loss: 4.593225002288818\n",
            "Train loss: 3.975684642791748\n",
            "Train loss: 4.540678977966309\n",
            "Train loss: 3.870698928833008\n",
            "Train loss: 3.9315693378448486\n",
            "Train loss: 4.398994445800781\n",
            "Train loss: 3.933699607849121\n",
            "Train loss: 4.4719085693359375\n",
            "##################################################\n",
            "Epoch: 5\n",
            "Train loss: 3.9572672843933105\n",
            "Train loss: 4.082555294036865\n",
            "Train loss: 4.032463073730469\n",
            "Train loss: 4.271624565124512\n",
            "Train loss: 4.195206642150879\n",
            "Train loss: 4.504274845123291\n",
            "Train loss: 3.895484209060669\n",
            "Train loss: 4.061452865600586\n",
            "Train loss: 4.0370988845825195\n",
            "Train loss: 3.683781862258911\n",
            "Train loss: 3.9759116172790527\n",
            "Train loss: 4.301660060882568\n",
            "Train loss: 3.5627527236938477\n",
            "Train loss: 3.9354047775268555\n",
            "Train loss: 3.8011932373046875\n",
            "Train loss: 4.172616958618164\n",
            "Train loss: 4.4899749755859375\n",
            "Train loss: 3.9451773166656494\n",
            "Train loss: 4.22977352142334\n",
            "Train loss: 4.110803604125977\n",
            "Train loss: 3.974860191345215\n",
            "Train loss: 3.8977041244506836\n",
            "Train loss: 4.056329727172852\n",
            "Train loss: 4.239550590515137\n",
            "Train loss: 4.089541912078857\n",
            "Train loss: 4.249259948730469\n",
            "Train loss: 4.329115867614746\n",
            "Train loss: 4.140834808349609\n"
          ],
          "name": "stdout"
        },
        {
          "output_type": "stream",
          "text": [
            "100%|██████████| 64/64 [00:00<00:00, 484.99it/s]"
          ],
          "name": "stderr"
        },
        {
          "output_type": "stream",
          "text": [
            "Train loss: 4.389190196990967\n",
            "Train loss: 3.9479756355285645\n",
            "Train loss: 4.120926380157471\n",
            "Train loss: 3.9576218128204346\n",
            "Train loss: 3.7226765155792236\n",
            "Train loss: 3.854337692260742\n",
            "Train loss: 3.928571939468384\n",
            "Train loss: 4.592382431030273\n",
            "Train loss: 3.840343952178955\n",
            "Train loss: 3.9089560508728027\n",
            "Train loss: 4.340804100036621\n",
            "Train loss: 4.376692771911621\n",
            "Train loss: 4.477689266204834\n",
            "Train loss: 3.883192777633667\n",
            "Train loss: 4.326930999755859\n",
            "Train loss: 3.9292471408843994\n",
            "Train loss: 3.7315382957458496\n",
            "Train loss: 4.032629489898682\n",
            "Train loss: 3.7629446983337402\n",
            "Train loss: 4.057472229003906\n",
            "Train loss: 4.085832118988037\n",
            "Train loss: 4.351588726043701\n",
            "Train loss: 3.861945867538452\n",
            "Train loss: 3.5205159187316895\n",
            "Train loss: 4.042654991149902\n",
            "Train loss: 4.271206855773926\n",
            "Train loss: 3.7099459171295166\n",
            "Train loss: 3.9124703407287598\n",
            "Train loss: 4.530483722686768\n",
            "Train loss: 3.948550224304199\n",
            "Train loss: 4.512050151824951\n",
            "Train loss: 3.8485941886901855\n",
            "Train loss: 3.9053964614868164\n",
            "Train loss: 4.3718976974487305\n",
            "Train loss: 3.9120402336120605\n",
            "Train loss: 4.433958530426025\n",
            "Finished.\n"
          ],
          "name": "stdout"
        },
        {
          "output_type": "stream",
          "text": [
            "\n"
          ],
          "name": "stderr"
        }
      ]
    },
    {
      "cell_type": "markdown",
      "metadata": {
        "id": "Pi0sbHV6dEOR"
      },
      "source": [
        "### **테스트**"
      ]
    },
    {
      "cell_type": "markdown",
      "metadata": {
        "id": "WGarLWxXeJvz"
      },
      "source": [
        "학습된 각 모델을 이용하여 test 단어들의 word embedding을 확인합니다."
      ]
    },
    {
      "cell_type": "code",
      "metadata": {
        "id": "4A1wrl-L_RjF",
        "colab": {
          "base_uri": "https://localhost:8080/"
        },
        "outputId": "022c23ce-d68d-4880-80b7-f163e9ac4298"
      },
      "source": [
        "for word in test_words:\r\n",
        "  input_id = torch.LongTensor([w2i[word]]).to(device)\r\n",
        "  emb = cbow.embedding(input_id)  # 실제 embedding에서 쓰이는 layer\r\n",
        "\r\n",
        "  print(f\"Word: {word}\")\r\n",
        "  print(emb.squeeze(0))"
      ],
      "execution_count": 21,
      "outputs": [
        {
          "output_type": "stream",
          "text": [
            "Word: 음식\n",
            "tensor([ 0.5655,  0.6094, -1.4602, -0.7539,  0.7851,  1.1172,  0.5106, -1.0855,\n",
            "        -0.8203,  1.7882,  0.7187, -0.5192,  2.4939,  0.4270, -0.1389, -1.4208,\n",
            "        -0.0912,  0.2100, -0.3090,  0.7315,  0.9560,  1.1048,  0.5664,  0.6855,\n",
            "        -1.0471,  0.6955, -0.6369, -0.5698,  0.1802, -0.1469, -0.5089,  0.7219,\n",
            "         0.3549, -0.5010, -1.0451, -0.8232,  0.5631, -1.2935, -0.6190, -1.9657,\n",
            "         0.0340,  0.5603,  0.9635,  1.2438,  0.2367,  0.9624, -0.0854,  0.3417,\n",
            "         0.0827, -1.6525,  1.2037,  1.0047, -0.6298,  0.3998,  0.1758, -0.7145,\n",
            "         0.5621,  1.8548,  0.2831,  1.8812, -1.2140, -1.3266,  0.2295,  0.1602,\n",
            "         1.0919,  0.8368, -1.1242, -0.1384,  0.4094, -0.7004, -0.8623,  0.2245,\n",
            "        -1.5883,  1.0903, -2.1249, -0.7558,  0.5022,  2.0867, -0.8757, -0.4281,\n",
            "         1.9099, -0.0679, -0.4101, -0.4657,  1.1702, -0.0165,  0.9458,  0.7911,\n",
            "        -0.8669,  2.0140,  0.1920, -0.5677, -0.7590,  0.2278, -0.6010, -0.4919,\n",
            "        -0.1059,  1.9491, -0.2719,  0.3797, -0.6765, -1.2816, -1.4845, -1.7999,\n",
            "        -0.3681,  0.4924, -0.6484,  0.0085, -1.1922,  0.1635,  0.3733,  0.7870,\n",
            "        -0.9091,  2.3211,  1.0837,  1.7789, -1.2135, -1.3960,  0.9909, -0.9241,\n",
            "        -0.3697, -0.5193,  0.9830, -0.9576, -0.7301,  0.0080,  0.1264, -0.5536,\n",
            "         0.9079, -0.4442, -0.2976, -1.2844,  0.8185, -1.1413, -0.1264,  1.5920,\n",
            "         0.0186, -1.5456, -0.2305,  0.2006, -1.3214,  0.4110, -0.9705, -1.5167,\n",
            "         1.4831,  0.0662, -0.9084,  0.9131,  1.2899,  1.7605,  0.5776, -0.1735,\n",
            "        -0.6520, -1.1200, -0.2674,  0.0889,  0.1897, -0.2817,  1.1592, -0.7774,\n",
            "         0.9372, -1.2265,  1.0003, -1.0762,  0.3759, -0.1803, -0.4905,  0.1525,\n",
            "         3.4147, -0.2906, -0.6871, -0.6434,  0.2977,  0.0789,  0.3740,  1.3241,\n",
            "        -0.0745,  0.3510, -1.5869,  1.2921, -0.3012,  2.3198, -0.1493,  0.4041,\n",
            "        -1.7268,  0.3073, -0.0653, -0.0098, -3.2014, -1.3489,  0.4297,  1.2172,\n",
            "        -1.0267,  0.0899,  0.1750, -0.1890,  0.4738, -0.6430, -1.2142,  0.6134,\n",
            "        -0.8187, -0.7002,  1.5818, -0.0111, -1.7627, -0.3051,  0.2712,  1.5603,\n",
            "        -1.3084,  1.1520,  1.1016,  1.2877, -2.1214, -0.8069,  0.4644, -0.5999,\n",
            "        -0.2132, -0.2303, -0.1003,  0.5750,  1.2866,  1.0641, -1.6415, -0.2710,\n",
            "        -0.2555,  0.8878, -0.2531,  1.0225,  0.2945, -0.3991,  0.6584, -0.8063,\n",
            "        -0.0400,  2.4324, -1.1170,  2.3477, -0.0524, -1.2025,  0.0834, -1.1807,\n",
            "        -0.5080, -0.4128, -1.8999,  1.1406,  0.9225, -0.9053,  0.8114, -1.9513,\n",
            "         0.5485, -0.5026, -1.0726, -0.2892,  0.0381,  1.0289,  0.4837, -0.2495],\n",
            "       device='cuda:0', grad_fn=<SqueezeBackward1>)\n",
            "Word: 맛\n",
            "tensor([-1.7334, -0.3482,  1.6173, -0.9057,  0.3003,  0.1143, -1.1246, -0.7080,\n",
            "         0.7787,  0.0843,  0.3266,  0.1762, -0.1475, -0.4252,  0.4567,  1.2106,\n",
            "        -1.8605, -0.1061,  0.5963,  1.0612,  0.4056, -0.4912,  0.5856,  0.7221,\n",
            "        -0.9978, -0.3169,  1.9136, -0.4832, -0.3944, -0.6918, -1.0806, -0.0052,\n",
            "         0.2850,  0.9229,  0.3008,  0.1795,  0.2990, -0.6458,  0.2365,  0.1001,\n",
            "         1.6682, -1.0108,  0.2639, -0.0220,  0.7976, -2.1194,  0.2679,  0.3455,\n",
            "         0.0752, -0.9254,  1.0933,  1.5063, -0.8766, -0.3815,  2.3486, -0.9590,\n",
            "        -0.0272,  1.1606,  0.6159,  0.4592,  3.1186,  0.1178,  0.4832,  0.2014,\n",
            "        -0.0389,  0.7356,  0.6461,  1.0111,  0.1804, -0.9006, -0.6314,  2.0857,\n",
            "        -1.4060,  0.8362,  1.0311,  1.2119, -0.9179,  1.4135,  0.6621,  0.6748,\n",
            "        -0.1229, -0.5473,  0.6516,  0.4789, -0.2201, -0.8839, -0.2113, -0.5908,\n",
            "        -0.3860,  0.9831,  0.1406, -0.2663, -0.1555,  0.1800,  1.7793, -0.6980,\n",
            "        -0.4588,  0.6924,  0.2427, -0.5907, -0.8080,  0.0650,  0.8892,  1.3883,\n",
            "        -0.2427,  1.1007, -0.6166, -1.1242,  0.5587,  1.9717, -0.2675,  0.9455,\n",
            "         1.1545, -0.1482, -2.2584,  0.8355, -0.1239,  0.3953, -0.8511,  1.7136,\n",
            "        -1.0961,  0.0564,  0.0841, -0.6066, -0.5057, -1.8192, -1.6833, -0.4159,\n",
            "         0.2887, -0.0392, -1.7435, -2.6299, -0.1227,  0.1226,  0.6871, -0.8366,\n",
            "        -0.2425, -0.4393, -1.8325,  0.2684, -0.5938, -0.3798,  0.5343, -0.3277,\n",
            "         0.2176, -0.3888,  0.0571,  1.3398,  0.8012,  0.0192, -0.5692,  1.0727,\n",
            "         1.5872, -0.6028, -0.2420,  1.3858,  0.0057,  0.2108, -0.5107,  0.9352,\n",
            "        -0.4508, -0.9689, -0.1054,  2.4309,  0.9045,  0.7983, -1.8574, -0.1193,\n",
            "         1.0525,  0.4210, -1.0493, -0.0853, -0.3184, -1.0373, -1.3935, -0.0295,\n",
            "        -0.3361, -0.2472, -0.6755, -2.2109, -0.0941, -0.4671,  1.0272,  0.2625,\n",
            "         0.6062, -0.3453,  0.7288,  0.4530,  0.3408, -0.4981, -0.1412,  1.0087,\n",
            "        -0.0404, -0.5784, -0.7499,  0.1568,  0.5485, -0.5567,  0.2452,  0.5893,\n",
            "         1.1507,  0.5132, -1.9163,  0.3977,  1.2375, -1.4348, -0.8742, -0.1608,\n",
            "        -0.4533,  1.3275, -1.2202, -0.8800, -0.2096,  1.0804, -0.1819,  0.7618,\n",
            "         0.4869, -0.8859, -1.7711, -0.3208, -0.3030, -0.8692,  0.6283, -0.9844,\n",
            "         0.0840, -0.6687,  1.5679, -0.9216, -0.3314, -0.6439,  2.1883, -1.3132,\n",
            "        -0.5045,  0.6440, -1.4890,  1.8989,  0.2737, -0.3071,  1.3724, -0.2128,\n",
            "        -0.7184, -1.0364, -0.0376, -0.7284,  0.3623, -0.1508, -0.5959,  0.9528,\n",
            "        -0.0167,  0.7241,  0.0724, -0.2369, -1.4185,  1.0620,  0.7954, -1.7925],\n",
            "       device='cuda:0', grad_fn=<SqueezeBackward1>)\n",
            "Word: 서비스\n",
            "tensor([-2.8984e-01,  1.1328e+00,  8.0828e-01, -1.1190e+00, -2.8092e-01,\n",
            "         5.1720e-01, -1.1912e-01, -1.6525e-01,  7.7030e-01, -4.2873e-01,\n",
            "         8.0941e-02, -1.3482e+00, -9.8100e-01,  1.8138e+00,  5.3631e-02,\n",
            "         1.5345e+00,  7.6028e-01,  8.4144e-01, -8.4500e-02,  1.0442e-01,\n",
            "        -1.2346e-01, -2.4714e-01,  3.1982e-01,  9.8528e-01, -1.0809e+00,\n",
            "         3.0008e-01, -5.5842e-02, -4.9808e-01, -9.9912e-01, -7.9625e-01,\n",
            "        -3.5581e-01, -2.2725e+00,  4.2585e-01,  7.2449e-01, -7.3431e-01,\n",
            "         7.4275e-01,  5.5731e-03,  8.1652e-01, -5.3081e-01,  6.1718e-02,\n",
            "         1.5123e+00,  3.2046e-02,  5.6065e-01,  8.8947e-01, -9.4543e-01,\n",
            "        -2.9984e-01,  7.3712e-01, -1.0608e+00, -3.9884e-01,  1.9779e-01,\n",
            "        -4.7158e-01,  9.8475e-01, -3.6490e-01, -5.4554e-01,  1.1652e+00,\n",
            "        -1.4835e+00, -1.5571e+00,  6.3008e-01, -6.1972e-02, -4.5186e-01,\n",
            "        -1.0955e+00, -1.3888e+00,  1.1058e+00, -5.7920e-02,  1.8556e+00,\n",
            "        -2.3249e-01,  3.1182e-01, -8.9132e-01, -4.9741e-01,  2.8436e-01,\n",
            "         1.0130e+00,  1.6701e-01, -1.4063e-01, -2.4000e-01,  1.2858e+00,\n",
            "        -2.1550e-02, -6.5631e-01, -3.6489e-01, -3.6751e-01, -6.5258e-01,\n",
            "         1.2779e+00, -5.7491e-01, -7.1340e-01, -1.5555e+00,  3.6920e-01,\n",
            "        -4.7191e-01, -2.5556e-01,  1.2191e+00,  5.9956e-01,  1.1706e+00,\n",
            "         2.0903e-01,  1.2056e+00, -9.7658e-01,  7.1155e-01,  1.1492e+00,\n",
            "         3.8144e-01,  4.4821e-01,  7.1223e-01, -1.1801e+00,  3.4001e-01,\n",
            "         2.0283e-01,  1.3239e+00, -3.9963e-01, -1.7123e-01,  5.6642e-01,\n",
            "        -9.0863e-01,  1.0563e+00,  1.0184e+00,  1.4640e-01, -6.2208e-01,\n",
            "         1.1693e+00,  2.6632e-01,  1.3868e+00,  4.3126e-01,  6.9898e-01,\n",
            "         3.3511e-01,  4.8000e-01, -4.8280e-01, -1.5911e+00,  4.6044e-01,\n",
            "         1.0728e+00, -2.1121e+00,  3.9913e-01,  5.4464e-01, -1.4173e+00,\n",
            "         3.9023e-01,  7.5930e-01,  2.9081e-01,  3.7889e-01, -1.0995e+00,\n",
            "        -1.7647e+00,  1.2698e+00,  1.6992e+00,  2.6436e-01, -1.7065e+00,\n",
            "         7.7336e-01,  1.0033e+00, -6.6911e-01,  1.1739e+00, -2.2359e-01,\n",
            "         1.3149e+00, -5.0642e-02,  9.2150e-01,  1.7224e+00,  6.1779e-01,\n",
            "         8.1968e-02, -9.7715e-01,  7.6091e-01, -8.9535e-02,  2.5809e-01,\n",
            "        -7.4610e-01,  3.3178e-01,  1.4361e+00, -1.6298e-01, -3.4268e-01,\n",
            "         8.7928e-01, -6.0291e-01,  3.6152e-01,  6.1362e-01,  1.0761e+00,\n",
            "        -2.8283e-01,  6.8302e-01,  1.0129e+00, -1.9982e-01, -4.2322e-01,\n",
            "         1.7636e+00,  9.9816e-01,  8.2768e-02, -5.2692e-01,  6.2924e-01,\n",
            "        -2.1741e-01,  5.1456e-01,  2.5656e+00, -3.6901e-01,  8.1312e-01,\n",
            "         5.7286e-01,  1.3666e+00, -5.2472e-01, -5.3509e-01,  6.5140e-01,\n",
            "         2.0550e-01, -1.2364e+00,  2.7072e-03,  3.2199e-01,  1.7818e-01,\n",
            "         2.6435e-01,  2.7135e-01, -6.2632e-01,  1.7542e-01, -1.5133e-01,\n",
            "        -2.3848e-01, -1.6529e-01, -1.3346e+00,  1.0015e-01, -1.1962e+00,\n",
            "         1.3900e+00, -1.1957e+00,  2.5155e-01,  1.0830e-01,  1.1754e+00,\n",
            "        -1.0754e+00, -5.3294e-01, -2.5660e+00, -1.6973e+00,  1.1436e+00,\n",
            "        -6.4604e-01, -2.9850e-03, -7.3761e-01,  9.2767e-01,  6.6440e-01,\n",
            "         1.5640e+00,  1.5341e+00, -4.0014e-01,  1.0146e+00, -6.1099e-01,\n",
            "         5.1913e-01, -1.8284e+00,  5.0858e-01,  8.1301e-01, -7.0379e-01,\n",
            "        -5.3416e-01, -6.4440e-01, -4.7874e-01, -1.4859e+00,  1.5933e+00,\n",
            "         6.9505e-01, -7.9923e-01,  4.4460e-01, -2.6420e+00, -2.5949e-01,\n",
            "         1.7304e-01,  1.1577e+00,  1.5164e+00,  1.4699e+00,  1.2692e-01,\n",
            "        -9.2788e-01, -3.9126e-01,  4.3007e-01,  1.7153e+00,  7.2751e-01,\n",
            "         1.1607e-01,  6.7621e-01, -6.7833e-01,  2.8069e+00, -7.5290e-01,\n",
            "         1.3015e+00,  2.0971e-01,  4.6242e-01,  1.9194e+00, -1.0437e+00,\n",
            "        -1.0058e+00, -3.2879e-01,  3.0780e-01, -2.9409e-01,  1.3971e+00,\n",
            "        -5.5981e-01], device='cuda:0', grad_fn=<SqueezeBackward1>)\n",
            "Word: 위생\n",
            "tensor([-6.4654e-01, -1.7225e+00,  1.2684e+00,  4.1282e-01,  1.8777e-01,\n",
            "         1.3232e+00, -6.9800e-01,  1.2935e+00,  1.9336e+00, -1.5328e-01,\n",
            "        -8.4639e-01,  2.5427e+00, -5.8578e-01,  2.4926e-01,  2.5789e-01,\n",
            "        -1.2950e-01,  1.2826e+00,  1.0006e+00,  1.8608e+00,  5.7128e-01,\n",
            "        -4.3590e-01,  4.1856e-02,  1.3901e+00, -2.7716e-01,  1.2399e-01,\n",
            "         8.7285e-01,  9.2829e-01, -2.1335e-01, -1.2525e+00,  2.3990e+00,\n",
            "        -2.3578e+00,  1.9873e-01, -6.9155e-01,  1.7901e+00, -4.1835e-01,\n",
            "        -1.4945e+00,  5.9113e-01, -3.8735e-01,  1.0138e+00,  3.1978e-01,\n",
            "         6.0679e-01, -4.1391e-01,  1.3225e+00,  8.3821e-01,  5.7109e-01,\n",
            "         5.0397e-01, -1.3596e+00, -4.8202e-01,  9.4170e-01,  1.8068e-01,\n",
            "         1.2388e+00, -1.0952e+00, -8.5155e-01,  1.6570e+00, -3.1102e-01,\n",
            "         9.7373e-01,  6.6926e-01,  5.7674e-01, -1.3450e+00, -8.6528e-02,\n",
            "         3.0902e-01, -1.2887e+00, -5.6978e-01, -3.9423e-01, -9.4867e-01,\n",
            "         4.7278e-01, -4.1054e-02,  2.6173e-01, -9.5582e-01,  2.0368e+00,\n",
            "        -1.0925e+00, -1.2686e+00, -3.6333e-01, -1.4945e+00,  2.8788e-01,\n",
            "        -2.8748e-01, -1.9498e+00,  8.4883e-01, -6.6888e-01,  1.0140e+00,\n",
            "        -5.0531e-01, -2.5015e+00, -6.6334e-01,  6.7163e-01,  1.1885e+00,\n",
            "        -4.2870e-01, -1.4099e+00, -6.3747e-02, -9.1112e-01,  3.7924e-01,\n",
            "        -1.4001e+00,  3.4631e-01,  2.4156e+00,  1.5412e-01, -1.6254e-02,\n",
            "         8.5558e-01, -3.7103e-01, -7.9076e-02, -5.8937e-02,  5.9283e-01,\n",
            "         9.2533e-01,  3.4190e-01, -1.6185e+00, -7.1044e-01, -1.1700e+00,\n",
            "        -1.7559e+00, -1.8991e-01, -7.4162e-01, -2.0619e-01, -3.6704e-01,\n",
            "        -2.7583e-01,  2.1684e-01,  9.0588e-01,  3.3850e-01,  3.1979e-01,\n",
            "        -2.6785e-01, -1.1506e+00, -1.7380e+00,  6.3800e-01,  4.3477e-01,\n",
            "         8.2629e-01,  1.4464e+00, -2.8405e-01, -1.0252e+00, -5.7558e-01,\n",
            "         7.2283e-01,  2.0197e-01, -1.0163e+00, -9.3956e-01, -1.6142e-01,\n",
            "        -7.6669e-02,  1.3121e-01,  2.7222e-01, -8.0338e-01,  6.0991e-01,\n",
            "         2.7127e-02,  7.4507e-02,  1.2396e+00, -7.9535e-01,  8.0301e-01,\n",
            "         9.8287e-01,  1.2737e+00,  7.1529e-01,  7.0683e-01, -3.3384e-01,\n",
            "        -4.4687e-01, -4.2702e-01,  4.8052e-01,  1.4096e+00, -5.9213e-01,\n",
            "        -1.7206e-01,  1.2483e+00,  3.5115e-01, -8.1777e-02, -7.6853e-04,\n",
            "         8.4193e-01,  9.9751e-01,  1.3457e+00,  2.1796e-01,  1.7023e+00,\n",
            "         7.6075e-02, -1.0583e+00,  1.3345e+00, -1.2092e+00, -1.9617e-01,\n",
            "        -5.9848e-02,  2.3723e-01,  1.7466e+00, -6.9082e-01, -1.2125e-01,\n",
            "         3.6289e-01,  7.0157e-01,  4.6300e-02,  1.8610e+00,  5.5662e-01,\n",
            "        -7.6484e-01, -5.3912e-01, -2.0233e+00,  9.2017e-01,  1.2191e+00,\n",
            "        -2.7575e-01,  1.0433e+00, -6.1958e-02, -2.7829e+00, -1.0441e+00,\n",
            "        -4.8578e-02, -9.7973e-01,  1.7050e-01, -1.1543e+00,  5.5510e-01,\n",
            "         8.5597e-01, -1.4374e+00, -1.0861e+00,  1.0616e+00, -5.4123e-01,\n",
            "         1.6080e-01, -3.4810e-01,  2.8789e-01, -1.0326e+00,  7.2047e-01,\n",
            "        -1.4981e+00,  7.6144e-01, -4.3814e-02,  1.6159e+00,  7.8677e-01,\n",
            "         7.8635e-01, -1.0016e-01,  7.5618e-01,  6.0241e-01,  1.7049e+00,\n",
            "        -1.2083e+00, -8.9420e-02,  7.7559e-02, -9.4192e-01,  8.3724e-01,\n",
            "        -6.9629e-01, -3.5488e-01,  1.1322e+00, -2.7911e-01, -1.2286e+00,\n",
            "         6.9305e-01,  5.1704e-01, -1.0649e+00,  1.0041e-01, -1.9057e+00,\n",
            "        -1.2961e-01, -1.5891e+00,  3.8286e-02,  6.5468e-02, -1.2309e+00,\n",
            "         7.7390e-01, -1.0677e+00,  1.0076e+00,  4.7377e-02, -5.1794e-01,\n",
            "        -2.1110e+00, -3.6204e-01, -2.6545e+00, -4.5505e-01,  5.0705e-02,\n",
            "        -5.0801e-01,  1.2292e+00, -9.4490e-01,  2.1039e+00, -4.8892e-01,\n",
            "        -6.8330e-01,  2.3980e+00, -8.8147e-02,  3.3868e-02,  1.4411e+00,\n",
            "        -2.4607e-01, -1.2464e+00,  9.4228e-01, -1.0692e+00, -1.3440e+00,\n",
            "        -1.2439e+00], device='cuda:0', grad_fn=<SqueezeBackward1>)\n",
            "Word: 가격\n",
            "tensor([-9.6516e-01, -6.7372e-01,  1.6841e+00, -8.4187e-01, -1.7627e+00,\n",
            "         1.7024e-01, -1.1551e+00,  6.3056e-01, -3.3565e-01,  2.2965e+00,\n",
            "         5.0243e-01, -4.7467e-01, -2.8190e-02, -1.1966e-01, -1.0900e+00,\n",
            "        -7.4796e-01, -1.0195e+00, -3.8786e-01, -4.8860e-01,  2.8794e-02,\n",
            "         1.0750e+00, -1.8869e+00,  1.0793e-01, -4.4624e-02,  4.1454e-01,\n",
            "        -8.2719e-01,  1.8497e-01,  8.6458e-01, -3.5858e+00, -5.6725e-01,\n",
            "         8.1795e-01, -1.6383e+00, -3.6793e-01, -8.6979e-02,  3.1994e-01,\n",
            "         1.2396e+00,  8.5585e-01,  8.1255e-01, -8.2616e-01,  8.7389e-04,\n",
            "         1.2307e+00,  6.3143e-01, -6.0026e-01,  8.5665e-01, -1.3554e-01,\n",
            "        -1.0936e+00,  2.9690e+00,  1.8170e-01,  1.7730e-01, -1.8051e+00,\n",
            "         1.8390e-01, -6.6885e-01, -2.7232e-01,  1.6282e-01, -5.0162e-01,\n",
            "        -5.5106e-01, -8.8440e-02, -1.4906e-01, -2.5517e-01,  1.1919e-01,\n",
            "        -1.8169e+00,  4.8046e-01, -9.2146e-01,  2.0300e+00,  2.1910e+00,\n",
            "        -2.5020e-01,  1.4768e+00, -7.5245e-01, -3.6044e-01,  6.1437e-02,\n",
            "        -6.9689e-01,  5.6012e-02,  1.1700e+00, -8.8868e-02, -9.8986e-01,\n",
            "        -5.8406e-01, -1.2421e+00, -5.1317e-01, -2.3427e+00,  6.6434e-01,\n",
            "         1.3998e-01, -4.9063e-01,  1.0439e+00,  2.2131e-01,  8.2149e-02,\n",
            "         6.3355e-01, -2.2588e+00,  6.3772e-02,  3.4079e-01,  8.4673e-01,\n",
            "        -7.9327e-01,  4.0370e-01,  3.6946e-01,  7.1209e-01,  1.6493e+00,\n",
            "         6.1437e-01,  9.9245e-01,  2.4024e+00,  3.8424e-01,  9.7918e-01,\n",
            "         7.6697e-01,  2.0486e+00,  1.1517e-01,  1.2746e+00,  1.4616e+00,\n",
            "         3.3367e-01, -1.0815e+00, -2.7834e+00,  4.5194e-01,  1.8013e-01,\n",
            "        -8.5596e-01,  8.3884e-01,  3.4204e-01, -1.9697e-01,  1.9212e+00,\n",
            "        -2.2889e+00, -2.7073e+00, -1.0548e-02,  3.8050e-01, -1.0270e-01,\n",
            "         1.9963e+00,  1.3537e+00, -6.5393e-01, -8.2575e-01,  7.6506e-02,\n",
            "         2.9685e-01,  9.0536e-01, -8.2068e-01,  7.9415e-01, -5.9738e-01,\n",
            "        -4.0124e-01,  7.0785e-01, -7.6586e-01, -5.8509e-01, -1.1794e+00,\n",
            "        -2.8640e-01,  1.1306e+00, -2.3872e-02, -1.9643e-01, -1.6452e+00,\n",
            "        -4.2150e-01, -7.9920e-01,  1.3761e+00, -3.1946e-02, -5.2732e-01,\n",
            "        -4.7957e-01, -4.3112e-01, -2.7533e-01, -8.1916e-01, -1.4184e-01,\n",
            "         1.4458e+00,  2.2094e+00, -1.8923e-01,  7.5864e-01,  7.3580e-01,\n",
            "        -3.2582e-01,  1.5225e+00,  4.3861e-01, -1.1042e+00, -9.3018e-01,\n",
            "         1.6941e+00,  3.0427e-03,  1.8439e+00, -1.2652e+00, -7.9298e-01,\n",
            "        -6.4430e-01, -1.3946e+00, -6.6509e-01, -1.4035e+00,  1.5011e-01,\n",
            "        -9.3377e-01,  7.9619e-01, -9.5840e-01,  2.1912e+00,  1.0577e+00,\n",
            "         7.1057e-01,  8.0792e-01, -6.9862e-01,  1.2693e+00, -9.1615e-01,\n",
            "        -2.8232e-01,  8.6649e-02,  6.2704e-01,  3.0446e-01, -5.8804e-01,\n",
            "        -1.5502e+00,  7.9325e-01, -8.0528e-01, -7.2466e-01, -2.2515e+00,\n",
            "         4.9680e-01,  7.9598e-01, -1.3244e+00,  2.4084e-01,  1.5471e+00,\n",
            "         3.5599e-01, -8.9966e-02,  1.2043e+00, -3.4292e-01,  9.5036e-01,\n",
            "         8.9800e-01, -1.4293e+00, -6.6706e-01, -7.2032e-01,  1.9950e-01,\n",
            "        -2.8771e+00, -2.4356e-01, -1.9008e-01, -1.6795e+00,  4.6412e-01,\n",
            "        -2.6554e-01,  4.2321e-01, -6.6640e-01, -2.3263e+00,  9.5133e-01,\n",
            "         1.1042e+00, -1.4122e-01, -9.7562e-01,  1.4498e+00,  4.2581e-01,\n",
            "        -2.3144e-01, -2.3320e-02,  1.3099e+00, -1.1524e+00, -9.0805e-01,\n",
            "        -9.3974e-01, -4.7627e-01,  1.2045e+00,  2.7149e-01, -4.6537e-01,\n",
            "        -1.1805e+00,  2.2241e+00, -3.2473e-01, -2.5864e-01, -1.2111e+00,\n",
            "        -3.9619e-01, -6.1526e-01, -2.1664e-01, -3.0311e-01,  7.3395e-01,\n",
            "        -3.5764e-01, -3.8029e-01,  6.1278e-01,  6.8684e-01,  7.0049e-01,\n",
            "         1.1745e+00,  7.9779e-01,  1.4122e+00,  4.3646e-02,  7.9141e-01,\n",
            "         9.8395e-01, -1.3347e+00, -1.3877e-02, -1.3779e+00,  6.9579e-01,\n",
            "         1.1101e+00], device='cuda:0', grad_fn=<SqueezeBackward1>)\n"
          ],
          "name": "stdout"
        }
      ]
    },
    {
      "cell_type": "code",
      "metadata": {
        "id": "_l5cPRZZe-R4",
        "colab": {
          "base_uri": "https://localhost:8080/"
        },
        "outputId": "a0463484-8232-4c9b-b456-e07c4fc74aae"
      },
      "source": [
        "for word in test_words:\r\n",
        "  input_id = torch.LongTensor([w2i[word]]).to(device)\r\n",
        "  emb = skipgram.embedding(input_id)\r\n",
        "\r\n",
        "  print(f\"Word: {word}\")\r\n",
        "#   print(max(emb.squeeze(0)))\r\n",
        "  print(emb.squeeze(0))"
      ],
      "execution_count": 23,
      "outputs": [
        {
          "output_type": "stream",
          "text": [
            "Word: 음식\n",
            "tensor([ 1.1983e+00,  1.5706e+00,  6.4878e-01, -1.5704e-01, -1.0057e+00,\n",
            "         1.9709e-01, -2.4592e+00,  1.1434e+00,  1.6028e+00, -1.3183e+00,\n",
            "        -3.0424e-01,  2.0450e-01,  2.1755e+00, -1.3450e+00,  3.8729e-01,\n",
            "         1.6102e-01,  1.9721e+00, -8.5626e-01, -1.6671e+00,  2.5125e-01,\n",
            "         5.4297e-01,  2.7435e-01, -1.5755e+00,  3.0072e-01, -4.4546e-03,\n",
            "        -1.7763e+00,  2.8374e-02,  1.2363e+00,  4.7967e-02, -1.1169e+00,\n",
            "        -3.8118e-01,  7.0826e-01, -7.2185e-01, -8.6117e-01,  5.8667e-01,\n",
            "         3.1745e-01,  2.8449e-01,  2.4755e-01,  1.9394e+00,  1.3061e+00,\n",
            "         1.6599e-01, -3.9597e-01,  1.2322e+00, -4.4917e-01,  9.6016e-01,\n",
            "         3.5474e-01, -6.2827e-01,  4.7963e-01,  7.1378e-01, -6.4345e-01,\n",
            "        -1.6703e-01,  8.9595e-01,  1.7764e-01,  3.6570e-01,  8.8914e-01,\n",
            "         2.3848e+00, -1.4099e+00, -1.9547e+00, -9.7431e-01, -1.6728e-01,\n",
            "         9.2746e-01, -8.1176e-01, -5.3486e-01, -3.0831e-01, -6.6231e-01,\n",
            "         7.7846e-01,  1.4408e+00, -7.8270e-01,  4.9800e-01, -1.2356e+00,\n",
            "         8.8682e-01, -6.1075e-01, -1.1397e+00,  1.6496e+00,  2.0055e-01,\n",
            "         7.7350e-01, -6.8718e-01, -7.9180e-02,  1.6701e+00,  8.1930e-02,\n",
            "         2.2934e-01, -1.3652e+00,  7.5701e-01, -1.2069e+00, -4.5956e-01,\n",
            "        -9.4637e-01,  3.0653e-01,  1.5623e+00, -6.7135e-01,  1.2006e+00,\n",
            "         6.7186e-01, -1.2791e+00,  4.6952e-01,  1.5388e+00,  9.2292e-01,\n",
            "        -8.5509e-01,  9.9518e-01,  1.9776e-03,  3.9832e-01, -4.5435e-01,\n",
            "         7.1686e-01,  2.2850e-01, -6.4716e-01, -1.0775e+00,  1.4683e+00,\n",
            "         5.2272e-02, -5.6635e-01, -1.6861e+00,  1.1028e+00,  1.1418e+00,\n",
            "         4.4033e-01,  8.2015e-02,  1.0469e+00, -8.6948e-01,  2.2372e+00,\n",
            "         5.3270e-01,  4.3423e-01, -3.7482e-01, -1.6333e-02,  1.1433e+00,\n",
            "        -1.2654e+00,  5.6195e-02, -1.3732e+00,  1.0997e+00,  4.2314e-01,\n",
            "        -2.3676e-01,  9.6654e-01, -3.8637e-01, -1.6692e+00,  4.1374e-01,\n",
            "         1.8583e+00, -3.2063e-01,  1.7513e-01,  5.3057e-02,  9.1976e-01,\n",
            "        -3.9085e-01,  3.1316e-01,  9.2085e-01,  7.9659e-01,  7.2302e-02,\n",
            "         1.3890e+00,  2.2406e+00,  7.5834e-01,  7.6628e-02, -6.6970e-01,\n",
            "         1.0967e-01,  5.0675e-01,  1.5358e+00,  1.5293e+00,  5.1469e-01,\n",
            "         2.0990e+00,  6.1314e-01, -1.7371e-01, -5.4905e-01, -2.5945e-01,\n",
            "         1.4148e+00, -2.4353e+00, -1.6371e+00,  9.1508e-01,  4.2451e-01,\n",
            "         4.8121e-01,  5.3417e-01,  7.9750e-01, -4.5795e-01, -1.7586e+00,\n",
            "         9.1790e-01, -8.1237e-01, -7.9236e-01,  1.0695e+00, -3.8292e-01,\n",
            "        -1.2825e+00, -1.1325e+00,  6.6172e-01, -7.3261e-01, -8.5920e-01,\n",
            "         9.0752e-01, -8.8248e-01,  8.2001e-01, -7.8919e-01,  1.3611e-01,\n",
            "         1.1813e+00,  9.5458e-01,  6.0216e-01,  6.1997e-01, -3.4714e-01,\n",
            "        -2.8318e-01,  1.2928e+00, -7.7174e-01, -1.8670e+00,  6.4213e-02,\n",
            "         5.2089e-01,  6.9209e-01, -7.8172e-01,  1.2656e+00,  8.8519e-01,\n",
            "        -3.8633e-01,  1.1068e+00, -4.7148e-01, -9.8668e-01, -1.4492e+00,\n",
            "        -6.7752e-01, -2.0694e+00, -4.1770e-01, -1.1587e-02, -1.3799e-01,\n",
            "        -5.5261e-01,  8.6151e-01, -1.6837e+00,  1.2695e-01,  1.9524e+00,\n",
            "         1.2359e-01, -9.9449e-01, -1.6308e+00,  2.4690e-01,  1.2136e-01,\n",
            "        -2.3015e+00,  5.2804e-01, -5.6117e-01, -3.7687e-01,  1.6520e+00,\n",
            "        -4.1159e-01,  7.3178e-01,  6.1489e-01,  1.7244e-01,  9.9890e-01,\n",
            "        -1.0601e-01, -1.0746e+00, -5.3908e-01,  4.8102e-01, -1.0597e+00,\n",
            "         5.3171e-01, -4.2178e-01, -9.1217e-01, -1.8930e-01,  8.3795e-01,\n",
            "        -2.9672e+00, -1.6137e+00,  1.4810e+00,  1.2993e+00,  3.7017e-02,\n",
            "        -9.7286e-01,  7.9710e-01, -9.7272e-01,  2.2781e+00, -3.4151e-01,\n",
            "        -2.6410e-02,  2.6832e-01,  6.3061e-01,  1.3246e+00, -1.1196e+00,\n",
            "        -4.7760e-01, -1.7982e+00, -7.3966e-01, -6.8820e-01, -3.3489e-01,\n",
            "         5.8264e-02], device='cuda:0', grad_fn=<SqueezeBackward1>)\n",
            "Word: 맛\n",
            "tensor([-1.6757, -2.4155,  1.1147, -0.2055,  0.8908, -0.6013, -0.5625, -1.1542,\n",
            "         1.7655, -0.4201, -1.0050,  1.2405,  0.9867,  0.4443,  0.4969,  0.6565,\n",
            "         0.5803,  0.2184, -1.2757,  1.0014, -0.5886, -1.1598, -1.0692,  0.4747,\n",
            "        -0.6615, -0.4087,  1.7584,  0.0767,  1.8384,  0.5404, -0.5673, -1.2544,\n",
            "         1.2089, -0.5069,  0.3124,  0.0628,  1.4037, -2.1466, -0.0300, -0.0228,\n",
            "         0.2080, -0.9459,  0.6231,  0.2893, -0.3692,  1.5113,  1.3269, -1.4253,\n",
            "        -0.1404,  0.8184, -0.8888, -1.4147,  0.5667, -1.5196, -1.2060, -0.3779,\n",
            "         0.3013,  0.5048, -0.6485, -1.8164,  0.4804, -0.0530, -0.2526,  1.3495,\n",
            "         0.4302, -1.0434, -0.5226, -0.4313, -1.4540, -1.9606, -0.4988, -0.2524,\n",
            "         1.2567, -0.1166,  1.5735, -1.7199, -0.2291, -0.5886,  1.1968, -1.3486,\n",
            "        -1.2530, -0.2946,  0.0219, -0.1413, -1.0522, -0.9176, -0.3159,  2.3518,\n",
            "         0.0748,  0.5614,  0.0597, -0.3747,  0.1825,  0.5972, -1.0250, -0.8517,\n",
            "         1.6622,  0.1583,  0.0512, -1.0525,  1.2381, -0.5360,  2.1730,  0.0101,\n",
            "        -0.4362, -0.4894, -0.6819,  1.5627, -0.3339,  0.3043, -0.0918,  0.7365,\n",
            "        -0.8560,  0.7578, -0.5035, -0.8359, -0.4075, -0.7039, -0.4044, -1.0010,\n",
            "         0.9456, -0.0612, -0.3626,  1.6479, -0.5631,  0.2138,  0.7190, -0.5429,\n",
            "        -1.3885, -0.1435, -0.0992, -1.1270, -0.8396,  0.4492, -0.4047,  0.5134,\n",
            "         1.2040, -0.6833,  1.7267,  1.5496, -0.7248,  0.8120,  0.0515,  0.4673,\n",
            "         1.0879, -0.4158,  0.6278,  2.4014, -0.1900, -0.6501,  0.6530, -1.0879,\n",
            "         1.3222,  0.3620,  1.4515, -0.4582, -0.7527, -0.8930,  1.4541,  0.6761,\n",
            "        -0.3252,  0.7531, -1.2534, -0.4513,  1.1721, -0.2255,  0.4282, -0.2304,\n",
            "         0.9652, -1.4149,  0.1028,  1.4117,  0.9942, -0.7191, -0.2912,  0.1277,\n",
            "         1.2782, -0.7430, -0.8694, -0.5484, -0.1475, -1.3774, -0.6192,  1.0024,\n",
            "         1.6130, -0.3228, -0.0322,  0.7540,  0.1532,  0.1198, -2.6629,  0.1911,\n",
            "         2.3189, -0.4901, -1.1281,  0.4566, -0.9630,  0.3828, -0.9817, -0.8877,\n",
            "         0.6245, -0.3478, -0.7114, -1.9792,  0.7022, -1.4130, -0.2923, -1.7224,\n",
            "        -0.3361,  1.9491,  1.6712, -1.5291, -0.1184, -1.0540,  0.3127,  1.2755,\n",
            "        -0.0354, -0.0352, -1.1799, -0.4717, -1.5877, -1.0024, -0.2084,  0.5471,\n",
            "         0.4046, -0.3395,  0.2543, -0.1571, -0.1339, -1.7990, -0.4837,  0.1715,\n",
            "         0.6181, -1.0876,  1.0841,  1.8600,  1.0665, -0.1093,  0.2844,  1.2093,\n",
            "        -0.1201,  0.2307,  0.0198, -0.5253,  0.4824,  0.6612, -0.0858, -1.1583,\n",
            "         1.7466, -0.7836,  0.4883, -0.7884, -1.5073,  2.1108,  0.0457,  3.0422],\n",
            "       device='cuda:0', grad_fn=<SqueezeBackward1>)\n",
            "Word: 서비스\n",
            "tensor([-0.1501,  0.4974,  0.0741, -0.1852,  0.0485,  0.2034,  1.0238, -0.5173,\n",
            "         1.1459,  2.0915, -0.7747, -0.0297, -2.4655, -0.7684,  0.6641, -0.3217,\n",
            "         0.6898, -1.0000,  0.0965,  1.2607,  0.1399,  1.1054, -2.3077, -0.1902,\n",
            "         0.3212,  1.7303, -0.3349, -0.1011,  0.1668,  1.3678, -2.2638,  1.2393,\n",
            "         1.3620, -1.1654,  0.2188, -0.7444,  0.7467, -1.1392,  3.1012, -0.7804,\n",
            "         0.1483,  0.5108,  0.2202, -0.5857,  0.3761,  0.8906,  1.9170, -0.3072,\n",
            "         0.6633, -0.5307,  1.2438, -0.4352, -2.3776, -0.0406, -0.9276, -0.1900,\n",
            "        -0.2142,  1.2687,  1.1474, -1.0296,  1.0171, -0.1467, -1.0550,  1.0171,\n",
            "         0.2170,  1.2769, -0.8994,  0.2776, -0.5988,  1.9267,  0.6012, -0.9399,\n",
            "        -0.1611,  0.4907, -0.7235,  0.3418, -0.3320, -0.0961, -0.1403, -0.5268,\n",
            "         0.0847,  0.8719,  1.0740,  1.4432,  0.9493, -0.3172, -1.0797, -0.0504,\n",
            "         0.1213, -0.6012,  0.4677,  0.0839,  0.2550, -0.4281, -1.5721,  0.9654,\n",
            "         1.0416,  0.9984, -0.0747,  1.9547, -0.7847, -0.3875,  0.5453, -0.8295,\n",
            "        -0.8150, -1.0943, -0.2970,  0.6253, -0.8165, -0.4824,  1.5632, -1.3967,\n",
            "         0.1735,  1.4652,  2.3799, -0.2244,  1.3732,  0.6775, -1.1894,  0.1884,\n",
            "        -1.2886,  0.5589, -1.8595,  0.5627, -1.0543, -0.5400,  1.1161,  1.7424,\n",
            "         0.7040, -1.1321, -0.0054,  1.0522, -1.2138,  1.9221, -1.4427, -1.2398,\n",
            "         0.1449, -0.2982,  0.8323,  0.4420,  1.0061, -1.2756, -0.0054, -0.1081,\n",
            "         0.3775,  0.7226,  0.5921, -2.0851, -0.5535,  0.0784,  1.7683,  1.0184,\n",
            "         1.1181, -1.3785,  0.4770,  1.8748,  2.2023,  1.0811,  1.0729,  0.1885,\n",
            "         1.0611, -0.1948,  0.4397, -0.5277,  0.8757,  0.5910, -0.2354,  1.1568,\n",
            "         0.6310,  0.0373,  0.6413,  0.4775,  0.6829,  0.6700,  0.6583,  0.2945,\n",
            "         0.4473, -2.4156, -1.4758, -0.2451, -0.7577, -0.7253, -0.6822, -0.9511,\n",
            "        -0.4262,  0.7934,  0.7769, -1.6783, -0.3996,  0.6153, -0.0097, -1.3574,\n",
            "        -0.2319, -1.2140,  0.0997,  0.0287, -1.6435, -0.7458,  2.6025, -0.6368,\n",
            "        -0.0905, -0.4009,  0.9571,  0.8771,  0.6433,  1.0989, -1.4140, -2.5639,\n",
            "         0.5528,  1.8753, -0.6657,  1.7974,  0.1723, -1.5846,  0.0438, -0.4288,\n",
            "         0.7347,  1.3616, -0.9458, -3.0192,  1.1943,  1.3158, -0.6848, -0.8503,\n",
            "         1.7959,  1.0186,  0.5865, -0.9881, -0.3214, -0.1154,  0.2471, -1.2586,\n",
            "         1.2307,  1.3109,  0.1727, -0.8783, -1.5292,  0.1313,  0.6913, -0.9154,\n",
            "        -0.0325,  0.5125, -0.3531, -0.0443,  1.6234, -1.1318,  1.9144, -0.6329,\n",
            "         0.5405,  0.1451,  0.5393, -0.2751, -1.4260,  0.7172,  0.2400,  0.3334],\n",
            "       device='cuda:0', grad_fn=<SqueezeBackward1>)\n",
            "Word: 위생\n",
            "tensor([ 0.2494,  1.5580, -0.2975,  1.5894, -0.4090, -0.4584, -2.0431, -1.6785,\n",
            "        -0.3804,  0.7494,  0.1796, -0.5337,  1.4412, -1.5191, -1.6168, -0.3633,\n",
            "        -0.4447, -1.4795, -0.7774,  2.0130,  0.1930,  0.5241,  0.5224,  0.9267,\n",
            "        -0.0725,  0.3401,  0.7524, -1.9259, -0.8310,  1.1124, -2.0687, -0.8882,\n",
            "         0.6643,  0.3819, -2.0537,  0.5839, -0.1438,  1.6759,  0.1365, -0.1426,\n",
            "        -1.0160,  0.3618,  1.5376, -0.6830,  1.2385, -0.5765, -1.5533,  0.0526,\n",
            "        -0.3953,  0.0114, -1.0664,  0.4932, -1.2747,  0.4897, -0.2928,  0.8821,\n",
            "         0.2919, -0.7119, -0.6505, -0.6350,  0.2802, -0.3603, -1.5998, -1.2903,\n",
            "         0.1077,  1.2062, -0.1661, -0.7587,  0.7420, -0.0317, -0.5789, -0.5275,\n",
            "         1.1728,  0.0988,  0.8288,  0.6068,  1.2717,  0.9584,  1.8455,  0.6560,\n",
            "         1.4874, -0.6684,  0.4690,  0.5197,  0.6339, -0.4255, -1.3354, -0.5456,\n",
            "         1.8715,  0.2229,  1.2001,  0.4679,  0.6472, -0.0766, -0.3342,  0.6445,\n",
            "         0.0443,  1.4547, -0.0648,  1.1460,  1.8735, -0.3009,  0.6351,  0.2937,\n",
            "         2.1278, -0.2415, -0.9625,  0.5652,  2.3112, -1.1969, -1.8455,  0.6409,\n",
            "        -0.2331,  0.4566,  2.6970,  0.1782, -1.3275, -0.0743,  0.1119,  0.5048,\n",
            "         1.1401, -1.1211, -0.7444, -0.2100,  2.2611,  0.5589, -0.4169, -0.5643,\n",
            "        -0.7539, -0.3263, -1.7309, -1.8655, -0.8220,  0.0742,  0.9169, -0.5323,\n",
            "         0.5962,  0.7066,  0.5553,  1.2053,  0.8093, -0.5374, -0.8886,  1.1282,\n",
            "        -1.4060,  0.4013, -0.0651, -0.6829,  0.3448, -0.9014,  0.4111, -0.8173,\n",
            "        -0.2609, -1.1049,  2.0273,  0.2853, -0.3282, -0.7240,  0.9666,  0.6652,\n",
            "        -0.0108,  0.8394,  0.5337, -0.5743, -0.5564, -1.2337, -0.5701, -0.4582,\n",
            "         0.3947,  0.1006,  0.1337, -1.2307,  0.8909,  0.9060, -0.2141,  0.3529,\n",
            "        -0.8306,  1.5062,  0.2318,  0.5441,  2.5737, -0.7306, -0.3151, -0.5019,\n",
            "         0.6845,  0.9518, -0.0908,  0.4081, -1.8345, -1.8065,  0.5758,  1.5147,\n",
            "         0.1595,  0.2760, -0.2048, -0.1957, -0.4114,  1.2669,  1.1642,  0.9922,\n",
            "        -1.6636, -0.7092, -0.1743,  1.7226, -0.2212,  0.0834, -0.4742, -0.0389,\n",
            "         3.3243,  0.0649,  0.7466, -0.9063,  0.6023, -0.8763, -0.9255,  0.4463,\n",
            "        -0.3481, -0.9599, -0.6232,  0.2886, -0.6906, -0.4010,  0.4455, -1.2560,\n",
            "         0.5972,  0.5544,  0.5123, -1.3984, -1.1177, -0.1026,  0.9326,  0.1380,\n",
            "         0.1632,  0.3532, -0.5485, -1.6746, -1.0707, -0.5534, -0.5129, -0.9454,\n",
            "        -0.2552,  1.0465,  0.2124, -0.9585, -1.3435, -0.2618, -0.5984,  0.7418,\n",
            "         1.3815, -0.0623,  0.7920,  0.4340,  0.0479, -0.3511, -0.6449, -1.2978],\n",
            "       device='cuda:0', grad_fn=<SqueezeBackward1>)\n",
            "Word: 가격\n",
            "tensor([-1.6587,  0.1494,  1.0477, -1.1037,  0.0835,  2.0045, -0.3554, -0.8442,\n",
            "        -1.1032,  0.0997, -2.5301, -1.0740,  0.3589, -0.6493, -1.4721, -1.1565,\n",
            "         1.7946,  1.4822,  0.7156, -0.7027,  0.8379, -0.8692,  0.7380, -1.5139,\n",
            "        -1.2964,  0.2013,  2.7517,  0.0420,  0.9117, -0.9132, -0.3247, -0.8407,\n",
            "         2.2452,  2.4489,  0.2155, -0.0067,  0.1981,  0.6949, -1.3338, -0.2921,\n",
            "        -0.2282,  0.0596, -0.1689,  0.6075, -0.9782, -0.7683,  1.0104, -0.9289,\n",
            "        -0.2334,  2.0352,  0.2580, -0.6068,  0.1015, -0.3717,  0.1912,  2.2912,\n",
            "         0.1028,  0.6887, -0.2552,  0.5836, -0.1056,  0.5461,  0.3182, -0.1134,\n",
            "        -0.9162, -0.7173,  0.5765, -0.2773, -0.8121,  1.0508, -0.5721,  1.3119,\n",
            "        -0.0927, -0.3620, -1.7240,  0.0942, -0.9150,  0.9856, -0.2040,  1.7488,\n",
            "         0.4376,  1.6214, -0.6846, -0.9826, -0.5895, -1.2075,  0.2929,  0.1342,\n",
            "         0.2031, -0.0916, -0.5869,  0.2520,  0.2223, -1.5354,  1.5098,  0.6658,\n",
            "        -0.5989, -0.4288, -0.7295,  2.1567,  0.7706, -1.0057,  0.3544, -1.1030,\n",
            "        -0.1085,  0.3049, -0.8116, -1.3743, -0.7549, -1.8608,  1.3673, -1.0511,\n",
            "         0.5181,  0.5141, -0.7662, -2.0807,  1.6658, -1.4230, -0.1426, -0.3872,\n",
            "        -1.1782, -1.0808,  0.6904, -0.4620,  0.9899, -1.8796,  2.3886, -1.8892,\n",
            "         0.2894,  0.3612, -0.9731, -0.8350,  1.1471, -0.2927, -0.1497,  0.0194,\n",
            "        -0.8847, -0.4368, -0.0062,  0.9650, -0.4395,  1.2877, -0.4506, -0.6296,\n",
            "         0.4202,  0.1302, -0.1383,  1.2243, -0.1542,  0.1749,  1.8104,  1.3784,\n",
            "        -0.6294, -0.0384,  0.7525, -0.6448, -0.6494,  1.6750,  1.1587,  1.2586,\n",
            "         0.0495, -0.7037,  0.3292, -0.5957,  0.4219, -1.7885, -0.0113, -0.6011,\n",
            "         0.3857,  0.4463,  0.3294,  1.3238,  0.1341, -1.2983,  0.6784, -1.7059,\n",
            "        -0.1698, -0.6221,  0.3761,  1.2478,  0.7143, -0.2115, -1.9253, -2.1635,\n",
            "        -0.2424,  0.1608,  0.8826,  0.0923, -0.2573, -0.3539,  0.6016,  1.7255,\n",
            "        -0.2630, -0.5419, -0.9467,  0.7546, -0.5483,  1.2710, -2.1867,  1.0267,\n",
            "         0.0950, -0.5422,  0.3153,  0.8503, -1.2779, -1.0303,  0.5646,  0.5629,\n",
            "         0.8350,  1.1532, -0.8328, -1.3035, -0.3922, -0.7135,  0.9814,  0.7585,\n",
            "         0.7561, -0.0673,  0.6040, -0.7953, -0.8804, -0.4934, -1.1855, -0.8826,\n",
            "        -0.0704, -0.6628, -0.5197, -0.0866,  1.7895,  0.3176,  0.7363, -0.9299,\n",
            "         0.5400,  0.6405, -0.3638,  0.3879,  0.9513,  0.2174, -0.9518, -0.0840,\n",
            "        -0.5679, -1.2226,  0.8479, -0.8284,  0.7172, -0.0823, -0.3170, -0.0882,\n",
            "         0.4591, -0.9969, -0.3403,  1.4972, -0.9031, -0.1209,  0.1337, -0.4819],\n",
            "       device='cuda:0', grad_fn=<SqueezeBackward1>)\n"
          ],
          "name": "stdout"
        }
      ]
    },
    {
      "cell_type": "code",
      "metadata": {
        "id": "PmN4IchwisOO"
      },
      "source": [
        "!apt-get install -qq texlive texlive-xetex texlive-latex-extra pandoc\r\n",
        "!pip install -qq pypandoc\r\n",
        "\r\n",
        "from google.colab import drive\r\n",
        "drive.mount('/content/drive')\r\n",
        "\r\n",
        "!jupyter nbconvert --to PDF '/content/drive/My Drive/Colab Notebooks/1_naive_bayes.ipynb의 사본'"
      ],
      "execution_count": null,
      "outputs": []
    }
  ]
}