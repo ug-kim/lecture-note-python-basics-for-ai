{
 "cells": [
  {
   "cell_type": "code",
   "execution_count": 1,
   "metadata": {
    "id": "3GKVRYTEsJXD"
   },
   "outputs": [],
   "source": [
    "import json"
   ]
  },
  {
   "cell_type": "code",
   "execution_count": 2,
   "metadata": {
    "id": "Dwmxyj4YsJXI"
   },
   "outputs": [],
   "source": [
    "corpus_path = \"../corpus/\"\n",
    "with open(corpus_path + \"SXNE1902007240.json\",\"r\") as f1,open(corpus_path + \"NXNE1902008030.json\",\"r\") as f2:\n",
    "    data1=json.load(f1)\n",
    "    data2=json.load(f2)\n",
    "datas=[data1,data2]"
   ]
  },
  {
   "cell_type": "code",
   "execution_count": 3,
   "metadata": {
    "id": "9ctIJLUgsJXJ"
   },
   "outputs": [],
   "source": [
    "results=[]\n",
    "for data in datas:\n",
    "    for doc in data['document']:\n",
    "        ex_text=doc['sentence']\n",
    "        \n",
    "        for txt_dict in ex_text:\n",
    "            labels=[]\n",
    "            labels_=[]\n",
    "            for j in txt_dict[\"form\"]:\n",
    "                if j== \" \":\n",
    "                    labels.append(\"B\")\n",
    "                    continue\n",
    "                labels.append(\"O\")\n",
    "            for k in txt_dict[\"NE\"]:\n",
    "                data=list(k.values())\n",
    "                BI_indicator=0 \n",
    "                if data[2] in ['DT','LC','OG','PS','QT','TI','O']:\n",
    "                  for p in range(data[3],data[4]):\n",
    "                      if BI_indicator==0:\n",
    "                          if labels[p]==\"B\":\n",
    "                              BI_indicator=1\n",
    "                          else:\n",
    "                              labels[p]=data[2]+\"-B\"\n",
    "                      else:\n",
    "                          if not labels[p]==\"B\":\n",
    "                              labels[p]=data[2]+\"-I\"\n",
    "            for i in labels:\n",
    "                if len(labels_)==0:\n",
    "                    labels_.append(i)\n",
    "                else:\n",
    "                    if i==\"B\":\n",
    "                        labels_.append(i)\n",
    "                    if labels_[-1]==i:\n",
    "                        continue\n",
    "                    if labels_[-1]==\"B\":\n",
    "                        labels_.append(i)\n",
    "            while \"B\" in labels_:\n",
    "                labels_.remove(\"B\")\n",
    "            results.append((txt_dict[\"form\"],labels_))"
   ]
  },
  {
   "cell_type": "code",
   "execution_count": 4,
   "metadata": {
    "id": "Ld89VGuAsJXJ"
   },
   "outputs": [],
   "source": [
    "train=results[:int(len(results)*0.8)]\n",
    "dev=results[int(len(results)*0.8):]"
   ]
  },
  {
   "cell_type": "code",
   "execution_count": 5,
   "metadata": {
    "id": "bon0SbpcsJXJ"
   },
   "outputs": [],
   "source": [
    "with open(\"train.tsv\",'w') as f:\n",
    "    for i in train:\n",
    "        if len(i[1])<1:\n",
    "            continue\n",
    "        f.write(i[0])\n",
    "        f.write(\"\\t\")\n",
    "        f.write(' '.join(i[1]))\n",
    "        f.write(\"\\n\")"
   ]
  },
  {
   "cell_type": "code",
   "execution_count": 6,
   "metadata": {
    "id": "FWTB_DM1sJXK"
   },
   "outputs": [],
   "source": [
    "with open(\"dev.tsv\",'w') as f:\n",
    "    for i in dev:\n",
    "        if len(i[1])<1:\n",
    "            continue\n",
    "        f.write(i[0])\n",
    "        f.write(\"\\t\")\n",
    "        f.write(' '.join(i[1]))\n",
    "        f.write(\"\\n\")"
   ]
  },
  {
   "cell_type": "code",
   "execution_count": null,
   "metadata": {},
   "outputs": [],
   "source": []
  }
 ],
 "metadata": {
  "colab": {
   "collapsed_sections": [],
   "name": "preprocessing.ipynb",
   "provenance": []
  },
  "kernelspec": {
   "display_name": "Python 3",
   "language": "python",
   "name": "python3"
  },
  "language_info": {
   "codemirror_mode": {
    "name": "ipython",
    "version": 3
   },
   "file_extension": ".py",
   "mimetype": "text/x-python",
   "name": "python",
   "nbconvert_exporter": "python",
   "pygments_lexer": "ipython3",
   "version": "3.7.7"
  }
 },
 "nbformat": 4,
 "nbformat_minor": 5
}
