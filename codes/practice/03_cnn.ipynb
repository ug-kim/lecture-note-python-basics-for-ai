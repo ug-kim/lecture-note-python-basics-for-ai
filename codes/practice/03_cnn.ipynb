{
  "nbformat": 4,
  "nbformat_minor": 0,
  "metadata": {
    "colab": {
      "name": "cnn.ipynb",
      "provenance": [],
      "collapsed_sections": []
    },
    "kernelspec": {
      "name": "python3",
      "display_name": "Python 3"
    },
    "accelerator": "GPU",
    "widgets": {
      "application/vnd.jupyter.widget-state+json": {
        "ed91e1f119d642129db70e199f799cd8": {
          "model_module": "@jupyter-widgets/controls",
          "model_name": "HBoxModel",
          "state": {
            "_view_name": "HBoxView",
            "_dom_classes": [],
            "_model_name": "HBoxModel",
            "_view_module": "@jupyter-widgets/controls",
            "_model_module_version": "1.5.0",
            "_view_count": null,
            "_view_module_version": "1.5.0",
            "box_style": "",
            "layout": "IPY_MODEL_7f67ea42389c4760acd729d52e975cb2",
            "_model_module": "@jupyter-widgets/controls",
            "children": [
              "IPY_MODEL_1a910b24713147d681546ab75342ce40",
              "IPY_MODEL_b1be2d8fc9a146e2b214a90dba3e72d3"
            ]
          }
        },
        "7f67ea42389c4760acd729d52e975cb2": {
          "model_module": "@jupyter-widgets/base",
          "model_name": "LayoutModel",
          "state": {
            "_view_name": "LayoutView",
            "grid_template_rows": null,
            "right": null,
            "justify_content": null,
            "_view_module": "@jupyter-widgets/base",
            "overflow": null,
            "_model_module_version": "1.2.0",
            "_view_count": null,
            "flex_flow": null,
            "width": null,
            "min_width": null,
            "border": null,
            "align_items": null,
            "bottom": null,
            "_model_module": "@jupyter-widgets/base",
            "top": null,
            "grid_column": null,
            "overflow_y": null,
            "overflow_x": null,
            "grid_auto_flow": null,
            "grid_area": null,
            "grid_template_columns": null,
            "flex": null,
            "_model_name": "LayoutModel",
            "justify_items": null,
            "grid_row": null,
            "max_height": null,
            "align_content": null,
            "visibility": null,
            "align_self": null,
            "height": null,
            "min_height": null,
            "padding": null,
            "grid_auto_rows": null,
            "grid_gap": null,
            "max_width": null,
            "order": null,
            "_view_module_version": "1.2.0",
            "grid_template_areas": null,
            "object_position": null,
            "object_fit": null,
            "grid_auto_columns": null,
            "margin": null,
            "display": null,
            "left": null
          }
        },
        "1a910b24713147d681546ab75342ce40": {
          "model_module": "@jupyter-widgets/controls",
          "model_name": "FloatProgressModel",
          "state": {
            "_view_name": "ProgressView",
            "style": "IPY_MODEL_0528d27f3b7d4a96970e6c00875065d6",
            "_dom_classes": [],
            "description": "",
            "_model_name": "FloatProgressModel",
            "bar_style": "success",
            "max": 1,
            "_view_module": "@jupyter-widgets/controls",
            "_model_module_version": "1.5.0",
            "value": 1,
            "_view_count": null,
            "_view_module_version": "1.5.0",
            "orientation": "horizontal",
            "min": 0,
            "description_tooltip": null,
            "_model_module": "@jupyter-widgets/controls",
            "layout": "IPY_MODEL_44de7c3e41644037879935ad3fcd7700"
          }
        },
        "b1be2d8fc9a146e2b214a90dba3e72d3": {
          "model_module": "@jupyter-widgets/controls",
          "model_name": "HTMLModel",
          "state": {
            "_view_name": "HTMLView",
            "style": "IPY_MODEL_94d86bf591024af38e6fd042d5c67a3c",
            "_dom_classes": [],
            "description": "",
            "_model_name": "HTMLModel",
            "placeholder": "​",
            "_view_module": "@jupyter-widgets/controls",
            "_model_module_version": "1.5.0",
            "value": " 9920512/? [00:02&lt;00:00, 3876189.94it/s]",
            "_view_count": null,
            "_view_module_version": "1.5.0",
            "description_tooltip": null,
            "_model_module": "@jupyter-widgets/controls",
            "layout": "IPY_MODEL_2ea2d3601f8044cb92ae1133be032a0d"
          }
        },
        "0528d27f3b7d4a96970e6c00875065d6": {
          "model_module": "@jupyter-widgets/controls",
          "model_name": "ProgressStyleModel",
          "state": {
            "_view_name": "StyleView",
            "_model_name": "ProgressStyleModel",
            "description_width": "initial",
            "_view_module": "@jupyter-widgets/base",
            "_model_module_version": "1.5.0",
            "_view_count": null,
            "_view_module_version": "1.2.0",
            "bar_color": null,
            "_model_module": "@jupyter-widgets/controls"
          }
        },
        "44de7c3e41644037879935ad3fcd7700": {
          "model_module": "@jupyter-widgets/base",
          "model_name": "LayoutModel",
          "state": {
            "_view_name": "LayoutView",
            "grid_template_rows": null,
            "right": null,
            "justify_content": null,
            "_view_module": "@jupyter-widgets/base",
            "overflow": null,
            "_model_module_version": "1.2.0",
            "_view_count": null,
            "flex_flow": null,
            "width": null,
            "min_width": null,
            "border": null,
            "align_items": null,
            "bottom": null,
            "_model_module": "@jupyter-widgets/base",
            "top": null,
            "grid_column": null,
            "overflow_y": null,
            "overflow_x": null,
            "grid_auto_flow": null,
            "grid_area": null,
            "grid_template_columns": null,
            "flex": null,
            "_model_name": "LayoutModel",
            "justify_items": null,
            "grid_row": null,
            "max_height": null,
            "align_content": null,
            "visibility": null,
            "align_self": null,
            "height": null,
            "min_height": null,
            "padding": null,
            "grid_auto_rows": null,
            "grid_gap": null,
            "max_width": null,
            "order": null,
            "_view_module_version": "1.2.0",
            "grid_template_areas": null,
            "object_position": null,
            "object_fit": null,
            "grid_auto_columns": null,
            "margin": null,
            "display": null,
            "left": null
          }
        },
        "94d86bf591024af38e6fd042d5c67a3c": {
          "model_module": "@jupyter-widgets/controls",
          "model_name": "DescriptionStyleModel",
          "state": {
            "_view_name": "StyleView",
            "_model_name": "DescriptionStyleModel",
            "description_width": "",
            "_view_module": "@jupyter-widgets/base",
            "_model_module_version": "1.5.0",
            "_view_count": null,
            "_view_module_version": "1.2.0",
            "_model_module": "@jupyter-widgets/controls"
          }
        },
        "2ea2d3601f8044cb92ae1133be032a0d": {
          "model_module": "@jupyter-widgets/base",
          "model_name": "LayoutModel",
          "state": {
            "_view_name": "LayoutView",
            "grid_template_rows": null,
            "right": null,
            "justify_content": null,
            "_view_module": "@jupyter-widgets/base",
            "overflow": null,
            "_model_module_version": "1.2.0",
            "_view_count": null,
            "flex_flow": null,
            "width": null,
            "min_width": null,
            "border": null,
            "align_items": null,
            "bottom": null,
            "_model_module": "@jupyter-widgets/base",
            "top": null,
            "grid_column": null,
            "overflow_y": null,
            "overflow_x": null,
            "grid_auto_flow": null,
            "grid_area": null,
            "grid_template_columns": null,
            "flex": null,
            "_model_name": "LayoutModel",
            "justify_items": null,
            "grid_row": null,
            "max_height": null,
            "align_content": null,
            "visibility": null,
            "align_self": null,
            "height": null,
            "min_height": null,
            "padding": null,
            "grid_auto_rows": null,
            "grid_gap": null,
            "max_width": null,
            "order": null,
            "_view_module_version": "1.2.0",
            "grid_template_areas": null,
            "object_position": null,
            "object_fit": null,
            "grid_auto_columns": null,
            "margin": null,
            "display": null,
            "left": null
          }
        },
        "74c586f09f804f57905c9204b68d2ba3": {
          "model_module": "@jupyter-widgets/controls",
          "model_name": "HBoxModel",
          "state": {
            "_view_name": "HBoxView",
            "_dom_classes": [],
            "_model_name": "HBoxModel",
            "_view_module": "@jupyter-widgets/controls",
            "_model_module_version": "1.5.0",
            "_view_count": null,
            "_view_module_version": "1.5.0",
            "box_style": "",
            "layout": "IPY_MODEL_c28a7a99d24147cc9e1694fcbc4f0868",
            "_model_module": "@jupyter-widgets/controls",
            "children": [
              "IPY_MODEL_ecf0b4ba2c474692b82a2ebfb1eb7e81",
              "IPY_MODEL_5320eaf671024667a969f76dee0edecf"
            ]
          }
        },
        "c28a7a99d24147cc9e1694fcbc4f0868": {
          "model_module": "@jupyter-widgets/base",
          "model_name": "LayoutModel",
          "state": {
            "_view_name": "LayoutView",
            "grid_template_rows": null,
            "right": null,
            "justify_content": null,
            "_view_module": "@jupyter-widgets/base",
            "overflow": null,
            "_model_module_version": "1.2.0",
            "_view_count": null,
            "flex_flow": null,
            "width": null,
            "min_width": null,
            "border": null,
            "align_items": null,
            "bottom": null,
            "_model_module": "@jupyter-widgets/base",
            "top": null,
            "grid_column": null,
            "overflow_y": null,
            "overflow_x": null,
            "grid_auto_flow": null,
            "grid_area": null,
            "grid_template_columns": null,
            "flex": null,
            "_model_name": "LayoutModel",
            "justify_items": null,
            "grid_row": null,
            "max_height": null,
            "align_content": null,
            "visibility": null,
            "align_self": null,
            "height": null,
            "min_height": null,
            "padding": null,
            "grid_auto_rows": null,
            "grid_gap": null,
            "max_width": null,
            "order": null,
            "_view_module_version": "1.2.0",
            "grid_template_areas": null,
            "object_position": null,
            "object_fit": null,
            "grid_auto_columns": null,
            "margin": null,
            "display": null,
            "left": null
          }
        },
        "ecf0b4ba2c474692b82a2ebfb1eb7e81": {
          "model_module": "@jupyter-widgets/controls",
          "model_name": "FloatProgressModel",
          "state": {
            "_view_name": "ProgressView",
            "style": "IPY_MODEL_44da02720fe04feabfd297582a10f6ee",
            "_dom_classes": [],
            "description": "",
            "_model_name": "FloatProgressModel",
            "bar_style": "success",
            "max": 1,
            "_view_module": "@jupyter-widgets/controls",
            "_model_module_version": "1.5.0",
            "value": 1,
            "_view_count": null,
            "_view_module_version": "1.5.0",
            "orientation": "horizontal",
            "min": 0,
            "description_tooltip": null,
            "_model_module": "@jupyter-widgets/controls",
            "layout": "IPY_MODEL_3b9935a9482349f091b614d030113d2b"
          }
        },
        "5320eaf671024667a969f76dee0edecf": {
          "model_module": "@jupyter-widgets/controls",
          "model_name": "HTMLModel",
          "state": {
            "_view_name": "HTMLView",
            "style": "IPY_MODEL_408fc3c52d5d44229180662d2f57d28e",
            "_dom_classes": [],
            "description": "",
            "_model_name": "HTMLModel",
            "placeholder": "​",
            "_view_module": "@jupyter-widgets/controls",
            "_model_module_version": "1.5.0",
            "value": " 32768/? [00:01&lt;00:00, 32220.14it/s]",
            "_view_count": null,
            "_view_module_version": "1.5.0",
            "description_tooltip": null,
            "_model_module": "@jupyter-widgets/controls",
            "layout": "IPY_MODEL_a82dd9068cb940ad9e5eb8c396e11a5d"
          }
        },
        "44da02720fe04feabfd297582a10f6ee": {
          "model_module": "@jupyter-widgets/controls",
          "model_name": "ProgressStyleModel",
          "state": {
            "_view_name": "StyleView",
            "_model_name": "ProgressStyleModel",
            "description_width": "initial",
            "_view_module": "@jupyter-widgets/base",
            "_model_module_version": "1.5.0",
            "_view_count": null,
            "_view_module_version": "1.2.0",
            "bar_color": null,
            "_model_module": "@jupyter-widgets/controls"
          }
        },
        "3b9935a9482349f091b614d030113d2b": {
          "model_module": "@jupyter-widgets/base",
          "model_name": "LayoutModel",
          "state": {
            "_view_name": "LayoutView",
            "grid_template_rows": null,
            "right": null,
            "justify_content": null,
            "_view_module": "@jupyter-widgets/base",
            "overflow": null,
            "_model_module_version": "1.2.0",
            "_view_count": null,
            "flex_flow": null,
            "width": null,
            "min_width": null,
            "border": null,
            "align_items": null,
            "bottom": null,
            "_model_module": "@jupyter-widgets/base",
            "top": null,
            "grid_column": null,
            "overflow_y": null,
            "overflow_x": null,
            "grid_auto_flow": null,
            "grid_area": null,
            "grid_template_columns": null,
            "flex": null,
            "_model_name": "LayoutModel",
            "justify_items": null,
            "grid_row": null,
            "max_height": null,
            "align_content": null,
            "visibility": null,
            "align_self": null,
            "height": null,
            "min_height": null,
            "padding": null,
            "grid_auto_rows": null,
            "grid_gap": null,
            "max_width": null,
            "order": null,
            "_view_module_version": "1.2.0",
            "grid_template_areas": null,
            "object_position": null,
            "object_fit": null,
            "grid_auto_columns": null,
            "margin": null,
            "display": null,
            "left": null
          }
        },
        "408fc3c52d5d44229180662d2f57d28e": {
          "model_module": "@jupyter-widgets/controls",
          "model_name": "DescriptionStyleModel",
          "state": {
            "_view_name": "StyleView",
            "_model_name": "DescriptionStyleModel",
            "description_width": "",
            "_view_module": "@jupyter-widgets/base",
            "_model_module_version": "1.5.0",
            "_view_count": null,
            "_view_module_version": "1.2.0",
            "_model_module": "@jupyter-widgets/controls"
          }
        },
        "a82dd9068cb940ad9e5eb8c396e11a5d": {
          "model_module": "@jupyter-widgets/base",
          "model_name": "LayoutModel",
          "state": {
            "_view_name": "LayoutView",
            "grid_template_rows": null,
            "right": null,
            "justify_content": null,
            "_view_module": "@jupyter-widgets/base",
            "overflow": null,
            "_model_module_version": "1.2.0",
            "_view_count": null,
            "flex_flow": null,
            "width": null,
            "min_width": null,
            "border": null,
            "align_items": null,
            "bottom": null,
            "_model_module": "@jupyter-widgets/base",
            "top": null,
            "grid_column": null,
            "overflow_y": null,
            "overflow_x": null,
            "grid_auto_flow": null,
            "grid_area": null,
            "grid_template_columns": null,
            "flex": null,
            "_model_name": "LayoutModel",
            "justify_items": null,
            "grid_row": null,
            "max_height": null,
            "align_content": null,
            "visibility": null,
            "align_self": null,
            "height": null,
            "min_height": null,
            "padding": null,
            "grid_auto_rows": null,
            "grid_gap": null,
            "max_width": null,
            "order": null,
            "_view_module_version": "1.2.0",
            "grid_template_areas": null,
            "object_position": null,
            "object_fit": null,
            "grid_auto_columns": null,
            "margin": null,
            "display": null,
            "left": null
          }
        },
        "15d8c8079b674b9bb76f637d22d63e56": {
          "model_module": "@jupyter-widgets/controls",
          "model_name": "HBoxModel",
          "state": {
            "_view_name": "HBoxView",
            "_dom_classes": [],
            "_model_name": "HBoxModel",
            "_view_module": "@jupyter-widgets/controls",
            "_model_module_version": "1.5.0",
            "_view_count": null,
            "_view_module_version": "1.5.0",
            "box_style": "",
            "layout": "IPY_MODEL_75ba902f78cc467b996732899fe7e589",
            "_model_module": "@jupyter-widgets/controls",
            "children": [
              "IPY_MODEL_cc1a4f078fe443e69baba5f73b6553ec",
              "IPY_MODEL_ee5d6d385e3c46e2a38a9289d6421961"
            ]
          }
        },
        "75ba902f78cc467b996732899fe7e589": {
          "model_module": "@jupyter-widgets/base",
          "model_name": "LayoutModel",
          "state": {
            "_view_name": "LayoutView",
            "grid_template_rows": null,
            "right": null,
            "justify_content": null,
            "_view_module": "@jupyter-widgets/base",
            "overflow": null,
            "_model_module_version": "1.2.0",
            "_view_count": null,
            "flex_flow": null,
            "width": null,
            "min_width": null,
            "border": null,
            "align_items": null,
            "bottom": null,
            "_model_module": "@jupyter-widgets/base",
            "top": null,
            "grid_column": null,
            "overflow_y": null,
            "overflow_x": null,
            "grid_auto_flow": null,
            "grid_area": null,
            "grid_template_columns": null,
            "flex": null,
            "_model_name": "LayoutModel",
            "justify_items": null,
            "grid_row": null,
            "max_height": null,
            "align_content": null,
            "visibility": null,
            "align_self": null,
            "height": null,
            "min_height": null,
            "padding": null,
            "grid_auto_rows": null,
            "grid_gap": null,
            "max_width": null,
            "order": null,
            "_view_module_version": "1.2.0",
            "grid_template_areas": null,
            "object_position": null,
            "object_fit": null,
            "grid_auto_columns": null,
            "margin": null,
            "display": null,
            "left": null
          }
        },
        "cc1a4f078fe443e69baba5f73b6553ec": {
          "model_module": "@jupyter-widgets/controls",
          "model_name": "FloatProgressModel",
          "state": {
            "_view_name": "ProgressView",
            "style": "IPY_MODEL_730e6f299298430c930f04e8e7b4682d",
            "_dom_classes": [],
            "description": "",
            "_model_name": "FloatProgressModel",
            "bar_style": "success",
            "max": 1,
            "_view_module": "@jupyter-widgets/controls",
            "_model_module_version": "1.5.0",
            "value": 1,
            "_view_count": null,
            "_view_module_version": "1.5.0",
            "orientation": "horizontal",
            "min": 0,
            "description_tooltip": null,
            "_model_module": "@jupyter-widgets/controls",
            "layout": "IPY_MODEL_04b4f9f74f5748ff845402fe9828f660"
          }
        },
        "ee5d6d385e3c46e2a38a9289d6421961": {
          "model_module": "@jupyter-widgets/controls",
          "model_name": "HTMLModel",
          "state": {
            "_view_name": "HTMLView",
            "style": "IPY_MODEL_aa311e6173f2418bb059a0d00a9aa796",
            "_dom_classes": [],
            "description": "",
            "_model_name": "HTMLModel",
            "placeholder": "​",
            "_view_module": "@jupyter-widgets/controls",
            "_model_module_version": "1.5.0",
            "value": " 1654784/? [00:00&lt;00:00, 2266166.40it/s]",
            "_view_count": null,
            "_view_module_version": "1.5.0",
            "description_tooltip": null,
            "_model_module": "@jupyter-widgets/controls",
            "layout": "IPY_MODEL_a380026114ec40aea56fa9be708524c5"
          }
        },
        "730e6f299298430c930f04e8e7b4682d": {
          "model_module": "@jupyter-widgets/controls",
          "model_name": "ProgressStyleModel",
          "state": {
            "_view_name": "StyleView",
            "_model_name": "ProgressStyleModel",
            "description_width": "initial",
            "_view_module": "@jupyter-widgets/base",
            "_model_module_version": "1.5.0",
            "_view_count": null,
            "_view_module_version": "1.2.0",
            "bar_color": null,
            "_model_module": "@jupyter-widgets/controls"
          }
        },
        "04b4f9f74f5748ff845402fe9828f660": {
          "model_module": "@jupyter-widgets/base",
          "model_name": "LayoutModel",
          "state": {
            "_view_name": "LayoutView",
            "grid_template_rows": null,
            "right": null,
            "justify_content": null,
            "_view_module": "@jupyter-widgets/base",
            "overflow": null,
            "_model_module_version": "1.2.0",
            "_view_count": null,
            "flex_flow": null,
            "width": null,
            "min_width": null,
            "border": null,
            "align_items": null,
            "bottom": null,
            "_model_module": "@jupyter-widgets/base",
            "top": null,
            "grid_column": null,
            "overflow_y": null,
            "overflow_x": null,
            "grid_auto_flow": null,
            "grid_area": null,
            "grid_template_columns": null,
            "flex": null,
            "_model_name": "LayoutModel",
            "justify_items": null,
            "grid_row": null,
            "max_height": null,
            "align_content": null,
            "visibility": null,
            "align_self": null,
            "height": null,
            "min_height": null,
            "padding": null,
            "grid_auto_rows": null,
            "grid_gap": null,
            "max_width": null,
            "order": null,
            "_view_module_version": "1.2.0",
            "grid_template_areas": null,
            "object_position": null,
            "object_fit": null,
            "grid_auto_columns": null,
            "margin": null,
            "display": null,
            "left": null
          }
        },
        "aa311e6173f2418bb059a0d00a9aa796": {
          "model_module": "@jupyter-widgets/controls",
          "model_name": "DescriptionStyleModel",
          "state": {
            "_view_name": "StyleView",
            "_model_name": "DescriptionStyleModel",
            "description_width": "",
            "_view_module": "@jupyter-widgets/base",
            "_model_module_version": "1.5.0",
            "_view_count": null,
            "_view_module_version": "1.2.0",
            "_model_module": "@jupyter-widgets/controls"
          }
        },
        "a380026114ec40aea56fa9be708524c5": {
          "model_module": "@jupyter-widgets/base",
          "model_name": "LayoutModel",
          "state": {
            "_view_name": "LayoutView",
            "grid_template_rows": null,
            "right": null,
            "justify_content": null,
            "_view_module": "@jupyter-widgets/base",
            "overflow": null,
            "_model_module_version": "1.2.0",
            "_view_count": null,
            "flex_flow": null,
            "width": null,
            "min_width": null,
            "border": null,
            "align_items": null,
            "bottom": null,
            "_model_module": "@jupyter-widgets/base",
            "top": null,
            "grid_column": null,
            "overflow_y": null,
            "overflow_x": null,
            "grid_auto_flow": null,
            "grid_area": null,
            "grid_template_columns": null,
            "flex": null,
            "_model_name": "LayoutModel",
            "justify_items": null,
            "grid_row": null,
            "max_height": null,
            "align_content": null,
            "visibility": null,
            "align_self": null,
            "height": null,
            "min_height": null,
            "padding": null,
            "grid_auto_rows": null,
            "grid_gap": null,
            "max_width": null,
            "order": null,
            "_view_module_version": "1.2.0",
            "grid_template_areas": null,
            "object_position": null,
            "object_fit": null,
            "grid_auto_columns": null,
            "margin": null,
            "display": null,
            "left": null
          }
        },
        "9dd484a048f7414bb9d0aaa7c12e5ff0": {
          "model_module": "@jupyter-widgets/controls",
          "model_name": "HBoxModel",
          "state": {
            "_view_name": "HBoxView",
            "_dom_classes": [],
            "_model_name": "HBoxModel",
            "_view_module": "@jupyter-widgets/controls",
            "_model_module_version": "1.5.0",
            "_view_count": null,
            "_view_module_version": "1.5.0",
            "box_style": "",
            "layout": "IPY_MODEL_fc9b9974ed784c4db767e90405d31dd4",
            "_model_module": "@jupyter-widgets/controls",
            "children": [
              "IPY_MODEL_1edf56bef57b4de992d4d5c9fbe7dd56",
              "IPY_MODEL_e03ef6f73a00478db7f365aa965f9077"
            ]
          }
        },
        "fc9b9974ed784c4db767e90405d31dd4": {
          "model_module": "@jupyter-widgets/base",
          "model_name": "LayoutModel",
          "state": {
            "_view_name": "LayoutView",
            "grid_template_rows": null,
            "right": null,
            "justify_content": null,
            "_view_module": "@jupyter-widgets/base",
            "overflow": null,
            "_model_module_version": "1.2.0",
            "_view_count": null,
            "flex_flow": null,
            "width": null,
            "min_width": null,
            "border": null,
            "align_items": null,
            "bottom": null,
            "_model_module": "@jupyter-widgets/base",
            "top": null,
            "grid_column": null,
            "overflow_y": null,
            "overflow_x": null,
            "grid_auto_flow": null,
            "grid_area": null,
            "grid_template_columns": null,
            "flex": null,
            "_model_name": "LayoutModel",
            "justify_items": null,
            "grid_row": null,
            "max_height": null,
            "align_content": null,
            "visibility": null,
            "align_self": null,
            "height": null,
            "min_height": null,
            "padding": null,
            "grid_auto_rows": null,
            "grid_gap": null,
            "max_width": null,
            "order": null,
            "_view_module_version": "1.2.0",
            "grid_template_areas": null,
            "object_position": null,
            "object_fit": null,
            "grid_auto_columns": null,
            "margin": null,
            "display": null,
            "left": null
          }
        },
        "1edf56bef57b4de992d4d5c9fbe7dd56": {
          "model_module": "@jupyter-widgets/controls",
          "model_name": "FloatProgressModel",
          "state": {
            "_view_name": "ProgressView",
            "style": "IPY_MODEL_3d4510ef65f444abb9b8ff61e45e281c",
            "_dom_classes": [],
            "description": "  0%",
            "_model_name": "FloatProgressModel",
            "bar_style": "info",
            "max": 1,
            "_view_module": "@jupyter-widgets/controls",
            "_model_module_version": "1.5.0",
            "value": 0,
            "_view_count": null,
            "_view_module_version": "1.5.0",
            "orientation": "horizontal",
            "min": 0,
            "description_tooltip": null,
            "_model_module": "@jupyter-widgets/controls",
            "layout": "IPY_MODEL_c6f74025eccf46e0842ba0c8f4474a76"
          }
        },
        "e03ef6f73a00478db7f365aa965f9077": {
          "model_module": "@jupyter-widgets/controls",
          "model_name": "HTMLModel",
          "state": {
            "_view_name": "HTMLView",
            "style": "IPY_MODEL_9e56ef3fb82b4a5d84241e5b9732528a",
            "_dom_classes": [],
            "description": "",
            "_model_name": "HTMLModel",
            "placeholder": "​",
            "_view_module": "@jupyter-widgets/controls",
            "_model_module_version": "1.5.0",
            "value": " 0/4542 [00:00&lt;?, ?it/s]",
            "_view_count": null,
            "_view_module_version": "1.5.0",
            "description_tooltip": null,
            "_model_module": "@jupyter-widgets/controls",
            "layout": "IPY_MODEL_70fa724a61da4f02bdd9bdd6e5493ff2"
          }
        },
        "3d4510ef65f444abb9b8ff61e45e281c": {
          "model_module": "@jupyter-widgets/controls",
          "model_name": "ProgressStyleModel",
          "state": {
            "_view_name": "StyleView",
            "_model_name": "ProgressStyleModel",
            "description_width": "initial",
            "_view_module": "@jupyter-widgets/base",
            "_model_module_version": "1.5.0",
            "_view_count": null,
            "_view_module_version": "1.2.0",
            "bar_color": null,
            "_model_module": "@jupyter-widgets/controls"
          }
        },
        "c6f74025eccf46e0842ba0c8f4474a76": {
          "model_module": "@jupyter-widgets/base",
          "model_name": "LayoutModel",
          "state": {
            "_view_name": "LayoutView",
            "grid_template_rows": null,
            "right": null,
            "justify_content": null,
            "_view_module": "@jupyter-widgets/base",
            "overflow": null,
            "_model_module_version": "1.2.0",
            "_view_count": null,
            "flex_flow": null,
            "width": null,
            "min_width": null,
            "border": null,
            "align_items": null,
            "bottom": null,
            "_model_module": "@jupyter-widgets/base",
            "top": null,
            "grid_column": null,
            "overflow_y": null,
            "overflow_x": null,
            "grid_auto_flow": null,
            "grid_area": null,
            "grid_template_columns": null,
            "flex": null,
            "_model_name": "LayoutModel",
            "justify_items": null,
            "grid_row": null,
            "max_height": null,
            "align_content": null,
            "visibility": null,
            "align_self": null,
            "height": null,
            "min_height": null,
            "padding": null,
            "grid_auto_rows": null,
            "grid_gap": null,
            "max_width": null,
            "order": null,
            "_view_module_version": "1.2.0",
            "grid_template_areas": null,
            "object_position": null,
            "object_fit": null,
            "grid_auto_columns": null,
            "margin": null,
            "display": null,
            "left": null
          }
        },
        "9e56ef3fb82b4a5d84241e5b9732528a": {
          "model_module": "@jupyter-widgets/controls",
          "model_name": "DescriptionStyleModel",
          "state": {
            "_view_name": "StyleView",
            "_model_name": "DescriptionStyleModel",
            "description_width": "",
            "_view_module": "@jupyter-widgets/base",
            "_model_module_version": "1.5.0",
            "_view_count": null,
            "_view_module_version": "1.2.0",
            "_model_module": "@jupyter-widgets/controls"
          }
        },
        "70fa724a61da4f02bdd9bdd6e5493ff2": {
          "model_module": "@jupyter-widgets/base",
          "model_name": "LayoutModel",
          "state": {
            "_view_name": "LayoutView",
            "grid_template_rows": null,
            "right": null,
            "justify_content": null,
            "_view_module": "@jupyter-widgets/base",
            "overflow": null,
            "_model_module_version": "1.2.0",
            "_view_count": null,
            "flex_flow": null,
            "width": null,
            "min_width": null,
            "border": null,
            "align_items": null,
            "bottom": null,
            "_model_module": "@jupyter-widgets/base",
            "top": null,
            "grid_column": null,
            "overflow_y": null,
            "overflow_x": null,
            "grid_auto_flow": null,
            "grid_area": null,
            "grid_template_columns": null,
            "flex": null,
            "_model_name": "LayoutModel",
            "justify_items": null,
            "grid_row": null,
            "max_height": null,
            "align_content": null,
            "visibility": null,
            "align_self": null,
            "height": null,
            "min_height": null,
            "padding": null,
            "grid_auto_rows": null,
            "grid_gap": null,
            "max_width": null,
            "order": null,
            "_view_module_version": "1.2.0",
            "grid_template_areas": null,
            "object_position": null,
            "object_fit": null,
            "grid_auto_columns": null,
            "margin": null,
            "display": null,
            "left": null
          }
        }
      }
    }
  },
  "cells": [
    {
      "cell_type": "markdown",
      "metadata": {
        "id": "oGfS2g6XvFEw"
      },
      "source": [
        "<table class=\"tfo-notebook-buttons\" align=\"left\">\n",
        "  <td>\n",
        "    <a target=\"_blank\" href=\"https://colab.research.google.com/github/sjchoi86/upstage-basic-deeplearning/blob/main/notebook/cnn.ipynb\"><img src=\"https://www.tensorflow.org/images/colab_logo_32px.png\" />Colab</a>\n",
        "  </td>\n",
        "  <td>\n",
        "    <a target=\"_blank\" href=\"https://github.com/sjchoi86/upstage-basic-deeplearning/blob/main/notebook/cnn.ipynb\"><img src=\"https://www.tensorflow.org/images/GitHub-Mark-32px.png\" />View Source</a>\n",
        "  </td>\n",
        "</table>"
      ]
    },
    {
      "cell_type": "markdown",
      "metadata": {
        "id": "FJIOvMYGLFH6"
      },
      "source": [
        "# Convolutional Neural Network (CNN)"
      ]
    },
    {
      "cell_type": "code",
      "metadata": {
        "colab": {
          "base_uri": "https://localhost:8080/"
        },
        "id": "Ll60eqKptrPs",
        "outputId": "a242093f-1cc9-4a5f-f2c6-16750d59b292"
      },
      "source": [
        "from google.colab import drive\n",
        "drive.mount('/content/drive')"
      ],
      "execution_count": null,
      "outputs": [
        {
          "output_type": "stream",
          "text": [
            "Mounted at /content/drive\n"
          ],
          "name": "stdout"
        }
      ]
    },
    {
      "cell_type": "code",
      "metadata": {
        "id": "khkLmD7yK_ei",
        "colab": {
          "base_uri": "https://localhost:8080/"
        },
        "outputId": "b655d223-8724-4946-a9ac-8b70ce2b6652"
      },
      "source": [
        "import numpy as np\n",
        "import matplotlib.pyplot as plt\n",
        "import torch\n",
        "import torch.nn as nn\n",
        "import torch.optim as optim\n",
        "import torch.nn.functional as F\n",
        "%matplotlib inline\n",
        "%config InlineBackend.figure_format='retina'\n",
        "print (\"PyTorch version:[%s].\"%(torch.__version__))\n",
        "device = torch.device('cuda:0' if torch.cuda.is_available() else 'cpu')\n",
        "print (\"device:[%s].\"%(device))"
      ],
      "execution_count": null,
      "outputs": [
        {
          "output_type": "stream",
          "text": [
            "PyTorch version:[1.7.0+cu101].\n",
            "device:[cuda:0].\n"
          ],
          "name": "stdout"
        }
      ]
    },
    {
      "cell_type": "markdown",
      "metadata": {
        "id": "aciwjqf7MsTa"
      },
      "source": [
        "### Dataset"
      ]
    },
    {
      "cell_type": "code",
      "metadata": {
        "id": "GojZi6XMLZZ5",
        "colab": {
          "base_uri": "https://localhost:8080/",
          "height": 728,
          "referenced_widgets": [
            "ed91e1f119d642129db70e199f799cd8",
            "7f67ea42389c4760acd729d52e975cb2",
            "1a910b24713147d681546ab75342ce40",
            "b1be2d8fc9a146e2b214a90dba3e72d3",
            "0528d27f3b7d4a96970e6c00875065d6",
            "44de7c3e41644037879935ad3fcd7700",
            "94d86bf591024af38e6fd042d5c67a3c",
            "2ea2d3601f8044cb92ae1133be032a0d",
            "74c586f09f804f57905c9204b68d2ba3",
            "c28a7a99d24147cc9e1694fcbc4f0868",
            "ecf0b4ba2c474692b82a2ebfb1eb7e81",
            "5320eaf671024667a969f76dee0edecf",
            "44da02720fe04feabfd297582a10f6ee",
            "3b9935a9482349f091b614d030113d2b",
            "408fc3c52d5d44229180662d2f57d28e",
            "a82dd9068cb940ad9e5eb8c396e11a5d",
            "15d8c8079b674b9bb76f637d22d63e56",
            "75ba902f78cc467b996732899fe7e589",
            "cc1a4f078fe443e69baba5f73b6553ec",
            "ee5d6d385e3c46e2a38a9289d6421961",
            "730e6f299298430c930f04e8e7b4682d",
            "04b4f9f74f5748ff845402fe9828f660",
            "aa311e6173f2418bb059a0d00a9aa796",
            "a380026114ec40aea56fa9be708524c5",
            "9dd484a048f7414bb9d0aaa7c12e5ff0",
            "fc9b9974ed784c4db767e90405d31dd4",
            "1edf56bef57b4de992d4d5c9fbe7dd56",
            "e03ef6f73a00478db7f365aa965f9077",
            "3d4510ef65f444abb9b8ff61e45e281c",
            "c6f74025eccf46e0842ba0c8f4474a76",
            "9e56ef3fb82b4a5d84241e5b9732528a",
            "70fa724a61da4f02bdd9bdd6e5493ff2"
          ]
        },
        "outputId": "32716050-ded4-439f-f9e1-0cf1d2e325cd"
      },
      "source": [
        "from torchvision import datasets,transforms\n",
        "mnist_train = datasets.MNIST(root='./data/',train=True,transform=transforms.ToTensor(),download=True)\n",
        "mnist_test = datasets.MNIST(root='./data/',train=False,transform=transforms.ToTensor(),download=True)\n",
        "print (\"mnist_train:\\n\",mnist_train,\"\\n\")\n",
        "print (\"mnist_test:\\n\",mnist_test,\"\\n\")\n",
        "print (\"Done.\")"
      ],
      "execution_count": null,
      "outputs": [
        {
          "output_type": "stream",
          "text": [
            "Downloading http://yann.lecun.com/exdb/mnist/train-images-idx3-ubyte.gz to ./data/MNIST/raw/train-images-idx3-ubyte.gz\n"
          ],
          "name": "stdout"
        },
        {
          "output_type": "display_data",
          "data": {
            "application/vnd.jupyter.widget-view+json": {
              "model_id": "ed91e1f119d642129db70e199f799cd8",
              "version_minor": 0,
              "version_major": 2
            },
            "text/plain": [
              "HBox(children=(FloatProgress(value=1.0, bar_style='info', max=1.0), HTML(value='')))"
            ]
          },
          "metadata": {
            "tags": []
          }
        },
        {
          "output_type": "stream",
          "text": [
            "Extracting ./data/MNIST/raw/train-images-idx3-ubyte.gz to ./data/MNIST/raw\n",
            "Downloading http://yann.lecun.com/exdb/mnist/train-labels-idx1-ubyte.gz to ./data/MNIST/raw/train-labels-idx1-ubyte.gz\n"
          ],
          "name": "stdout"
        },
        {
          "output_type": "display_data",
          "data": {
            "application/vnd.jupyter.widget-view+json": {
              "model_id": "74c586f09f804f57905c9204b68d2ba3",
              "version_minor": 0,
              "version_major": 2
            },
            "text/plain": [
              "HBox(children=(FloatProgress(value=1.0, bar_style='info', max=1.0), HTML(value='')))"
            ]
          },
          "metadata": {
            "tags": []
          }
        },
        {
          "output_type": "stream",
          "text": [
            "Extracting ./data/MNIST/raw/train-labels-idx1-ubyte.gz to ./data/MNIST/raw\n",
            "Downloading http://yann.lecun.com/exdb/mnist/t10k-images-idx3-ubyte.gz to ./data/MNIST/raw/t10k-images-idx3-ubyte.gz\n"
          ],
          "name": "stdout"
        },
        {
          "output_type": "display_data",
          "data": {
            "application/vnd.jupyter.widget-view+json": {
              "model_id": "15d8c8079b674b9bb76f637d22d63e56",
              "version_minor": 0,
              "version_major": 2
            },
            "text/plain": [
              "HBox(children=(FloatProgress(value=1.0, bar_style='info', max=1.0), HTML(value='')))"
            ]
          },
          "metadata": {
            "tags": []
          }
        },
        {
          "output_type": "stream",
          "text": [
            "Extracting ./data/MNIST/raw/t10k-images-idx3-ubyte.gz to ./data/MNIST/raw\n",
            "Downloading http://yann.lecun.com/exdb/mnist/t10k-labels-idx1-ubyte.gz to ./data/MNIST/raw/t10k-labels-idx1-ubyte.gz\n",
            "\n",
            "\n",
            "\n"
          ],
          "name": "stdout"
        },
        {
          "output_type": "display_data",
          "data": {
            "application/vnd.jupyter.widget-view+json": {
              "model_id": "9dd484a048f7414bb9d0aaa7c12e5ff0",
              "version_minor": 0,
              "version_major": 2
            },
            "text/plain": [
              "HBox(children=(FloatProgress(value=1.0, bar_style='info', max=1.0), HTML(value='')))"
            ]
          },
          "metadata": {
            "tags": []
          }
        },
        {
          "output_type": "stream",
          "text": [
            "Extracting ./data/MNIST/raw/t10k-labels-idx1-ubyte.gz to ./data/MNIST/raw\n",
            "Processing...\n",
            "Done!\n",
            "mnist_train:\n",
            " Dataset MNIST\n",
            "    Number of datapoints: 60000\n",
            "    Root location: ./data/\n",
            "    Split: Train\n",
            "    StandardTransform\n",
            "Transform: ToTensor() \n",
            "\n",
            "mnist_test:\n",
            " Dataset MNIST\n",
            "    Number of datapoints: 10000\n",
            "    Root location: ./data/\n",
            "    Split: Test\n",
            "    StandardTransform\n",
            "Transform: ToTensor() \n",
            "\n",
            "Done.\n"
          ],
          "name": "stdout"
        },
        {
          "output_type": "stream",
          "text": [
            "/usr/local/lib/python3.6/dist-packages/torchvision/datasets/mnist.py:480: UserWarning: The given NumPy array is not writeable, and PyTorch does not support non-writeable tensors. This means you can write to the underlying (supposedly non-writeable) NumPy array using the tensor. You may want to copy the array to protect its data or make it writeable before converting it to a tensor. This type of warning will be suppressed for the rest of this program. (Triggered internally at  /pytorch/torch/csrc/utils/tensor_numpy.cpp:141.)\n",
            "  return torch.from_numpy(parsed.astype(m[2], copy=False)).view(*s)\n"
          ],
          "name": "stderr"
        }
      ]
    },
    {
      "cell_type": "markdown",
      "metadata": {
        "id": "vD9uNmGDN3Fx"
      },
      "source": [
        "### Data Iterator"
      ]
    },
    {
      "cell_type": "code",
      "metadata": {
        "id": "kt2NQt92LaP8",
        "colab": {
          "base_uri": "https://localhost:8080/"
        },
        "outputId": "915c849f-b3e8-4679-febb-ff98f5b28ef9"
      },
      "source": [
        "BATCH_SIZE = 256\n",
        "train_iter = torch.utils.data.DataLoader(mnist_train,batch_size=BATCH_SIZE,shuffle=True,num_workers=1)\n",
        "test_iter = torch.utils.data.DataLoader(mnist_test,batch_size=BATCH_SIZE,shuffle=True,num_workers=1)\n",
        "print (\"Done.\")"
      ],
      "execution_count": null,
      "outputs": [
        {
          "output_type": "stream",
          "text": [
            "Done.\n"
          ],
          "name": "stdout"
        }
      ]
    },
    {
      "cell_type": "markdown",
      "metadata": {
        "id": "Kx8FI2g3ONca"
      },
      "source": [
        "### Define Model"
      ]
    },
    {
      "cell_type": "code",
      "metadata": {
        "id": "hMBOgjaVLalV",
        "colab": {
          "base_uri": "https://localhost:8080/"
        },
        "outputId": "5982cdf3-381f-4937-c088-83aea4317da0"
      },
      "source": [
        "class ConvolutionalNeuralNetworkClass(nn.Module):\n",
        "    \"\"\"\n",
        "        Convolutional Neural Network (CNN) Class\n",
        "    \"\"\"\n",
        "    # conv layer의 channel dim과 mlp의 hidden dim을 \n",
        "    # 정할 수 있도록 하는 것이 네트워크 튜닝에 편하다\n",
        "    def __init__(self,name='cnn',xdim=[1,28,28],\n",
        "                 ksize=3,cdims=[32,64],hdims=[1024,128],ydim=10,\n",
        "                 USE_BATCHNORM=False):\n",
        "        super(ConvolutionalNeuralNetworkClass,self).__init__()\n",
        "        self.name = name\n",
        "        self.xdim = xdim\n",
        "        self.ksize = ksize\n",
        "        self.cdims = cdims\n",
        "        self.hdims = hdims\n",
        "        self.ydim = ydim\n",
        "        self.USE_BATCHNORM = USE_BATCHNORM\n",
        "\n",
        "        # Convolutional layers\n",
        "        self.layers = []\n",
        "        prev_cdim = self.xdim[0]\n",
        "        for cdim in self.cdims: # for each hidden layer\n",
        "            self.layers.append(\n",
        "                nn.Conv2d(\n",
        "                    # FILL IN HERE\n",
        "                    in_channels=prev_cdim,\n",
        "                    out_channels=cdim,\n",
        "                    kernel_size=self.ksize,\n",
        "                    stride=(1, 1),\n",
        "                    padding=self.ksize//2  # input spatial dim과 output spatial dim 같도록\n",
        "                )) # convlution \n",
        "            if self.USE_BATCHNORM:\n",
        "                self.layers.append(nn.BatchNorm2d(cdim)) # batch-norm\n",
        "            self.layers.append(nn.ReLU(True))  # activation\n",
        "            self.layers.append(nn.MaxPool2d(kernel_size=(2,2), stride=(2,2))) # max-pooling, spatial dim 절반씩 줄어든다\n",
        "            self.layers.append(nn.Dropout2d(p=0.5))  # dropout\n",
        "            # batch-norm, dropout - train과 test에서 다르게 동작해야 한다\n",
        "            # 따라서 model.train(), model.eval() 설정해줘야 한다\n",
        "            prev_cdim = cdim\n",
        "\n",
        "        # Dense layers\n",
        "        self.layers.append(nn.Flatten())  # 한 줄로 폈을때 몇 개의 dim이 될지\n",
        "        prev_hdim = prev_cdim*(self.xdim[1]//(2**len(self.cdims)))*(self.xdim[2]//(2**len(self.cdims)))\n",
        "        for hdim in self.hdims:\n",
        "            self.layers.append(nn.Linear(\n",
        "                # FILL IN HERE\n",
        "                prev_hdim, hdim, bias=True\n",
        "                               ))\n",
        "            self.layers.append(nn.ReLU(True))  # activation\n",
        "            prev_hdim = hdim\n",
        "        # Final layer (without activation)\n",
        "        self.layers.append(nn.Linear(prev_hdim,self.ydim,bias=True))\n",
        "\n",
        "        # Concatenate all layers \n",
        "        self.net = nn.Sequential()\n",
        "        for l_idx,layer in enumerate(self.layers):\n",
        "            layer_name = \"%s_%02d\"%(type(layer).__name__.lower(),l_idx)\n",
        "            self.net.add_module(layer_name,layer)\n",
        "            # add_module의 장점: 이름을 정할 수 있다\n",
        "            # tf는 namescope가 있다 - 변수명 정할 수 있다\n",
        "            # pytorch는 namescope가 없어서 변수명 정하는게 자유롭지 않다\n",
        "        self.init_param() # initialize parameters\n",
        "        \n",
        "    def init_param(self):\n",
        "        for m in self.modules():\n",
        "            if isinstance(m,nn.Conv2d): # init conv\n",
        "                nn.init.kaiming_normal_(m.weight)\n",
        "                nn.init.zeros_(m.bias)\n",
        "            elif isinstance(m,nn.BatchNorm2d): # init BN\n",
        "                nn.init.constant_(m.weight,1)\n",
        "                nn.init.constant_(m.bias,0)\n",
        "            elif isinstance(m,nn.Linear): # lnit dense\n",
        "                nn.init.kaiming_normal_(m.weight)\n",
        "                nn.init.zeros_(m.bias)\n",
        "            \n",
        "    def forward(self,x):\n",
        "        return self.net(x)\n",
        "\n",
        "# hdims=[256, 128]일 때 28x28 -> 14x14x32 -> 7x7x64 -> (flatten) -> 256 -> 128 -> 10\n",
        "C = ConvolutionalNeuralNetworkClass(\n",
        "    name='cnn',xdim=[1,28,28],ksize=3,cdims=[32,64],\n",
        "    hdims=[32],ydim=10).to(device)\n",
        "loss = nn.CrossEntropyLoss()\n",
        "optm = optim.Adam(C.parameters(),lr=1e-3)\n",
        "print (\"Done.\")"
      ],
      "execution_count": null,
      "outputs": [
        {
          "output_type": "stream",
          "text": [
            "Done.\n"
          ],
          "name": "stdout"
        }
      ]
    },
    {
      "cell_type": "markdown",
      "metadata": {
        "id": "Gd4GqagEaaxP"
      },
      "source": [
        "### Check Parameters"
      ]
    },
    {
      "cell_type": "code",
      "metadata": {
        "id": "s9JhupRpaahm",
        "colab": {
          "base_uri": "https://localhost:8080/"
        },
        "outputId": "bad447b4-0296-4330-c211-97d6a0153d42"
      },
      "source": [
        "np.set_printoptions(precision=3)\n",
        "n_param = 0\n",
        "for p_idx,(param_name,param) in enumerate(C.named_parameters()):\n",
        "    if param.requires_grad:\n",
        "        param_numpy = param.detach().cpu().numpy() # to numpy array \n",
        "        n_param += len(param_numpy.reshape(-1))\n",
        "        print (\"[%d] name:[%s] shape:[%s].\"%(p_idx,param_name,param_numpy.shape))\n",
        "        print (\"    val:%s\"%(param_numpy.reshape(-1)[:5]))\n",
        "print (\"Total number of parameters:[%s].\"%(format(n_param,',d')))\n",
        "\n",
        "# 0: conv, 1, 2, 3: batch-norm, activation, max-polling, 4:conv, ..."
      ],
      "execution_count": null,
      "outputs": [
        {
          "output_type": "stream",
          "text": [
            "[0] name:[net.conv2d_00.weight] shape:[(32, 1, 3, 3)].\n",
            "    val:[-0.713  0.687  0.385 -0.462  0.952]\n",
            "[1] name:[net.conv2d_00.bias] shape:[(32,)].\n",
            "    val:[0. 0. 0. 0. 0.]\n",
            "[2] name:[net.conv2d_04.weight] shape:[(64, 32, 3, 3)].\n",
            "    val:[ 0.077 -0.011  0.002 -0.017 -0.084]\n",
            "[3] name:[net.conv2d_04.bias] shape:[(64,)].\n",
            "    val:[0. 0. 0. 0. 0.]\n",
            "[4] name:[net.linear_09.weight] shape:[(32, 3136)].\n",
            "    val:[ 0.005  0.031  0.039 -0.007  0.015]\n",
            "[5] name:[net.linear_09.bias] shape:[(32,)].\n",
            "    val:[0. 0. 0. 0. 0.]\n",
            "[6] name:[net.linear_11.weight] shape:[(10, 32)].\n",
            "    val:[-0.028  0.091 -0.106 -0.092 -0.272]\n",
            "[7] name:[net.linear_11.bias] shape:[(10,)].\n",
            "    val:[0. 0. 0. 0. 0.]\n",
            "Total number of parameters:[119,530].\n"
          ],
          "name": "stdout"
        }
      ]
    },
    {
      "cell_type": "markdown",
      "metadata": {
        "id": "i574DsE8Z039"
      },
      "source": [
        "### Simple Forward Path of the CNN Model"
      ]
    },
    {
      "cell_type": "code",
      "metadata": {
        "id": "cJl7XSQMORAZ",
        "colab": {
          "base_uri": "https://localhost:8080/"
        },
        "outputId": "8e803830-3329-4df9-b2dd-6dfdd9800288"
      },
      "source": [
        "np.set_printoptions(precision=3)\n",
        "torch.set_printoptions(precision=3)\n",
        "x_numpy = np.random.rand(2,1,28,28)\n",
        "x_torch = torch.from_numpy(x_numpy).float().to(device)\n",
        "y_torch = C.forward(x_torch) # forward path\n",
        "y_numpy = y_torch.detach().cpu().numpy() # torch tensor to numpy array\n",
        "# .detach().cpu().numpy()\n",
        "print (\"x_torch:\\n\",x_torch)\n",
        "print (\"y_torch:\\n\",y_torch)\n",
        "print (\"\\nx_numpy %s:\\n\"%(x_numpy.shape,),x_numpy)\n",
        "print (\"y_numpy %s:\\n\"%(y_numpy.shape,),y_numpy)"
      ],
      "execution_count": null,
      "outputs": [
        {
          "output_type": "stream",
          "text": [
            "x_torch:\n",
            " tensor([[[[0.544, 0.033, 0.822,  ..., 0.149, 0.013, 0.871],\n",
            "          [0.137, 0.341, 0.897,  ..., 0.228, 0.209, 0.229],\n",
            "          [0.453, 0.769, 0.104,  ..., 0.711, 0.639, 0.344],\n",
            "          ...,\n",
            "          [0.982, 0.103, 0.147,  ..., 0.414, 0.970, 0.320],\n",
            "          [0.575, 0.281, 0.684,  ..., 0.870, 0.422, 0.146],\n",
            "          [0.358, 0.122, 0.034,  ..., 0.249, 0.956, 0.125]]],\n",
            "\n",
            "\n",
            "        [[[0.250, 0.727, 0.811,  ..., 0.721, 0.360, 0.608],\n",
            "          [0.936, 0.184, 0.914,  ..., 0.662, 0.784, 0.671],\n",
            "          [0.866, 0.232, 0.688,  ..., 0.015, 0.183, 0.664],\n",
            "          ...,\n",
            "          [0.514, 0.646, 0.626,  ..., 0.992, 0.672, 0.137],\n",
            "          [0.186, 0.876, 0.065,  ..., 0.166, 0.933, 0.465],\n",
            "          [0.915, 0.562, 0.068,  ..., 0.448, 0.111, 0.202]]]], device='cuda:0')\n",
            "y_torch:\n",
            " tensor([[-1.700, -0.891, -0.372,  3.157, -1.995, -1.316, -5.234, -0.254, -1.618,\n",
            "         -2.993],\n",
            "        [-2.653, -0.074,  0.995,  2.321, -0.745,  2.742,  2.984,  0.153, -4.927,\n",
            "         -0.757]], device='cuda:0', grad_fn=<AddmmBackward>)\n",
            "\n",
            "x_numpy (2, 1, 28, 28):\n",
            " [[[[0.544 0.033 0.822 ... 0.149 0.013 0.871]\n",
            "   [0.137 0.341 0.897 ... 0.228 0.209 0.229]\n",
            "   [0.453 0.769 0.104 ... 0.711 0.639 0.344]\n",
            "   ...\n",
            "   [0.982 0.103 0.147 ... 0.414 0.97  0.32 ]\n",
            "   [0.575 0.281 0.684 ... 0.87  0.422 0.146]\n",
            "   [0.358 0.122 0.034 ... 0.249 0.956 0.125]]]\n",
            "\n",
            "\n",
            " [[[0.25  0.727 0.811 ... 0.721 0.36  0.608]\n",
            "   [0.936 0.184 0.914 ... 0.662 0.784 0.671]\n",
            "   [0.866 0.232 0.688 ... 0.015 0.183 0.664]\n",
            "   ...\n",
            "   [0.514 0.646 0.626 ... 0.992 0.672 0.137]\n",
            "   [0.186 0.876 0.065 ... 0.166 0.933 0.465]\n",
            "   [0.915 0.562 0.068 ... 0.448 0.111 0.202]]]]\n",
            "y_numpy (2, 10):\n",
            " [[-1.7   -0.891 -0.372  3.157 -1.995 -1.316 -5.234 -0.254 -1.618 -2.993]\n",
            " [-2.653 -0.074  0.995  2.321 -0.745  2.742  2.984  0.153 -4.927 -0.757]]\n"
          ],
          "name": "stdout"
        }
      ]
    },
    {
      "cell_type": "markdown",
      "metadata": {
        "id": "9-qCaXAKcOLx"
      },
      "source": [
        "### Evaluation Function"
      ]
    },
    {
      "cell_type": "code",
      "metadata": {
        "id": "q9LmS7OqcNzh",
        "colab": {
          "base_uri": "https://localhost:8080/"
        },
        "outputId": "5508e734-647d-47ff-8a24-0e4025ae56ea"
      },
      "source": [
        "def func_eval(model,data_iter,device):\n",
        "    with torch.no_grad():\n",
        "        n_total,n_correct = 0,0\n",
        "        #####################################################\n",
        "        model.eval() # evaluate (affects DropOut and BN)\n",
        "        #####################################################\n",
        "        for batch_in,batch_out in data_iter:\n",
        "            y_trgt = batch_out.to(device)\n",
        "            model_pred = model(batch_in.view(-1,1,28,28).to(device))\n",
        "            _,y_pred = torch.max(model_pred.data,1)\n",
        "            n_correct += (y_pred==y_trgt).sum().item()\n",
        "            n_total += batch_in.size(0)\n",
        "        val_accr = (n_correct/n_total)\n",
        "        model.train() # back to train mode \n",
        "    return val_accr\n",
        "print (\"Done\")"
      ],
      "execution_count": null,
      "outputs": [
        {
          "output_type": "stream",
          "text": [
            "Done\n"
          ],
          "name": "stdout"
        }
      ]
    },
    {
      "cell_type": "markdown",
      "metadata": {
        "id": "iy7XZ21CiNZA"
      },
      "source": [
        "### Initial Evaluation"
      ]
    },
    {
      "cell_type": "code",
      "metadata": {
        "id": "EMR1DaAyLa5Y",
        "colab": {
          "base_uri": "https://localhost:8080/"
        },
        "outputId": "62abd644-4ed7-4cbb-8351-87b7ff81a29b"
      },
      "source": [
        "C.init_param() # initialize parameters\n",
        "train_accr = func_eval(C,train_iter,device)\n",
        "test_accr = func_eval(C,test_iter,device)\n",
        "print (\"train_accr:[%.3f] test_accr:[%.3f].\"%(train_accr,test_accr))"
      ],
      "execution_count": null,
      "outputs": [
        {
          "output_type": "stream",
          "text": [
            "train_accr:[0.095] test_accr:[0.095].\n"
          ],
          "name": "stdout"
        }
      ]
    },
    {
      "cell_type": "markdown",
      "metadata": {
        "id": "c6s_S4BIipcT"
      },
      "source": [
        "### Train"
      ]
    },
    {
      "cell_type": "code",
      "metadata": {
        "id": "2LNJOJVCiO3k",
        "colab": {
          "base_uri": "https://localhost:8080/"
        },
        "outputId": "a52930d0-5f66-4fff-dfa0-f2e94bb1053d"
      },
      "source": [
        "print (\"Start training.\")\n",
        "C.init_param() # initialize parameters\n",
        "###################################\n",
        "C.train() # to train mode \n",
        "###################################\n",
        "EPOCHS,print_every = 10,1\n",
        "for epoch in range(EPOCHS):\n",
        "    loss_val_sum = 0\n",
        "    for batch_in,batch_out in train_iter:\n",
        "        # Forward path\n",
        "        y_pred = C.forward(batch_in.view(-1,1,28,28).to(device))\n",
        "        loss_out = loss(y_pred,batch_out.to(device))\n",
        "        # Update\n",
        "        optm.zero_grad()      # reset gradient \n",
        "        loss_out.backward()      # backpropagate\n",
        "        optm.step()      # optimizer update\n",
        "        loss_val_sum += loss_out\n",
        "    loss_val_avg = loss_val_sum/len(train_iter)\n",
        "    # Print\n",
        "    if ((epoch%print_every)==0) or (epoch==(EPOCHS-1)):\n",
        "        train_accr = func_eval(C,train_iter,device)\n",
        "        test_accr = func_eval(C,test_iter,device)\n",
        "        print (\"epoch:[%d] loss:[%.3f] train_accr:[%.3f] test_accr:[%.3f].\"%\n",
        "               (epoch,loss_val_avg,train_accr,test_accr))\n",
        "print (\"Done\")\n",
        "\n",
        "# 앞의 mlp 코드와 다를게 없다!\n",
        "# 모델 안에서 mlp를 쓰는지 cnn을 쓰는지만 바뀌었고\n",
        "# 같은 데이터셋, optimizer, loss function 활용한다\n",
        "\n",
        "# train - test 성능 차이 별로 없다\n",
        "# generalization performance 좋다 -> cnn이 image에 적합"
      ],
      "execution_count": null,
      "outputs": [
        {
          "output_type": "stream",
          "text": [
            "Start training.\n",
            "epoch:[0] loss:[0.575] train_accr:[0.955] test_accr:[0.958].\n",
            "epoch:[1] loss:[0.178] train_accr:[0.972] test_accr:[0.974].\n",
            "epoch:[2] loss:[0.124] train_accr:[0.981] test_accr:[0.981].\n",
            "epoch:[3] loss:[0.104] train_accr:[0.984] test_accr:[0.985].\n",
            "epoch:[4] loss:[0.092] train_accr:[0.986] test_accr:[0.984].\n",
            "epoch:[5] loss:[0.083] train_accr:[0.988] test_accr:[0.985].\n",
            "epoch:[6] loss:[0.076] train_accr:[0.989] test_accr:[0.988].\n",
            "epoch:[7] loss:[0.069] train_accr:[0.990] test_accr:[0.988].\n",
            "epoch:[8] loss:[0.064] train_accr:[0.990] test_accr:[0.988].\n",
            "epoch:[9] loss:[0.063] train_accr:[0.991] test_accr:[0.989].\n",
            "Done\n"
          ],
          "name": "stdout"
        }
      ]
    },
    {
      "cell_type": "markdown",
      "metadata": {
        "id": "ceHT-OdujWMS"
      },
      "source": [
        "### Test"
      ]
    },
    {
      "cell_type": "code",
      "metadata": {
        "id": "x1CZBbCwjMh7",
        "colab": {
          "base_uri": "https://localhost:8080/",
          "height": 608
        },
        "outputId": "5cc16cd5-98f4-4443-dc1a-651d71421a9a"
      },
      "source": [
        "n_sample = 25\n",
        "sample_indices = np.random.choice(len(mnist_test.targets),n_sample,replace=False)\n",
        "test_x = mnist_test.data[sample_indices]\n",
        "test_y = mnist_test.targets[sample_indices]\n",
        "with torch.no_grad():\n",
        "    C.eval() # to evaluation mode \n",
        "    y_pred = C.forward(test_x.view(-1,1,28,28).type(torch.float).to(device)/255.)\n",
        "y_pred = y_pred.argmax(axis=1)\n",
        "plt.figure(figsize=(10,10))\n",
        "for idx in range(n_sample):\n",
        "    plt.subplot(5, 5, idx+1)\n",
        "    plt.imshow(test_x[idx], cmap='gray')\n",
        "    plt.axis('off')\n",
        "    plt.title(\"Pred:%d, Label:%d\"%(y_pred[idx],test_y[idx]))\n",
        "plt.show()    \n",
        "print (\"Done\")"
      ],
      "execution_count": null,
      "outputs": [
        {
          "output_type": "display_data",
          "data": {
            "image/png": "[encoded data removed]",
            "text/plain": [
              "<Figure size 720x720 with 25 Axes>"
            ]
          },
          "metadata": {
            "tags": [],
            "image/png": {
              "width": 569,
              "height": 573
            },
            "needs_background": "light"
          }
        },
        {
          "output_type": "stream",
          "text": [
            "Done\n"
          ],
          "name": "stdout"
        }
      ]
    },
    {
      "cell_type": "code",
      "metadata": {
        "id": "i6poTCYZj4uM"
      },
      "source": [
        ""
      ],
      "execution_count": null,
      "outputs": []
    }
  ]
}