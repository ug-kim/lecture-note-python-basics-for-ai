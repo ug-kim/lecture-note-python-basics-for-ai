{
  "nbformat": 4,
  "nbformat_minor": 0,
  "metadata": {
    "colab": {
      "name": "chroller.ipynb",
      "provenance": []
    },
    "kernelspec": {
      "name": "python3",
      "display_name": "Python 3"
    }
  },
  "cells": [
    {
      "cell_type": "code",
      "metadata": {
        "colab": {
          "base_uri": "https://localhost:8080/"
        },
        "id": "M0Wno4Gf0GM3",
        "outputId": "b1872c35-a2ca-4aba-9f8d-6380d40b314c"
      },
      "source": [
        "!pip3 install --upgrade git+https://github.com/Joeclinton1/google-images-download.git"
      ],
      "execution_count": null,
      "outputs": [
        {
          "output_type": "stream",
          "text": [
            "Collecting git+https://github.com/Joeclinton1/google-images-download.git\n",
            "  Cloning https://github.com/Joeclinton1/google-images-download.git to /tmp/pip-req-build-548af509\n",
            "  Running command git clone -q https://github.com/Joeclinton1/google-images-download.git /tmp/pip-req-build-548af509\n",
            "Collecting selenium\n",
            "\u001b[?25l  Downloading https://files.pythonhosted.org/packages/80/d6/4294f0b4bce4de0abf13e17190289f9d0613b0a44e5dd6a7f5ca98459853/selenium-3.141.0-py2.py3-none-any.whl (904kB)\n",
            "\u001b[K     |████████████████████████████████| 911kB 7.4MB/s \n",
            "\u001b[?25hRequirement already satisfied, skipping upgrade: urllib3 in /usr/local/lib/python3.6/dist-packages (from selenium->google-images-download==2.8.0) (1.24.3)\n",
            "Building wheels for collected packages: google-images-download\n",
            "  Building wheel for google-images-download (setup.py) ... \u001b[?25l\u001b[?25hdone\n",
            "  Created wheel for google-images-download: filename=google_images_download-2.8.0-py2.py3-none-any.whl size=15833 sha256=28fbfb9ae2fa5fb487b61b982abb0c2402a7d390aa85481e5a9fba7cc6dc863e\n",
            "  Stored in directory: /tmp/pip-ephem-wheel-cache-uymhet5k/wheels/1a/36/c9/53bd827bc241b69fe47b90731625459627f82694ecd8a88273\n",
            "Successfully built google-images-download\n",
            "Installing collected packages: selenium, google-images-download\n",
            "Successfully installed google-images-download-2.8.0 selenium-3.141.0\n"
          ],
          "name": "stdout"
        }
      ]
    },
    {
      "cell_type": "code",
      "metadata": {
        "colab": {
          "base_uri": "https://localhost:8080/"
        },
        "id": "23JYGabK0YGS",
        "outputId": "0f87e67b-f4ea-4581-ded6-741d6ad801f4"
      },
      "source": [
        "!sudo apt-get install chromium-chromedriver"
      ],
      "execution_count": null,
      "outputs": [
        {
          "output_type": "stream",
          "text": [
            "Reading package lists... Done\n",
            "Building dependency tree       \n",
            "Reading state information... Done\n",
            "The following additional packages will be installed:\n",
            "  chromium-browser chromium-browser-l10n chromium-codecs-ffmpeg-extra\n",
            "Suggested packages:\n",
            "  webaccounts-chromium-extension unity-chromium-extension adobe-flashplugin\n",
            "The following NEW packages will be installed:\n",
            "  chromium-browser chromium-browser-l10n chromium-chromedriver\n",
            "  chromium-codecs-ffmpeg-extra\n",
            "0 upgraded, 4 newly installed, 0 to remove and 15 not upgraded.\n",
            "Need to get 81.0 MB of archives.\n",
            "After this operation, 273 MB of additional disk space will be used.\n",
            "Get:1 http://archive.ubuntu.com/ubuntu bionic-updates/universe amd64 chromium-codecs-ffmpeg-extra amd64 87.0.4280.66-0ubuntu0.18.04.1 [1,122 kB]\n",
            "Get:2 http://archive.ubuntu.com/ubuntu bionic-updates/universe amd64 chromium-browser amd64 87.0.4280.66-0ubuntu0.18.04.1 [71.7 MB]\n",
            "Get:3 http://archive.ubuntu.com/ubuntu bionic-updates/universe amd64 chromium-browser-l10n all 87.0.4280.66-0ubuntu0.18.04.1 [3,716 kB]\n",
            "Get:4 http://archive.ubuntu.com/ubuntu bionic-updates/universe amd64 chromium-chromedriver amd64 87.0.4280.66-0ubuntu0.18.04.1 [4,488 kB]\n",
            "Fetched 81.0 MB in 5s (15.4 MB/s)\n",
            "debconf: unable to initialize frontend: Dialog\n",
            "debconf: (No usable dialog-like program is installed, so the dialog based frontend cannot be used. at /usr/share/perl5/Debconf/FrontEnd/Dialog.pm line 76, <> line 4.)\n",
            "debconf: falling back to frontend: Readline\n",
            "debconf: unable to initialize frontend: Readline\n",
            "debconf: (This frontend requires a controlling tty.)\n",
            "debconf: falling back to frontend: Teletype\n",
            "dpkg-preconfigure: unable to re-open stdin: \n",
            "Selecting previously unselected package chromium-codecs-ffmpeg-extra.\n",
            "(Reading database ... 146442 files and directories currently installed.)\n",
            "Preparing to unpack .../chromium-codecs-ffmpeg-extra_87.0.4280.66-0ubuntu0.18.04.1_amd64.deb ...\n",
            "Unpacking chromium-codecs-ffmpeg-extra (87.0.4280.66-0ubuntu0.18.04.1) ...\n",
            "Selecting previously unselected package chromium-browser.\n",
            "Preparing to unpack .../chromium-browser_87.0.4280.66-0ubuntu0.18.04.1_amd64.deb ...\n",
            "Unpacking chromium-browser (87.0.4280.66-0ubuntu0.18.04.1) ...\n",
            "Selecting previously unselected package chromium-browser-l10n.\n",
            "Preparing to unpack .../chromium-browser-l10n_87.0.4280.66-0ubuntu0.18.04.1_all.deb ...\n",
            "Unpacking chromium-browser-l10n (87.0.4280.66-0ubuntu0.18.04.1) ...\n",
            "Selecting previously unselected package chromium-chromedriver.\n",
            "Preparing to unpack .../chromium-chromedriver_87.0.4280.66-0ubuntu0.18.04.1_amd64.deb ...\n",
            "Unpacking chromium-chromedriver (87.0.4280.66-0ubuntu0.18.04.1) ...\n",
            "Setting up chromium-codecs-ffmpeg-extra (87.0.4280.66-0ubuntu0.18.04.1) ...\n",
            "Setting up chromium-browser (87.0.4280.66-0ubuntu0.18.04.1) ...\n",
            "update-alternatives: using /usr/bin/chromium-browser to provide /usr/bin/x-www-browser (x-www-browser) in auto mode\n",
            "update-alternatives: using /usr/bin/chromium-browser to provide /usr/bin/gnome-www-browser (gnome-www-browser) in auto mode\n",
            "Setting up chromium-chromedriver (87.0.4280.66-0ubuntu0.18.04.1) ...\n",
            "Setting up chromium-browser-l10n (87.0.4280.66-0ubuntu0.18.04.1) ...\n",
            "Processing triggers for hicolor-icon-theme (0.17-2) ...\n",
            "Processing triggers for mime-support (3.60ubuntu1) ...\n",
            "Processing triggers for man-db (2.8.3-2ubuntu0.1) ...\n"
          ],
          "name": "stdout"
        }
      ]
    },
    {
      "cell_type": "code",
      "metadata": {
        "colab": {
          "base_uri": "https://localhost:8080/"
        },
        "id": "I6neraFK0a62",
        "outputId": "939dc07d-30b5-42dd-d0b5-de73172a2b40"
      },
      "source": [
        "!googleimagesdownload --keywords \"stitch scenes\" --limit 100 --format jpg --output_directory /content/drive/MyDrive/workspace/disney/stitch -cd /usr/lib/chromium-browser/chromedriver"
      ],
      "execution_count": null,
      "outputs": [
        {
          "output_type": "stream",
          "text": [
            "\n",
            "Item no.: 1 --> Item name = stitch scenes\n",
            "Evaluating...\n",
            "Starting Download...\n",
            "Completed Image ====> 1.maxresdefault.jpg\n",
            "Completed Image ====> 2.maxresdefault.jpg\n",
            "Completed Image ====> 3.d03f766a1d6e737f10d95c38c57c27f939f39cf9.jpg\n",
            "Completed Image ====> 4.lilo-and-stitch.jpg\n",
            "Completed Image ====> 5.450.jpg\n",
            "Completed Image ====> 6.image_e805c1d8.jpeg\n",
            "Completed Image ====> 7.7c10aa0f01183e6bc88248dc50b33f54.jpg\n",
            "Completed Image ====> 8.maxresdefault.jpg\n",
            "Completed Image ====> 9.stitch-and-lilo-dancing.jpg.webp\n",
            "Completed Image ====> 10.5bb50bf10114554474479f35.jpg\n",
            "Completed Image ====> 11.920x920.jpg\n",
            "Completed Image ====> 12.b699ed0b4e4cd51406bc98811f05db89.jpg\n",
            "Completed Image ====> 13.this-deleted-lilo-stitch-scene-exposes-the-harsh-realities-of-ignorant-tourism-550927.jpg\n",
            "Completed Image ====> 14.lilo-and-stitch.jpg\n",
            "Completed Image ====> 15.1616-lilo-stitch-revisited-part-i.jpg\n",
            "Completed Image ====> 16.595166107.0.jpg\n",
            "Completed Image ====> 17.stitch_featured.jpg\n",
            "Completed Image ====> 18.stitch-lilo-and-stitch.jpg\n",
            "Completed Image ====> 19.mqdefault.jpg\n",
            "Completed Image ====> 20.5bbd109901145551294977b4.jpg\n",
            "Completed Image ====> 21.923243_081115-cc-lilo-stitch-img.jpg\n",
            "Completed Image ====> 22.lilo-stitch-postcard-hidden-disney.jpg\n",
            "Completed Image ====> 23.1180x600-010621010621_stitch-crashes-disney-films-iris.jpg\n",
            "Completed Image ====> 24.lilo31.jpg\n",
            "Completed Image ====> 25.972fdfdd62a96999cc8a7c462a440951.jpg\n",
            "Completed Image ====> 26.4m3czdompmrxcqpu6eds.jpg\n",
            "Completed Image ====> 27.1004_01-stitchhuladancing.jpg\n",
            "Completed Image ====> 28.maxresdefault.jpg\n",
            "Completed Image ====> 29.top-disney-world-quick-service-restaurants-to-visit-this-year-82-382x200.jpg\n",
            "Completed Image ====> 30.sub-buzz-395-1584982434-1.png.jpg\n",
            "Completed Image ====> 31.lilo-and-stitch-quotes.jpg\n",
            "Completed Image ====> 32.stitchs_lost_moment.jpg\n",
            "Completed Image ====> 33.0fa9d578c37326507cf332b42589ec0c3fe952ca.jpg\n",
            "URLError on an image...trying next one... Error: HTTP Error 404: Not Found\n",
            "Completed Image ====> 34.lilostitch07-740x441.jpg\n",
            "Completed Image ====> 35.lilo.jpg\n",
            "Completed Image ====> 36.59b6b2d3cff4d74b108b477b.jpg\n",
            "Completed Image ====> 37.1238083421_3.jpg\n",
            "Completed Image ====> 38.340.jpg\n",
            "Completed Image ====> 39.lilostitch_352x234.jpg\n",
            "Completed Image ====> 40.maxresdefault.jpg\n",
            "Completed Image ====> 41.maxresdefault.jpg\n",
            "Completed Image ====> 42.d1d16eb74e223caf2584f0103064ce6e.jpg\n",
            "Completed Image ====> 43.3a6ac761029b6b3b4ec130b10e136dc4.jpg\n",
            "Completed Image ====> 44.713v9zqzicl.jpg\n",
            "Completed Image ====> 45.lilo11.jpg\n",
            "Completed Image ====> 46.lilo-stitch-2-stitch-has-a-glitch_668_330_80_int_s_c1.jpg\n",
            "Completed Image ====> 47.liloandstitch_1.jpg\n",
            "Completed Image ====> 48.ucqo37gqxwaeaygmht7i.jpg\n",
            "Completed Image ====> 49.lilo-and-stitch-disney-plus-changes.jpg\n",
            "Completed Image ====> 50.lilo-and-stitch-89194e60-6489-402e-9e6b-003187d2a7f-resize-750.jpg\n",
            "Completed Image ====> 51.liloandstitch2dvd.jpg\n",
            "Completed Image ====> 52.img.jpg\n",
            "Completed Image ====> 53.3973-orig.jpg\n",
            "Completed Image ====> 54.film-trivia-lilo-and-stitch-watercolor-background.jpg\n",
            "Completed Image ====> 55.1124671020.jpg\n",
            "Completed Image ====> 56.lilostitch09-740x442.jpg\n",
            "Completed Image ====> 57.lilo2.jpg\n",
            "Completed Image ====> 58.stitch-has-landed-lilo-and-stitch.jpg\n",
            "Completed Image ====> 59.latest.jpg\n",
            "Completed Image ====> 60.maxresdefault.jpg\n",
            "Completed Image ====> 61.lilo-stitch-e1586554363899.jpeg\n",
            "Completed Image ====> 62.lilo-before-668x437.jpg\n",
            "Completed Image ====> 63.5bbd142c011455188876c4e3.jpg\n",
            "Completed Image ====> 64.s-l300.jpg\n",
            "Completed Image ====> 65.gentleaesthetic.jpg\n",
            "URLError on an image...trying next one... Error: HTTP Error 404: Not Found\n",
            "Completed Image ====> 66.liloandstitch-ending-911.jpg\n",
            "Completed Image ====> 67.v1.bjsxotmxmzy3o2o7mtg3mju7mja0odsxmdgwoze5mja.jpg\n",
            "Completed Image ====> 68.17918.jpg\n",
            "Completed Image ====> 69.ls7.jpg\n",
            "Completed Image ====> 70.98f871fd8a8c4562caa4dc9350727739.jpg\n",
            "Completed Image ====> 71.lilo%2band%2bstitch%2bquotes%2b%252851%2529.jpg\n",
            "Completed Image ====> 72.2920de1d-6fd3-4b5c-aea9-16e5da72af2d_1.3a7204c84aaa74ebd0dcba3f4e34280b.jpeg\n",
            "Completed Image ====> 73.liloandstitch-05.jpg\n",
            "Completed Image ====> 74.liloandstitchmovieposter.jpg\n",
            "Completed Image ====> 75.efpb9njxoaa7vwn.jpg\n",
            "Completed Image ====> 76.film__3920-lilo-and-stitch-ii-stitch-has-a-glitch--hi_res-61805bfc.jpg\n",
            "Completed Image ====> 77.s-l300.jpg\n",
            "Completed Image ====> 78.jumba-jookiba.jpg\n",
            "Completed Image ====> 79.1098785_1345075965586_full.jpg\n",
            "Completed Image ====> 80.71dwkp9s1ul._ac_sy606_.jpg\n",
            "Completed Image ====> 81.lilo-stitch-deleted-header.jpg\n",
            "Completed Image ====> 82.unvnt3ddirv9dnfixzztan48ozqtkri0zd0apcm4gju.jpg\n",
            "Completed Image ====> 83.lilostitchbd-10.jpg\n",
            "Completed Image ====> 84.mv5bytfiyzi3zjqtytqzzc00zju2ltlmmzytzjhlzdviztbhmdq4xkeyxkfqcgdeqxvynzu1nze3ntg@._v1_cr0,45,480,270_al_ux477_cr0,0,477,268_al_.jpg\n",
            "Completed Image ====> 85.hqdefault.jpg\n",
            "Completed Image ====> 86.the-main-relationship-300x225.jpg\n",
            "Completed Image ====> 87.hidden-a113-lilo-stitch.png.jpg\n",
            "Completed Image ====> 88.lilo-and-stitch-2-stitch-has-a-glitch-dvd-lilo-and-stitch-35876278-300-200.jpg\n",
            "Completed Image ====> 89.https%3a%2f%2fs3-images.ladbible.com%2fs3%2fcontent%2f9cbe01655b8d8046230ae9224667dc7d.png.jpg\n",
            "Completed Image ====> 90.lilo-stitch-deleted-scene-took-on-racism-1-20689-1349193342-0_big.jpg\n",
            "URLError on an image...trying next one... Error: HTTP Error 404: Not Found\n",
            "Completed Image ====> 91.tumblr_om56g13est1v3g5l4o9_1280.jpg\n",
            "Completed Image ====> 92.lilo-and-stitch.jpg\n",
            "Completed Image ====> 93.lilostitch05.jpg\n",
            "Completed Image ====> 94.lilo-stitch-2002-hawaiian-roller-coaster-scene-youtube-thumbnail.jpg\n",
            "Completed Image ====> 95.780w-463h-010621_stitch-crashes-disney-films-01.jpg\n",
            "Completed Image ====> 96.5d-diy-diamond-painting-kit-cross-stitch-fantasy-wonderland-game-scenes-full-round-diamond-embroidery-diamond.jpg\n",
            "Completed Image ====> 97.300.jpg\n",
            "\n",
            "\n",
            "Unfortunately all 100 could not be downloaded because some images were not downloadable. 97 is all we got for this search filter!\n",
            "\n",
            "Errors: 3\n",
            "\n",
            "\n",
            "Everything downloaded!\n",
            "Total errors: 3\n",
            "Total time taken: 26.87985897064209 Seconds\n"
          ],
          "name": "stdout"
        }
      ]
    },
    {
      "cell_type": "code",
      "metadata": {
        "colab": {
          "base_uri": "https://localhost:8080/",
          "height": 35
        },
        "id": "hLUEKewN0-JW",
        "outputId": "7ea7491b-c1ac-40f2-d13c-8a765e7537ae"
      },
      "source": [
        "import os\r\n",
        "\r\n",
        "os.getcwd()"
      ],
      "execution_count": null,
      "outputs": [
        {
          "output_type": "execute_result",
          "data": {
            "application/vnd.google.colaboratory.intrinsic+json": {
              "type": "string"
            },
            "text/plain": [
              "'/content'"
            ]
          },
          "metadata": {
            "tags": []
          },
          "execution_count": 4
        }
      ]
    },
    {
      "cell_type": "code",
      "metadata": {
        "id": "cQw0Bk6_1Eff"
      },
      "source": [
        ""
      ],
      "execution_count": null,
      "outputs": []
    }
  ]
}